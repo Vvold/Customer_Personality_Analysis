{
 "cells": [
  {
   "cell_type": "code",
   "execution_count": 48,
   "id": "ee6ad2d5",
   "metadata": {},
   "outputs": [],
   "source": [
    "import pandas as pd\n",
    "import numpy as np\n",
    "import datetime\n",
    "import matplotlib.pyplot as plt\n",
    "import seaborn as sns\n",
    "import plotly.express as px\n",
    "import plotly.graph_objects as go\n",
    "from sklearn.preprocessing import LabelEncoder\n",
    "from sklearn.preprocessing import StandardScaler\n",
    "from sklearn.cluster import KMeans\n",
    "%matplotlib inline"
   ]
  },
  {
   "cell_type": "code",
   "execution_count": 49,
   "id": "bd63f468",
   "metadata": {},
   "outputs": [],
   "source": [
    "#read dateset\n",
    "df = pd.read_csv('marketing_campaign.csv', sep = '\\t')"
   ]
  },
  {
   "cell_type": "code",
   "execution_count": 50,
   "id": "871f056d-023f-489b-a316-74d5ec17be15",
   "metadata": {},
   "outputs": [
    {
     "data": {
      "text/html": [
       "<div>\n",
       "<style scoped>\n",
       "    .dataframe tbody tr th:only-of-type {\n",
       "        vertical-align: middle;\n",
       "    }\n",
       "\n",
       "    .dataframe tbody tr th {\n",
       "        vertical-align: top;\n",
       "    }\n",
       "\n",
       "    .dataframe thead th {\n",
       "        text-align: right;\n",
       "    }\n",
       "</style>\n",
       "<table border=\"1\" class=\"dataframe\">\n",
       "  <thead>\n",
       "    <tr style=\"text-align: right;\">\n",
       "      <th></th>\n",
       "      <th>ID</th>\n",
       "      <th>Year_Birth</th>\n",
       "      <th>Education</th>\n",
       "      <th>Marital_Status</th>\n",
       "      <th>Income</th>\n",
       "      <th>Kidhome</th>\n",
       "      <th>Teenhome</th>\n",
       "      <th>Dt_Customer</th>\n",
       "      <th>Recency</th>\n",
       "      <th>MntWines</th>\n",
       "      <th>...</th>\n",
       "      <th>NumWebVisitsMonth</th>\n",
       "      <th>AcceptedCmp3</th>\n",
       "      <th>AcceptedCmp4</th>\n",
       "      <th>AcceptedCmp5</th>\n",
       "      <th>AcceptedCmp1</th>\n",
       "      <th>AcceptedCmp2</th>\n",
       "      <th>Complain</th>\n",
       "      <th>Z_CostContact</th>\n",
       "      <th>Z_Revenue</th>\n",
       "      <th>Response</th>\n",
       "    </tr>\n",
       "  </thead>\n",
       "  <tbody>\n",
       "    <tr>\n",
       "      <th>0</th>\n",
       "      <td>5524</td>\n",
       "      <td>1957</td>\n",
       "      <td>Graduation</td>\n",
       "      <td>Single</td>\n",
       "      <td>58138.0</td>\n",
       "      <td>0</td>\n",
       "      <td>0</td>\n",
       "      <td>04-09-2012</td>\n",
       "      <td>58</td>\n",
       "      <td>635</td>\n",
       "      <td>...</td>\n",
       "      <td>7</td>\n",
       "      <td>0</td>\n",
       "      <td>0</td>\n",
       "      <td>0</td>\n",
       "      <td>0</td>\n",
       "      <td>0</td>\n",
       "      <td>0</td>\n",
       "      <td>3</td>\n",
       "      <td>11</td>\n",
       "      <td>1</td>\n",
       "    </tr>\n",
       "    <tr>\n",
       "      <th>1</th>\n",
       "      <td>2174</td>\n",
       "      <td>1954</td>\n",
       "      <td>Graduation</td>\n",
       "      <td>Single</td>\n",
       "      <td>46344.0</td>\n",
       "      <td>1</td>\n",
       "      <td>1</td>\n",
       "      <td>08-03-2014</td>\n",
       "      <td>38</td>\n",
       "      <td>11</td>\n",
       "      <td>...</td>\n",
       "      <td>5</td>\n",
       "      <td>0</td>\n",
       "      <td>0</td>\n",
       "      <td>0</td>\n",
       "      <td>0</td>\n",
       "      <td>0</td>\n",
       "      <td>0</td>\n",
       "      <td>3</td>\n",
       "      <td>11</td>\n",
       "      <td>0</td>\n",
       "    </tr>\n",
       "    <tr>\n",
       "      <th>2</th>\n",
       "      <td>4141</td>\n",
       "      <td>1965</td>\n",
       "      <td>Graduation</td>\n",
       "      <td>Together</td>\n",
       "      <td>71613.0</td>\n",
       "      <td>0</td>\n",
       "      <td>0</td>\n",
       "      <td>21-08-2013</td>\n",
       "      <td>26</td>\n",
       "      <td>426</td>\n",
       "      <td>...</td>\n",
       "      <td>4</td>\n",
       "      <td>0</td>\n",
       "      <td>0</td>\n",
       "      <td>0</td>\n",
       "      <td>0</td>\n",
       "      <td>0</td>\n",
       "      <td>0</td>\n",
       "      <td>3</td>\n",
       "      <td>11</td>\n",
       "      <td>0</td>\n",
       "    </tr>\n",
       "    <tr>\n",
       "      <th>3</th>\n",
       "      <td>6182</td>\n",
       "      <td>1984</td>\n",
       "      <td>Graduation</td>\n",
       "      <td>Together</td>\n",
       "      <td>26646.0</td>\n",
       "      <td>1</td>\n",
       "      <td>0</td>\n",
       "      <td>10-02-2014</td>\n",
       "      <td>26</td>\n",
       "      <td>11</td>\n",
       "      <td>...</td>\n",
       "      <td>6</td>\n",
       "      <td>0</td>\n",
       "      <td>0</td>\n",
       "      <td>0</td>\n",
       "      <td>0</td>\n",
       "      <td>0</td>\n",
       "      <td>0</td>\n",
       "      <td>3</td>\n",
       "      <td>11</td>\n",
       "      <td>0</td>\n",
       "    </tr>\n",
       "    <tr>\n",
       "      <th>4</th>\n",
       "      <td>5324</td>\n",
       "      <td>1981</td>\n",
       "      <td>PhD</td>\n",
       "      <td>Married</td>\n",
       "      <td>58293.0</td>\n",
       "      <td>1</td>\n",
       "      <td>0</td>\n",
       "      <td>19-01-2014</td>\n",
       "      <td>94</td>\n",
       "      <td>173</td>\n",
       "      <td>...</td>\n",
       "      <td>5</td>\n",
       "      <td>0</td>\n",
       "      <td>0</td>\n",
       "      <td>0</td>\n",
       "      <td>0</td>\n",
       "      <td>0</td>\n",
       "      <td>0</td>\n",
       "      <td>3</td>\n",
       "      <td>11</td>\n",
       "      <td>0</td>\n",
       "    </tr>\n",
       "  </tbody>\n",
       "</table>\n",
       "<p>5 rows × 29 columns</p>\n",
       "</div>"
      ],
      "text/plain": [
       "     ID  Year_Birth   Education Marital_Status   Income  Kidhome  Teenhome  \\\n",
       "0  5524        1957  Graduation         Single  58138.0        0         0   \n",
       "1  2174        1954  Graduation         Single  46344.0        1         1   \n",
       "2  4141        1965  Graduation       Together  71613.0        0         0   \n",
       "3  6182        1984  Graduation       Together  26646.0        1         0   \n",
       "4  5324        1981         PhD        Married  58293.0        1         0   \n",
       "\n",
       "  Dt_Customer  Recency  MntWines  ...  NumWebVisitsMonth  AcceptedCmp3  \\\n",
       "0  04-09-2012       58       635  ...                  7             0   \n",
       "1  08-03-2014       38        11  ...                  5             0   \n",
       "2  21-08-2013       26       426  ...                  4             0   \n",
       "3  10-02-2014       26        11  ...                  6             0   \n",
       "4  19-01-2014       94       173  ...                  5             0   \n",
       "\n",
       "   AcceptedCmp4  AcceptedCmp5  AcceptedCmp1  AcceptedCmp2  Complain  \\\n",
       "0             0             0             0             0         0   \n",
       "1             0             0             0             0         0   \n",
       "2             0             0             0             0         0   \n",
       "3             0             0             0             0         0   \n",
       "4             0             0             0             0         0   \n",
       "\n",
       "   Z_CostContact  Z_Revenue  Response  \n",
       "0              3         11         1  \n",
       "1              3         11         0  \n",
       "2              3         11         0  \n",
       "3              3         11         0  \n",
       "4              3         11         0  \n",
       "\n",
       "[5 rows x 29 columns]"
      ]
     },
     "execution_count": 50,
     "metadata": {},
     "output_type": "execute_result"
    }
   ],
   "source": [
    "df.head()"
   ]
  },
  {
   "cell_type": "code",
   "execution_count": 51,
   "id": "589607e6",
   "metadata": {},
   "outputs": [
    {
     "name": "stdout",
     "output_type": "stream",
     "text": [
      "<class 'pandas.core.frame.DataFrame'>\n",
      "RangeIndex: 2240 entries, 0 to 2239\n",
      "Data columns (total 29 columns):\n",
      " #   Column               Non-Null Count  Dtype  \n",
      "---  ------               --------------  -----  \n",
      " 0   ID                   2240 non-null   int64  \n",
      " 1   Year_Birth           2240 non-null   int64  \n",
      " 2   Education            2240 non-null   object \n",
      " 3   Marital_Status       2240 non-null   object \n",
      " 4   Income               2216 non-null   float64\n",
      " 5   Kidhome              2240 non-null   int64  \n",
      " 6   Teenhome             2240 non-null   int64  \n",
      " 7   Dt_Customer          2240 non-null   object \n",
      " 8   Recency              2240 non-null   int64  \n",
      " 9   MntWines             2240 non-null   int64  \n",
      " 10  MntFruits            2240 non-null   int64  \n",
      " 11  MntMeatProducts      2240 non-null   int64  \n",
      " 12  MntFishProducts      2240 non-null   int64  \n",
      " 13  MntSweetProducts     2240 non-null   int64  \n",
      " 14  MntGoldProds         2240 non-null   int64  \n",
      " 15  NumDealsPurchases    2240 non-null   int64  \n",
      " 16  NumWebPurchases      2240 non-null   int64  \n",
      " 17  NumCatalogPurchases  2240 non-null   int64  \n",
      " 18  NumStorePurchases    2240 non-null   int64  \n",
      " 19  NumWebVisitsMonth    2240 non-null   int64  \n",
      " 20  AcceptedCmp3         2240 non-null   int64  \n",
      " 21  AcceptedCmp4         2240 non-null   int64  \n",
      " 22  AcceptedCmp5         2240 non-null   int64  \n",
      " 23  AcceptedCmp1         2240 non-null   int64  \n",
      " 24  AcceptedCmp2         2240 non-null   int64  \n",
      " 25  Complain             2240 non-null   int64  \n",
      " 26  Z_CostContact        2240 non-null   int64  \n",
      " 27  Z_Revenue            2240 non-null   int64  \n",
      " 28  Response             2240 non-null   int64  \n",
      "dtypes: float64(1), int64(25), object(3)\n",
      "memory usage: 507.6+ KB\n"
     ]
    }
   ],
   "source": [
    "df.info()"
   ]
  },
  {
   "cell_type": "markdown",
   "id": "7d2cf606",
   "metadata": {},
   "source": [
    "### Delete missing values"
   ]
  },
  {
   "cell_type": "code",
   "execution_count": 52,
   "id": "f0724627",
   "metadata": {},
   "outputs": [],
   "source": [
    "df = df.dropna()"
   ]
  },
  {
   "cell_type": "markdown",
   "id": "a6335fcc",
   "metadata": {},
   "source": [
    "### Кількісні дані"
   ]
  },
  {
   "cell_type": "code",
   "execution_count": 53,
   "id": "ec90c1ab",
   "metadata": {},
   "outputs": [
    {
     "data": {
      "text/html": [
       "<div>\n",
       "<style scoped>\n",
       "    .dataframe tbody tr th:only-of-type {\n",
       "        vertical-align: middle;\n",
       "    }\n",
       "\n",
       "    .dataframe tbody tr th {\n",
       "        vertical-align: top;\n",
       "    }\n",
       "\n",
       "    .dataframe thead th {\n",
       "        text-align: right;\n",
       "    }\n",
       "</style>\n",
       "<table border=\"1\" class=\"dataframe\">\n",
       "  <thead>\n",
       "    <tr style=\"text-align: right;\">\n",
       "      <th></th>\n",
       "      <th>ID</th>\n",
       "      <th>Year_Birth</th>\n",
       "      <th>Income</th>\n",
       "      <th>Kidhome</th>\n",
       "      <th>Teenhome</th>\n",
       "      <th>Recency</th>\n",
       "      <th>MntWines</th>\n",
       "      <th>MntFruits</th>\n",
       "      <th>MntMeatProducts</th>\n",
       "      <th>MntFishProducts</th>\n",
       "      <th>...</th>\n",
       "      <th>NumWebVisitsMonth</th>\n",
       "      <th>AcceptedCmp3</th>\n",
       "      <th>AcceptedCmp4</th>\n",
       "      <th>AcceptedCmp5</th>\n",
       "      <th>AcceptedCmp1</th>\n",
       "      <th>AcceptedCmp2</th>\n",
       "      <th>Complain</th>\n",
       "      <th>Z_CostContact</th>\n",
       "      <th>Z_Revenue</th>\n",
       "      <th>Response</th>\n",
       "    </tr>\n",
       "  </thead>\n",
       "  <tbody>\n",
       "    <tr>\n",
       "      <th>count</th>\n",
       "      <td>2216.000000</td>\n",
       "      <td>2216.000000</td>\n",
       "      <td>2216.000000</td>\n",
       "      <td>2216.000000</td>\n",
       "      <td>2216.000000</td>\n",
       "      <td>2216.000000</td>\n",
       "      <td>2216.000000</td>\n",
       "      <td>2216.000000</td>\n",
       "      <td>2216.000000</td>\n",
       "      <td>2216.000000</td>\n",
       "      <td>...</td>\n",
       "      <td>2216.000000</td>\n",
       "      <td>2216.000000</td>\n",
       "      <td>2216.000000</td>\n",
       "      <td>2216.000000</td>\n",
       "      <td>2216.000000</td>\n",
       "      <td>2216.000000</td>\n",
       "      <td>2216.000000</td>\n",
       "      <td>2216.0</td>\n",
       "      <td>2216.0</td>\n",
       "      <td>2216.000000</td>\n",
       "    </tr>\n",
       "    <tr>\n",
       "      <th>mean</th>\n",
       "      <td>5588.353339</td>\n",
       "      <td>1968.820397</td>\n",
       "      <td>52247.251354</td>\n",
       "      <td>0.441787</td>\n",
       "      <td>0.505415</td>\n",
       "      <td>49.012635</td>\n",
       "      <td>305.091606</td>\n",
       "      <td>26.356047</td>\n",
       "      <td>166.995939</td>\n",
       "      <td>37.637635</td>\n",
       "      <td>...</td>\n",
       "      <td>5.319043</td>\n",
       "      <td>0.073556</td>\n",
       "      <td>0.074007</td>\n",
       "      <td>0.073105</td>\n",
       "      <td>0.064079</td>\n",
       "      <td>0.013538</td>\n",
       "      <td>0.009477</td>\n",
       "      <td>3.0</td>\n",
       "      <td>11.0</td>\n",
       "      <td>0.150271</td>\n",
       "    </tr>\n",
       "    <tr>\n",
       "      <th>std</th>\n",
       "      <td>3249.376275</td>\n",
       "      <td>11.985554</td>\n",
       "      <td>25173.076661</td>\n",
       "      <td>0.536896</td>\n",
       "      <td>0.544181</td>\n",
       "      <td>28.948352</td>\n",
       "      <td>337.327920</td>\n",
       "      <td>39.793917</td>\n",
       "      <td>224.283273</td>\n",
       "      <td>54.752082</td>\n",
       "      <td>...</td>\n",
       "      <td>2.425359</td>\n",
       "      <td>0.261106</td>\n",
       "      <td>0.261842</td>\n",
       "      <td>0.260367</td>\n",
       "      <td>0.244950</td>\n",
       "      <td>0.115588</td>\n",
       "      <td>0.096907</td>\n",
       "      <td>0.0</td>\n",
       "      <td>0.0</td>\n",
       "      <td>0.357417</td>\n",
       "    </tr>\n",
       "    <tr>\n",
       "      <th>min</th>\n",
       "      <td>0.000000</td>\n",
       "      <td>1893.000000</td>\n",
       "      <td>1730.000000</td>\n",
       "      <td>0.000000</td>\n",
       "      <td>0.000000</td>\n",
       "      <td>0.000000</td>\n",
       "      <td>0.000000</td>\n",
       "      <td>0.000000</td>\n",
       "      <td>0.000000</td>\n",
       "      <td>0.000000</td>\n",
       "      <td>...</td>\n",
       "      <td>0.000000</td>\n",
       "      <td>0.000000</td>\n",
       "      <td>0.000000</td>\n",
       "      <td>0.000000</td>\n",
       "      <td>0.000000</td>\n",
       "      <td>0.000000</td>\n",
       "      <td>0.000000</td>\n",
       "      <td>3.0</td>\n",
       "      <td>11.0</td>\n",
       "      <td>0.000000</td>\n",
       "    </tr>\n",
       "    <tr>\n",
       "      <th>25%</th>\n",
       "      <td>2814.750000</td>\n",
       "      <td>1959.000000</td>\n",
       "      <td>35303.000000</td>\n",
       "      <td>0.000000</td>\n",
       "      <td>0.000000</td>\n",
       "      <td>24.000000</td>\n",
       "      <td>24.000000</td>\n",
       "      <td>2.000000</td>\n",
       "      <td>16.000000</td>\n",
       "      <td>3.000000</td>\n",
       "      <td>...</td>\n",
       "      <td>3.000000</td>\n",
       "      <td>0.000000</td>\n",
       "      <td>0.000000</td>\n",
       "      <td>0.000000</td>\n",
       "      <td>0.000000</td>\n",
       "      <td>0.000000</td>\n",
       "      <td>0.000000</td>\n",
       "      <td>3.0</td>\n",
       "      <td>11.0</td>\n",
       "      <td>0.000000</td>\n",
       "    </tr>\n",
       "    <tr>\n",
       "      <th>50%</th>\n",
       "      <td>5458.500000</td>\n",
       "      <td>1970.000000</td>\n",
       "      <td>51381.500000</td>\n",
       "      <td>0.000000</td>\n",
       "      <td>0.000000</td>\n",
       "      <td>49.000000</td>\n",
       "      <td>174.500000</td>\n",
       "      <td>8.000000</td>\n",
       "      <td>68.000000</td>\n",
       "      <td>12.000000</td>\n",
       "      <td>...</td>\n",
       "      <td>6.000000</td>\n",
       "      <td>0.000000</td>\n",
       "      <td>0.000000</td>\n",
       "      <td>0.000000</td>\n",
       "      <td>0.000000</td>\n",
       "      <td>0.000000</td>\n",
       "      <td>0.000000</td>\n",
       "      <td>3.0</td>\n",
       "      <td>11.0</td>\n",
       "      <td>0.000000</td>\n",
       "    </tr>\n",
       "    <tr>\n",
       "      <th>75%</th>\n",
       "      <td>8421.750000</td>\n",
       "      <td>1977.000000</td>\n",
       "      <td>68522.000000</td>\n",
       "      <td>1.000000</td>\n",
       "      <td>1.000000</td>\n",
       "      <td>74.000000</td>\n",
       "      <td>505.000000</td>\n",
       "      <td>33.000000</td>\n",
       "      <td>232.250000</td>\n",
       "      <td>50.000000</td>\n",
       "      <td>...</td>\n",
       "      <td>7.000000</td>\n",
       "      <td>0.000000</td>\n",
       "      <td>0.000000</td>\n",
       "      <td>0.000000</td>\n",
       "      <td>0.000000</td>\n",
       "      <td>0.000000</td>\n",
       "      <td>0.000000</td>\n",
       "      <td>3.0</td>\n",
       "      <td>11.0</td>\n",
       "      <td>0.000000</td>\n",
       "    </tr>\n",
       "    <tr>\n",
       "      <th>max</th>\n",
       "      <td>11191.000000</td>\n",
       "      <td>1996.000000</td>\n",
       "      <td>666666.000000</td>\n",
       "      <td>2.000000</td>\n",
       "      <td>2.000000</td>\n",
       "      <td>99.000000</td>\n",
       "      <td>1493.000000</td>\n",
       "      <td>199.000000</td>\n",
       "      <td>1725.000000</td>\n",
       "      <td>259.000000</td>\n",
       "      <td>...</td>\n",
       "      <td>20.000000</td>\n",
       "      <td>1.000000</td>\n",
       "      <td>1.000000</td>\n",
       "      <td>1.000000</td>\n",
       "      <td>1.000000</td>\n",
       "      <td>1.000000</td>\n",
       "      <td>1.000000</td>\n",
       "      <td>3.0</td>\n",
       "      <td>11.0</td>\n",
       "      <td>1.000000</td>\n",
       "    </tr>\n",
       "  </tbody>\n",
       "</table>\n",
       "<p>8 rows × 26 columns</p>\n",
       "</div>"
      ],
      "text/plain": [
       "                 ID   Year_Birth         Income      Kidhome     Teenhome  \\\n",
       "count   2216.000000  2216.000000    2216.000000  2216.000000  2216.000000   \n",
       "mean    5588.353339  1968.820397   52247.251354     0.441787     0.505415   \n",
       "std     3249.376275    11.985554   25173.076661     0.536896     0.544181   \n",
       "min        0.000000  1893.000000    1730.000000     0.000000     0.000000   \n",
       "25%     2814.750000  1959.000000   35303.000000     0.000000     0.000000   \n",
       "50%     5458.500000  1970.000000   51381.500000     0.000000     0.000000   \n",
       "75%     8421.750000  1977.000000   68522.000000     1.000000     1.000000   \n",
       "max    11191.000000  1996.000000  666666.000000     2.000000     2.000000   \n",
       "\n",
       "           Recency     MntWines    MntFruits  MntMeatProducts  \\\n",
       "count  2216.000000  2216.000000  2216.000000      2216.000000   \n",
       "mean     49.012635   305.091606    26.356047       166.995939   \n",
       "std      28.948352   337.327920    39.793917       224.283273   \n",
       "min       0.000000     0.000000     0.000000         0.000000   \n",
       "25%      24.000000    24.000000     2.000000        16.000000   \n",
       "50%      49.000000   174.500000     8.000000        68.000000   \n",
       "75%      74.000000   505.000000    33.000000       232.250000   \n",
       "max      99.000000  1493.000000   199.000000      1725.000000   \n",
       "\n",
       "       MntFishProducts  ...  NumWebVisitsMonth  AcceptedCmp3  AcceptedCmp4  \\\n",
       "count      2216.000000  ...        2216.000000   2216.000000   2216.000000   \n",
       "mean         37.637635  ...           5.319043      0.073556      0.074007   \n",
       "std          54.752082  ...           2.425359      0.261106      0.261842   \n",
       "min           0.000000  ...           0.000000      0.000000      0.000000   \n",
       "25%           3.000000  ...           3.000000      0.000000      0.000000   \n",
       "50%          12.000000  ...           6.000000      0.000000      0.000000   \n",
       "75%          50.000000  ...           7.000000      0.000000      0.000000   \n",
       "max         259.000000  ...          20.000000      1.000000      1.000000   \n",
       "\n",
       "       AcceptedCmp5  AcceptedCmp1  AcceptedCmp2     Complain  Z_CostContact  \\\n",
       "count   2216.000000   2216.000000   2216.000000  2216.000000         2216.0   \n",
       "mean       0.073105      0.064079      0.013538     0.009477            3.0   \n",
       "std        0.260367      0.244950      0.115588     0.096907            0.0   \n",
       "min        0.000000      0.000000      0.000000     0.000000            3.0   \n",
       "25%        0.000000      0.000000      0.000000     0.000000            3.0   \n",
       "50%        0.000000      0.000000      0.000000     0.000000            3.0   \n",
       "75%        0.000000      0.000000      0.000000     0.000000            3.0   \n",
       "max        1.000000      1.000000      1.000000     1.000000            3.0   \n",
       "\n",
       "       Z_Revenue     Response  \n",
       "count     2216.0  2216.000000  \n",
       "mean        11.0     0.150271  \n",
       "std          0.0     0.357417  \n",
       "min         11.0     0.000000  \n",
       "25%         11.0     0.000000  \n",
       "50%         11.0     0.000000  \n",
       "75%         11.0     0.000000  \n",
       "max         11.0     1.000000  \n",
       "\n",
       "[8 rows x 26 columns]"
      ]
     },
     "execution_count": 53,
     "metadata": {},
     "output_type": "execute_result"
    }
   ],
   "source": [
    "df.describe()"
   ]
  },
  {
   "cell_type": "markdown",
   "id": "8df4a8b9",
   "metadata": {},
   "source": [
    "### Категоріальні дані"
   ]
  },
  {
   "cell_type": "code",
   "execution_count": 54,
   "id": "36760704",
   "metadata": {},
   "outputs": [
    {
     "data": {
      "text/html": [
       "<div>\n",
       "<style scoped>\n",
       "    .dataframe tbody tr th:only-of-type {\n",
       "        vertical-align: middle;\n",
       "    }\n",
       "\n",
       "    .dataframe tbody tr th {\n",
       "        vertical-align: top;\n",
       "    }\n",
       "\n",
       "    .dataframe thead th {\n",
       "        text-align: right;\n",
       "    }\n",
       "</style>\n",
       "<table border=\"1\" class=\"dataframe\">\n",
       "  <thead>\n",
       "    <tr style=\"text-align: right;\">\n",
       "      <th></th>\n",
       "      <th>Education</th>\n",
       "      <th>Marital_Status</th>\n",
       "      <th>Dt_Customer</th>\n",
       "    </tr>\n",
       "  </thead>\n",
       "  <tbody>\n",
       "    <tr>\n",
       "      <th>count</th>\n",
       "      <td>2216</td>\n",
       "      <td>2216</td>\n",
       "      <td>2216</td>\n",
       "    </tr>\n",
       "    <tr>\n",
       "      <th>unique</th>\n",
       "      <td>5</td>\n",
       "      <td>8</td>\n",
       "      <td>662</td>\n",
       "    </tr>\n",
       "    <tr>\n",
       "      <th>top</th>\n",
       "      <td>Graduation</td>\n",
       "      <td>Married</td>\n",
       "      <td>31-08-2012</td>\n",
       "    </tr>\n",
       "    <tr>\n",
       "      <th>freq</th>\n",
       "      <td>1116</td>\n",
       "      <td>857</td>\n",
       "      <td>12</td>\n",
       "    </tr>\n",
       "  </tbody>\n",
       "</table>\n",
       "</div>"
      ],
      "text/plain": [
       "         Education Marital_Status Dt_Customer\n",
       "count         2216           2216        2216\n",
       "unique           5              8         662\n",
       "top     Graduation        Married  31-08-2012\n",
       "freq          1116            857          12"
      ]
     },
     "execution_count": 54,
     "metadata": {},
     "output_type": "execute_result"
    }
   ],
   "source": [
    "df[['Education', 'Marital_Status', 'Dt_Customer']].describe()"
   ]
  },
  {
   "cell_type": "markdown",
   "id": "ba115b0b",
   "metadata": {},
   "source": [
    "### Adding Feature"
   ]
  },
  {
   "cell_type": "code",
   "execution_count": 55,
   "id": "65eb4f36",
   "metadata": {},
   "outputs": [],
   "source": [
    "#Age of the client\n",
    "df['Age'] = 2015 - df['Year_Birth']"
   ]
  },
  {
   "cell_type": "code",
   "execution_count": 56,
   "id": "a1c0de5c",
   "metadata": {},
   "outputs": [],
   "source": [
    "#number of children\n",
    "df['Kids'] = df['Kidhome'] + df['Teenhome']"
   ]
  },
  {
   "cell_type": "code",
   "execution_count": 57,
   "id": "ce919d0d",
   "metadata": {},
   "outputs": [],
   "source": [
    "#parents or not\n",
    "df[\"Parent\"] = np.where(df.Kids> 0, 1, 0)"
   ]
  },
  {
   "cell_type": "code",
   "execution_count": 58,
   "id": "fe405570",
   "metadata": {},
   "outputs": [],
   "source": [
    "#how many days client is registered in the company\n",
    "last_enrollment = pd.to_datetime(df['Dt_Customer']).max()\n",
    "df['Days_Enrolled'] = (last_enrollment - pd.to_datetime(df['Dt_Customer'])).dt.days"
   ]
  },
  {
   "cell_type": "code",
   "execution_count": 59,
   "id": "3d0f820c",
   "metadata": {},
   "outputs": [],
   "source": [
    "#rename columns\n",
    "df = df.rename(columns={\"MntWines\": \"Wines\", \"MntFruits\":\"Fruits\", \"MntMeatProducts\":\"Meat\",\n",
    "                        \"MntFishProducts\":\"Fish\", \"MntSweetProducts\":\"Sweets\", \"MntGoldProds\":\"Gold\"})"
   ]
  },
  {
   "cell_type": "code",
   "execution_count": 60,
   "id": "cc4abc2c",
   "metadata": {},
   "outputs": [],
   "source": [
    "#total spend\n",
    "df['Spend_all'] = df[\"Wines\"] + df[\"Fruits\"] + df[\"Meat\"] + df[\"Fish\"] \\\n",
    "                    + df[\"Sweets\"] + df[\"Gold\"]"
   ]
  },
  {
   "cell_type": "code",
   "execution_count": 61,
   "id": "1fcaf564",
   "metadata": {},
   "outputs": [],
   "source": [
    "df['CouponsAccepted'] = df['AcceptedCmp1'] + df['AcceptedCmp2'] + df['AcceptedCmp3'] \\\n",
    "                    + df['AcceptedCmp4'] + df['AcceptedCmp5'] + df['Response']"
   ]
  },
  {
   "cell_type": "code",
   "execution_count": 62,
   "id": "1153be4a",
   "metadata": {},
   "outputs": [],
   "source": [
    "#or the client has a partner\n",
    "df[\"Marital_Status\"] = df[\"Marital_Status\"].replace({\"Married\":\"Partner\",\n",
    "                                           \"Together\":\"Partner\",\n",
    "                                           \"Single\":\"Alone\",\n",
    "                                           \"Divorced\":\"Alone\",   \n",
    "                                           \"Widow\":\"Alone\",\n",
    "                                           \"Alone\":\"Alone\",\n",
    "                                           \"Absurd\":\"Alone\",\n",
    "                                           \"YOLO\":\"Alone\"})"
   ]
  },
  {
   "cell_type": "code",
   "execution_count": 63,
   "id": "e6e6aed4",
   "metadata": {},
   "outputs": [],
   "source": [
    "#number of purchases\n",
    "df['NumAllPurchases'] = df['NumWebPurchases']+df['NumCatalogPurchases']+df['NumStorePurchases']\n",
    "df['NumAllPurchases'] = df['NumAllPurchases'].replace({0: df['NumAllPurchases'].mean()})"
   ]
  },
  {
   "cell_type": "code",
   "execution_count": 64,
   "id": "0ee06490",
   "metadata": {},
   "outputs": [],
   "source": [
    "# average client check\n",
    "df['AverageCheck'] = round(df['Spend_all'] / df['NumAllPurchases'], 1)"
   ]
  },
  {
   "cell_type": "code",
   "execution_count": 65,
   "id": "bb831882",
   "metadata": {},
   "outputs": [
    {
     "data": {
      "text/html": [
       "<div>\n",
       "<style scoped>\n",
       "    .dataframe tbody tr th:only-of-type {\n",
       "        vertical-align: middle;\n",
       "    }\n",
       "\n",
       "    .dataframe tbody tr th {\n",
       "        vertical-align: top;\n",
       "    }\n",
       "\n",
       "    .dataframe thead th {\n",
       "        text-align: right;\n",
       "    }\n",
       "</style>\n",
       "<table border=\"1\" class=\"dataframe\">\n",
       "  <thead>\n",
       "    <tr style=\"text-align: right;\">\n",
       "      <th></th>\n",
       "      <th>ID</th>\n",
       "      <th>Year_Birth</th>\n",
       "      <th>Education</th>\n",
       "      <th>Marital_Status</th>\n",
       "      <th>Income</th>\n",
       "      <th>Kidhome</th>\n",
       "      <th>Teenhome</th>\n",
       "      <th>Dt_Customer</th>\n",
       "      <th>Recency</th>\n",
       "      <th>Wines</th>\n",
       "      <th>...</th>\n",
       "      <th>Z_Revenue</th>\n",
       "      <th>Response</th>\n",
       "      <th>Age</th>\n",
       "      <th>Kids</th>\n",
       "      <th>Parent</th>\n",
       "      <th>Days_Enrolled</th>\n",
       "      <th>Spend_all</th>\n",
       "      <th>CouponsAccepted</th>\n",
       "      <th>NumAllPurchases</th>\n",
       "      <th>AverageCheck</th>\n",
       "    </tr>\n",
       "  </thead>\n",
       "  <tbody>\n",
       "    <tr>\n",
       "      <th>0</th>\n",
       "      <td>5524</td>\n",
       "      <td>1957</td>\n",
       "      <td>Graduation</td>\n",
       "      <td>Alone</td>\n",
       "      <td>58138.0</td>\n",
       "      <td>0</td>\n",
       "      <td>0</td>\n",
       "      <td>04-09-2012</td>\n",
       "      <td>58</td>\n",
       "      <td>635</td>\n",
       "      <td>...</td>\n",
       "      <td>11</td>\n",
       "      <td>1</td>\n",
       "      <td>58</td>\n",
       "      <td>0</td>\n",
       "      <td>0</td>\n",
       "      <td>971</td>\n",
       "      <td>1617</td>\n",
       "      <td>1</td>\n",
       "      <td>22.0</td>\n",
       "      <td>73.5</td>\n",
       "    </tr>\n",
       "    <tr>\n",
       "      <th>1</th>\n",
       "      <td>2174</td>\n",
       "      <td>1954</td>\n",
       "      <td>Graduation</td>\n",
       "      <td>Alone</td>\n",
       "      <td>46344.0</td>\n",
       "      <td>1</td>\n",
       "      <td>1</td>\n",
       "      <td>08-03-2014</td>\n",
       "      <td>38</td>\n",
       "      <td>11</td>\n",
       "      <td>...</td>\n",
       "      <td>11</td>\n",
       "      <td>0</td>\n",
       "      <td>61</td>\n",
       "      <td>2</td>\n",
       "      <td>1</td>\n",
       "      <td>125</td>\n",
       "      <td>27</td>\n",
       "      <td>0</td>\n",
       "      <td>4.0</td>\n",
       "      <td>6.8</td>\n",
       "    </tr>\n",
       "    <tr>\n",
       "      <th>2</th>\n",
       "      <td>4141</td>\n",
       "      <td>1965</td>\n",
       "      <td>Graduation</td>\n",
       "      <td>Partner</td>\n",
       "      <td>71613.0</td>\n",
       "      <td>0</td>\n",
       "      <td>0</td>\n",
       "      <td>21-08-2013</td>\n",
       "      <td>26</td>\n",
       "      <td>426</td>\n",
       "      <td>...</td>\n",
       "      <td>11</td>\n",
       "      <td>0</td>\n",
       "      <td>50</td>\n",
       "      <td>0</td>\n",
       "      <td>0</td>\n",
       "      <td>472</td>\n",
       "      <td>776</td>\n",
       "      <td>0</td>\n",
       "      <td>20.0</td>\n",
       "      <td>38.8</td>\n",
       "    </tr>\n",
       "    <tr>\n",
       "      <th>3</th>\n",
       "      <td>6182</td>\n",
       "      <td>1984</td>\n",
       "      <td>Graduation</td>\n",
       "      <td>Partner</td>\n",
       "      <td>26646.0</td>\n",
       "      <td>1</td>\n",
       "      <td>0</td>\n",
       "      <td>10-02-2014</td>\n",
       "      <td>26</td>\n",
       "      <td>11</td>\n",
       "      <td>...</td>\n",
       "      <td>11</td>\n",
       "      <td>0</td>\n",
       "      <td>31</td>\n",
       "      <td>1</td>\n",
       "      <td>1</td>\n",
       "      <td>65</td>\n",
       "      <td>53</td>\n",
       "      <td>0</td>\n",
       "      <td>6.0</td>\n",
       "      <td>8.8</td>\n",
       "    </tr>\n",
       "    <tr>\n",
       "      <th>4</th>\n",
       "      <td>5324</td>\n",
       "      <td>1981</td>\n",
       "      <td>PhD</td>\n",
       "      <td>Partner</td>\n",
       "      <td>58293.0</td>\n",
       "      <td>1</td>\n",
       "      <td>0</td>\n",
       "      <td>19-01-2014</td>\n",
       "      <td>94</td>\n",
       "      <td>173</td>\n",
       "      <td>...</td>\n",
       "      <td>11</td>\n",
       "      <td>0</td>\n",
       "      <td>34</td>\n",
       "      <td>1</td>\n",
       "      <td>1</td>\n",
       "      <td>321</td>\n",
       "      <td>422</td>\n",
       "      <td>0</td>\n",
       "      <td>14.0</td>\n",
       "      <td>30.1</td>\n",
       "    </tr>\n",
       "  </tbody>\n",
       "</table>\n",
       "<p>5 rows × 37 columns</p>\n",
       "</div>"
      ],
      "text/plain": [
       "     ID  Year_Birth   Education Marital_Status   Income  Kidhome  Teenhome  \\\n",
       "0  5524        1957  Graduation          Alone  58138.0        0         0   \n",
       "1  2174        1954  Graduation          Alone  46344.0        1         1   \n",
       "2  4141        1965  Graduation        Partner  71613.0        0         0   \n",
       "3  6182        1984  Graduation        Partner  26646.0        1         0   \n",
       "4  5324        1981         PhD        Partner  58293.0        1         0   \n",
       "\n",
       "  Dt_Customer  Recency  Wines  ...  Z_Revenue  Response  Age  Kids  Parent  \\\n",
       "0  04-09-2012       58    635  ...         11         1   58     0       0   \n",
       "1  08-03-2014       38     11  ...         11         0   61     2       1   \n",
       "2  21-08-2013       26    426  ...         11         0   50     0       0   \n",
       "3  10-02-2014       26     11  ...         11         0   31     1       1   \n",
       "4  19-01-2014       94    173  ...         11         0   34     1       1   \n",
       "\n",
       "   Days_Enrolled  Spend_all  CouponsAccepted  NumAllPurchases  AverageCheck  \n",
       "0            971       1617                1             22.0          73.5  \n",
       "1            125         27                0              4.0           6.8  \n",
       "2            472        776                0             20.0          38.8  \n",
       "3             65         53                0              6.0           8.8  \n",
       "4            321        422                0             14.0          30.1  \n",
       "\n",
       "[5 rows x 37 columns]"
      ]
     },
     "execution_count": 65,
     "metadata": {},
     "output_type": "execute_result"
    }
   ],
   "source": [
    "df.head()"
   ]
  },
  {
   "cell_type": "code",
   "execution_count": 66,
   "id": "44522b45",
   "metadata": {},
   "outputs": [],
   "source": [
    "df = df.drop(['Year_Birth', 'Kidhome', 'Teenhome'], axis = 1)"
   ]
  },
  {
   "cell_type": "code",
   "execution_count": 67,
   "id": "4f553397",
   "metadata": {},
   "outputs": [
    {
     "data": {
      "text/plain": [
       "<AxesSubplot:xlabel='Marital_Status', ylabel='count'>"
      ]
     },
     "execution_count": 67,
     "metadata": {},
     "output_type": "execute_result"
    },
    {
     "data": {
      "image/png": "[encoded data removed]",
      "text/plain": [
       "<Figure size 720x432 with 1 Axes>"
      ]
     },
     "metadata": {
      "needs_background": "light"
     },
     "output_type": "display_data"
    }
   ],
   "source": [
    "#Marital_Status/count\n",
    "plt.figure(figsize=(10, 6))\n",
    "sns.countplot(x=\"Marital_Status\", data=df)"
   ]
  },
  {
   "cell_type": "code",
   "execution_count": 68,
   "id": "47b8d8f8",
   "metadata": {},
   "outputs": [
    {
     "data": {
      "text/plain": [
       "<AxesSubplot:xlabel='Education', ylabel='count'>"
      ]
     },
     "execution_count": 68,
     "metadata": {},
     "output_type": "execute_result"
    },
    {
     "data": {
      "image/png": "[encoded data removed]",
      "text/plain": [
       "<Figure size 720x432 with 1 Axes>"
      ]
     },
     "metadata": {
      "needs_background": "light"
     },
     "output_type": "display_data"
    }
   ],
   "source": [
    "#Education/count\n",
    "plt.figure(figsize=(10, 6))\n",
    "sns.countplot(x=\"Education\", data=df)"
   ]
  },
  {
   "cell_type": "markdown",
   "id": "fdc1f962",
   "metadata": {},
   "source": [
    "### Box Plot to check for outliers"
   ]
  },
  {
   "cell_type": "code",
   "execution_count": 69,
   "id": "d2f5d877",
   "metadata": {},
   "outputs": [
    {
     "data": {
      "image/png": "[encoded data removed]",
      "text/plain": [
       "<Figure size 720x360 with 1 Axes>"
      ]
     },
     "metadata": {
      "needs_background": "light"
     },
     "output_type": "display_data"
    }
   ],
   "source": [
    "plt.figure(figsize=(10,5))\n",
    "sns.boxplot(y=df.Age);\n",
    "plt.ylabel('Age', fontsize=20, labelpad=20);"
   ]
  },
  {
   "cell_type": "code",
   "execution_count": 70,
   "id": "6658f667",
   "metadata": {
    "scrolled": true
   },
   "outputs": [
    {
     "data": {
      "image/png": "[encoded data removed]",
      "text/plain": [
       "<Figure size 720x360 with 1 Axes>"
      ]
     },
     "metadata": {
      "needs_background": "light"
     },
     "output_type": "display_data"
    }
   ],
   "source": [
    "plt.figure(figsize=(10,5))\n",
    "sns.boxplot(y=df.Income);\n",
    "plt.ylabel('Income', fontsize=20, labelpad=20);"
   ]
  },
  {
   "cell_type": "code",
   "execution_count": 71,
   "id": "966b725d",
   "metadata": {},
   "outputs": [],
   "source": [
    "#delete outliers\n",
    "df = df[(df['Age'] < 80) & (df['Income'] < 140000)]"
   ]
  },
  {
   "cell_type": "code",
   "execution_count": 72,
   "id": "21ca6371",
   "metadata": {},
   "outputs": [],
   "source": [
    "#age frame\n",
    "df.loc[df['Age'] < 30, 'AgeGroup'] = '[0, 30]'\n",
    "df.loc[(df['Age'] >= 30) & (df['Age'] < 40), 'AgeGroup'] = '[30, 40]'\n",
    "df.loc[(df['Age'] >= 40) & (df['Age'] < 50), 'AgeGroup'] = '[40, 50]'\n",
    "df.loc[(df['Age'] >= 50) & (df['Age'] < 60), 'AgeGroup'] = '[50, 60]'\n",
    "df.loc[(df['Age'] >= 60) & (df['Age'] < 70), 'AgeGroup'] = '[60, 70]'\n",
    "df.loc[(df['Age'] >= 70) & (df['Age'] < 80), 'AgeGroup'] = '[70, 80]'"
   ]
  },
  {
   "cell_type": "code",
   "execution_count": 73,
   "id": "1486fd21",
   "metadata": {
    "scrolled": true
   },
   "outputs": [
    {
     "data": {
      "text/plain": [
       "<AxesSubplot:xlabel='AgeGroup', ylabel='count'>"
      ]
     },
     "execution_count": 73,
     "metadata": {},
     "output_type": "execute_result"
    },
    {
     "data": {
      "image/png": "[encoded data removed]",
      "text/plain": [
       "<Figure size 1080x360 with 1 Axes>"
      ]
     },
     "metadata": {
      "needs_background": "light"
     },
     "output_type": "display_data"
    }
   ],
   "source": [
    "plt.figure(figsize=(15, 5))\n",
    "sns.countplot(x='AgeGroup', data=df)"
   ]
  },
  {
   "cell_type": "code",
   "execution_count": 74,
   "id": "9895000c",
   "metadata": {},
   "outputs": [
    {
     "data": {
      "image/png": "[encoded data removed]",
      "text/plain": [
       "<Figure size 1440x720 with 1 Axes>"
      ]
     },
     "metadata": {
      "needs_background": "light"
     },
     "output_type": "display_data"
    }
   ],
   "source": [
    "plt.figure(figsize=(20,10))\n",
    "ax = sns.histplot(data = df.Age, color='salmon')\n",
    "ax.set(title = \"Age Distribution of Customers\");\n",
    "plt.xticks( fontsize=16)\n",
    "plt.yticks( fontsize=16)\n",
    "plt.xlabel('Age ', fontsize=20, labelpad=20)\n",
    "plt.ylabel('Counts', fontsize=20, labelpad=20);"
   ]
  },
  {
   "cell_type": "code",
   "execution_count": 75,
   "id": "86cd5a04",
   "metadata": {},
   "outputs": [
    {
     "data": {
      "image/png": "[encoded data removed]",
      "text/plain": [
       "<Figure size 1440x720 with 1 Axes>"
      ]
     },
     "metadata": {
      "needs_background": "light"
     },
     "output_type": "display_data"
    }
   ],
   "source": [
    "plt.figure(figsize=(20, 10))\n",
    "ax = sns.histplot(data = df.Income, color = \"midnightblue\")\n",
    "ax.set(title = \"Income Distribution of Customers\");\n",
    "\n",
    "plt.xticks( fontsize=16)\n",
    "plt.yticks( fontsize=16)\n",
    "plt.xlabel('Income', fontsize=20, labelpad=20)\n",
    "plt.ylabel('Counts', fontsize=20, labelpad=20);"
   ]
  },
  {
   "cell_type": "code",
   "execution_count": 76,
   "id": "c6c48d32",
   "metadata": {},
   "outputs": [
    {
     "data": {
      "text/html": [
       "<div>\n",
       "<style scoped>\n",
       "    .dataframe tbody tr th:only-of-type {\n",
       "        vertical-align: middle;\n",
       "    }\n",
       "\n",
       "    .dataframe tbody tr th {\n",
       "        vertical-align: top;\n",
       "    }\n",
       "\n",
       "    .dataframe thead th {\n",
       "        text-align: right;\n",
       "    }\n",
       "</style>\n",
       "<table border=\"1\" class=\"dataframe\">\n",
       "  <thead>\n",
       "    <tr style=\"text-align: right;\">\n",
       "      <th></th>\n",
       "      <th>ID</th>\n",
       "      <th>Education</th>\n",
       "      <th>Marital_Status</th>\n",
       "      <th>Income</th>\n",
       "      <th>Dt_Customer</th>\n",
       "      <th>Recency</th>\n",
       "      <th>Wines</th>\n",
       "      <th>Fruits</th>\n",
       "      <th>Meat</th>\n",
       "      <th>Fish</th>\n",
       "      <th>...</th>\n",
       "      <th>Response</th>\n",
       "      <th>Age</th>\n",
       "      <th>Kids</th>\n",
       "      <th>Parent</th>\n",
       "      <th>Days_Enrolled</th>\n",
       "      <th>Spend_all</th>\n",
       "      <th>CouponsAccepted</th>\n",
       "      <th>NumAllPurchases</th>\n",
       "      <th>AverageCheck</th>\n",
       "      <th>AgeGroup</th>\n",
       "    </tr>\n",
       "  </thead>\n",
       "  <tbody>\n",
       "    <tr>\n",
       "      <th>0</th>\n",
       "      <td>5524</td>\n",
       "      <td>Graduation</td>\n",
       "      <td>Alone</td>\n",
       "      <td>58138.0</td>\n",
       "      <td>04-09-2012</td>\n",
       "      <td>58</td>\n",
       "      <td>635</td>\n",
       "      <td>88</td>\n",
       "      <td>546</td>\n",
       "      <td>172</td>\n",
       "      <td>...</td>\n",
       "      <td>1</td>\n",
       "      <td>58</td>\n",
       "      <td>0</td>\n",
       "      <td>0</td>\n",
       "      <td>971</td>\n",
       "      <td>1617</td>\n",
       "      <td>1</td>\n",
       "      <td>22.0</td>\n",
       "      <td>73.5</td>\n",
       "      <td>[50, 60]</td>\n",
       "    </tr>\n",
       "    <tr>\n",
       "      <th>1</th>\n",
       "      <td>2174</td>\n",
       "      <td>Graduation</td>\n",
       "      <td>Alone</td>\n",
       "      <td>46344.0</td>\n",
       "      <td>08-03-2014</td>\n",
       "      <td>38</td>\n",
       "      <td>11</td>\n",
       "      <td>1</td>\n",
       "      <td>6</td>\n",
       "      <td>2</td>\n",
       "      <td>...</td>\n",
       "      <td>0</td>\n",
       "      <td>61</td>\n",
       "      <td>2</td>\n",
       "      <td>1</td>\n",
       "      <td>125</td>\n",
       "      <td>27</td>\n",
       "      <td>0</td>\n",
       "      <td>4.0</td>\n",
       "      <td>6.8</td>\n",
       "      <td>[60, 70]</td>\n",
       "    </tr>\n",
       "    <tr>\n",
       "      <th>2</th>\n",
       "      <td>4141</td>\n",
       "      <td>Graduation</td>\n",
       "      <td>Partner</td>\n",
       "      <td>71613.0</td>\n",
       "      <td>21-08-2013</td>\n",
       "      <td>26</td>\n",
       "      <td>426</td>\n",
       "      <td>49</td>\n",
       "      <td>127</td>\n",
       "      <td>111</td>\n",
       "      <td>...</td>\n",
       "      <td>0</td>\n",
       "      <td>50</td>\n",
       "      <td>0</td>\n",
       "      <td>0</td>\n",
       "      <td>472</td>\n",
       "      <td>776</td>\n",
       "      <td>0</td>\n",
       "      <td>20.0</td>\n",
       "      <td>38.8</td>\n",
       "      <td>[50, 60]</td>\n",
       "    </tr>\n",
       "    <tr>\n",
       "      <th>3</th>\n",
       "      <td>6182</td>\n",
       "      <td>Graduation</td>\n",
       "      <td>Partner</td>\n",
       "      <td>26646.0</td>\n",
       "      <td>10-02-2014</td>\n",
       "      <td>26</td>\n",
       "      <td>11</td>\n",
       "      <td>4</td>\n",
       "      <td>20</td>\n",
       "      <td>10</td>\n",
       "      <td>...</td>\n",
       "      <td>0</td>\n",
       "      <td>31</td>\n",
       "      <td>1</td>\n",
       "      <td>1</td>\n",
       "      <td>65</td>\n",
       "      <td>53</td>\n",
       "      <td>0</td>\n",
       "      <td>6.0</td>\n",
       "      <td>8.8</td>\n",
       "      <td>[30, 40]</td>\n",
       "    </tr>\n",
       "    <tr>\n",
       "      <th>4</th>\n",
       "      <td>5324</td>\n",
       "      <td>PhD</td>\n",
       "      <td>Partner</td>\n",
       "      <td>58293.0</td>\n",
       "      <td>19-01-2014</td>\n",
       "      <td>94</td>\n",
       "      <td>173</td>\n",
       "      <td>43</td>\n",
       "      <td>118</td>\n",
       "      <td>46</td>\n",
       "      <td>...</td>\n",
       "      <td>0</td>\n",
       "      <td>34</td>\n",
       "      <td>1</td>\n",
       "      <td>1</td>\n",
       "      <td>321</td>\n",
       "      <td>422</td>\n",
       "      <td>0</td>\n",
       "      <td>14.0</td>\n",
       "      <td>30.1</td>\n",
       "      <td>[30, 40]</td>\n",
       "    </tr>\n",
       "  </tbody>\n",
       "</table>\n",
       "<p>5 rows × 35 columns</p>\n",
       "</div>"
      ],
      "text/plain": [
       "     ID   Education Marital_Status   Income Dt_Customer  Recency  Wines  \\\n",
       "0  5524  Graduation          Alone  58138.0  04-09-2012       58    635   \n",
       "1  2174  Graduation          Alone  46344.0  08-03-2014       38     11   \n",
       "2  4141  Graduation        Partner  71613.0  21-08-2013       26    426   \n",
       "3  6182  Graduation        Partner  26646.0  10-02-2014       26     11   \n",
       "4  5324         PhD        Partner  58293.0  19-01-2014       94    173   \n",
       "\n",
       "   Fruits  Meat  Fish  ...  Response  Age  Kids  Parent  Days_Enrolled  \\\n",
       "0      88   546   172  ...         1   58     0       0            971   \n",
       "1       1     6     2  ...         0   61     2       1            125   \n",
       "2      49   127   111  ...         0   50     0       0            472   \n",
       "3       4    20    10  ...         0   31     1       1             65   \n",
       "4      43   118    46  ...         0   34     1       1            321   \n",
       "\n",
       "   Spend_all  CouponsAccepted  NumAllPurchases  AverageCheck  AgeGroup  \n",
       "0       1617                1             22.0          73.5  [50, 60]  \n",
       "1         27                0              4.0           6.8  [60, 70]  \n",
       "2        776                0             20.0          38.8  [50, 60]  \n",
       "3         53                0              6.0           8.8  [30, 40]  \n",
       "4        422                0             14.0          30.1  [30, 40]  \n",
       "\n",
       "[5 rows x 35 columns]"
      ]
     },
     "execution_count": 76,
     "metadata": {},
     "output_type": "execute_result"
    }
   ],
   "source": [
    "df.head()"
   ]
  },
  {
   "cell_type": "code",
   "execution_count": 77,
   "id": "89238ad7",
   "metadata": {},
   "outputs": [
    {
     "data": {
      "text/plain": [
       "Index(['ID', 'Education', 'Marital_Status', 'Income', 'Dt_Customer', 'Recency',\n",
       "       'Wines', 'Fruits', 'Meat', 'Fish', 'Sweets', 'Gold',\n",
       "       'NumDealsPurchases', 'NumWebPurchases', 'NumCatalogPurchases',\n",
       "       'NumStorePurchases', 'NumWebVisitsMonth', 'AcceptedCmp3',\n",
       "       'AcceptedCmp4', 'AcceptedCmp5', 'AcceptedCmp1', 'AcceptedCmp2',\n",
       "       'Complain', 'Z_CostContact', 'Z_Revenue', 'Response', 'Age', 'Kids',\n",
       "       'Parent', 'Days_Enrolled', 'Spend_all', 'CouponsAccepted',\n",
       "       'NumAllPurchases', 'AverageCheck', 'AgeGroup'],\n",
       "      dtype='object')"
      ]
     },
     "execution_count": 77,
     "metadata": {},
     "output_type": "execute_result"
    }
   ],
   "source": [
    "df.columns"
   ]
  },
  {
   "cell_type": "code",
   "execution_count": 78,
   "id": "f99bced9",
   "metadata": {},
   "outputs": [],
   "source": [
    "df_for_clustering = df.drop(['ID', 'Education', 'Marital_Status','Income', 'Dt_Customer', 'Recency',\n",
    "                             'Wines', 'Fruits', 'Meat', 'Fish', 'Sweets', 'Gold',\n",
    "                             'NumDealsPurchases', 'NumWebPurchases', 'NumCatalogPurchases',\n",
    "                             'NumStorePurchases', 'NumWebVisitsMonth', 'AcceptedCmp3',\n",
    "                             'AcceptedCmp4', 'AcceptedCmp5', 'AcceptedCmp1', 'AcceptedCmp2',\n",
    "                             'Complain', 'Z_CostContact', 'Z_Revenue', 'Response', 'Age', 'Kids',\n",
    "                             'Parent', 'CouponsAccepted', 'AgeGroup'], axis = 1)"
   ]
  },
  {
   "cell_type": "code",
   "execution_count": 79,
   "id": "3d270e4e",
   "metadata": {},
   "outputs": [
    {
     "data": {
      "text/html": [
       "<div>\n",
       "<style scoped>\n",
       "    .dataframe tbody tr th:only-of-type {\n",
       "        vertical-align: middle;\n",
       "    }\n",
       "\n",
       "    .dataframe tbody tr th {\n",
       "        vertical-align: top;\n",
       "    }\n",
       "\n",
       "    .dataframe thead th {\n",
       "        text-align: right;\n",
       "    }\n",
       "</style>\n",
       "<table border=\"1\" class=\"dataframe\">\n",
       "  <thead>\n",
       "    <tr style=\"text-align: right;\">\n",
       "      <th></th>\n",
       "      <th>Days_Enrolled</th>\n",
       "      <th>Spend_all</th>\n",
       "      <th>NumAllPurchases</th>\n",
       "      <th>AverageCheck</th>\n",
       "    </tr>\n",
       "  </thead>\n",
       "  <tbody>\n",
       "    <tr>\n",
       "      <th>0</th>\n",
       "      <td>971</td>\n",
       "      <td>1617</td>\n",
       "      <td>22.0</td>\n",
       "      <td>73.5</td>\n",
       "    </tr>\n",
       "    <tr>\n",
       "      <th>1</th>\n",
       "      <td>125</td>\n",
       "      <td>27</td>\n",
       "      <td>4.0</td>\n",
       "      <td>6.8</td>\n",
       "    </tr>\n",
       "    <tr>\n",
       "      <th>2</th>\n",
       "      <td>472</td>\n",
       "      <td>776</td>\n",
       "      <td>20.0</td>\n",
       "      <td>38.8</td>\n",
       "    </tr>\n",
       "    <tr>\n",
       "      <th>3</th>\n",
       "      <td>65</td>\n",
       "      <td>53</td>\n",
       "      <td>6.0</td>\n",
       "      <td>8.8</td>\n",
       "    </tr>\n",
       "    <tr>\n",
       "      <th>4</th>\n",
       "      <td>321</td>\n",
       "      <td>422</td>\n",
       "      <td>14.0</td>\n",
       "      <td>30.1</td>\n",
       "    </tr>\n",
       "  </tbody>\n",
       "</table>\n",
       "</div>"
      ],
      "text/plain": [
       "   Days_Enrolled  Spend_all  NumAllPurchases  AverageCheck\n",
       "0            971       1617             22.0          73.5\n",
       "1            125         27              4.0           6.8\n",
       "2            472        776             20.0          38.8\n",
       "3             65         53              6.0           8.8\n",
       "4            321        422             14.0          30.1"
      ]
     },
     "execution_count": 79,
     "metadata": {},
     "output_type": "execute_result"
    }
   ],
   "source": [
    "df_for_clustering.head()"
   ]
  },
  {
   "cell_type": "markdown",
   "id": "5cfae126",
   "metadata": {},
   "source": [
    "### Підготовка даних перед обученням"
   ]
  },
  {
   "cell_type": "code",
   "execution_count": 80,
   "id": "c91f84ec",
   "metadata": {},
   "outputs": [],
   "source": [
    "#object type to int \n",
    "s = (df_for_clustering.dtypes == 'object')\n",
    "object_cols = list(s[s].index)\n",
    "\n",
    "LE=LabelEncoder()\n",
    "for i in object_cols:\n",
    "    df_for_clustering[i]=df_for_clustering[[i]].apply(LE.fit_transform)"
   ]
  },
  {
   "cell_type": "code",
   "execution_count": 81,
   "id": "522aaa54",
   "metadata": {
    "scrolled": true
   },
   "outputs": [
    {
     "data": {
      "text/html": [
       "<div>\n",
       "<style scoped>\n",
       "    .dataframe tbody tr th:only-of-type {\n",
       "        vertical-align: middle;\n",
       "    }\n",
       "\n",
       "    .dataframe tbody tr th {\n",
       "        vertical-align: top;\n",
       "    }\n",
       "\n",
       "    .dataframe thead th {\n",
       "        text-align: right;\n",
       "    }\n",
       "</style>\n",
       "<table border=\"1\" class=\"dataframe\">\n",
       "  <thead>\n",
       "    <tr style=\"text-align: right;\">\n",
       "      <th></th>\n",
       "      <th>Days_Enrolled</th>\n",
       "      <th>Spend_all</th>\n",
       "      <th>NumAllPurchases</th>\n",
       "      <th>AverageCheck</th>\n",
       "    </tr>\n",
       "  </thead>\n",
       "  <tbody>\n",
       "    <tr>\n",
       "      <th>0</th>\n",
       "      <td>971</td>\n",
       "      <td>1617</td>\n",
       "      <td>22.0</td>\n",
       "      <td>73.5</td>\n",
       "    </tr>\n",
       "    <tr>\n",
       "      <th>1</th>\n",
       "      <td>125</td>\n",
       "      <td>27</td>\n",
       "      <td>4.0</td>\n",
       "      <td>6.8</td>\n",
       "    </tr>\n",
       "    <tr>\n",
       "      <th>2</th>\n",
       "      <td>472</td>\n",
       "      <td>776</td>\n",
       "      <td>20.0</td>\n",
       "      <td>38.8</td>\n",
       "    </tr>\n",
       "    <tr>\n",
       "      <th>3</th>\n",
       "      <td>65</td>\n",
       "      <td>53</td>\n",
       "      <td>6.0</td>\n",
       "      <td>8.8</td>\n",
       "    </tr>\n",
       "    <tr>\n",
       "      <th>4</th>\n",
       "      <td>321</td>\n",
       "      <td>422</td>\n",
       "      <td>14.0</td>\n",
       "      <td>30.1</td>\n",
       "    </tr>\n",
       "  </tbody>\n",
       "</table>\n",
       "</div>"
      ],
      "text/plain": [
       "   Days_Enrolled  Spend_all  NumAllPurchases  AverageCheck\n",
       "0            971       1617             22.0          73.5\n",
       "1            125         27              4.0           6.8\n",
       "2            472        776             20.0          38.8\n",
       "3             65         53              6.0           8.8\n",
       "4            321        422             14.0          30.1"
      ]
     },
     "execution_count": 81,
     "metadata": {},
     "output_type": "execute_result"
    }
   ],
   "source": [
    "df_for_clustering.head()"
   ]
  },
  {
   "cell_type": "code",
   "execution_count": 82,
   "id": "3639f1d0",
   "metadata": {},
   "outputs": [],
   "source": [
    "for i in df_for_clustering.columns:\n",
    "    df_for_clustering[i] = StandardScaler().fit_transform(np.array(df_for_clustering[[i]]))"
   ]
  },
  {
   "cell_type": "code",
   "execution_count": 83,
   "id": "aa7a2ae6",
   "metadata": {},
   "outputs": [
    {
     "data": {
      "text/html": [
       "<div>\n",
       "<style scoped>\n",
       "    .dataframe tbody tr th:only-of-type {\n",
       "        vertical-align: middle;\n",
       "    }\n",
       "\n",
       "    .dataframe tbody tr th {\n",
       "        vertical-align: top;\n",
       "    }\n",
       "\n",
       "    .dataframe thead th {\n",
       "        text-align: right;\n",
       "    }\n",
       "</style>\n",
       "<table border=\"1\" class=\"dataframe\">\n",
       "  <thead>\n",
       "    <tr style=\"text-align: right;\">\n",
       "      <th></th>\n",
       "      <th>Days_Enrolled</th>\n",
       "      <th>Spend_all</th>\n",
       "      <th>NumAllPurchases</th>\n",
       "      <th>AverageCheck</th>\n",
       "    </tr>\n",
       "  </thead>\n",
       "  <tbody>\n",
       "    <tr>\n",
       "      <th>0</th>\n",
       "      <td>1.974128</td>\n",
       "      <td>1.679323</td>\n",
       "      <td>1.314151</td>\n",
       "      <td>1.200586</td>\n",
       "    </tr>\n",
       "    <tr>\n",
       "      <th>1</th>\n",
       "      <td>-1.664957</td>\n",
       "      <td>-0.963897</td>\n",
       "      <td>-1.200274</td>\n",
       "      <td>-1.018832</td>\n",
       "    </tr>\n",
       "    <tr>\n",
       "      <th>2</th>\n",
       "      <td>-0.172330</td>\n",
       "      <td>0.281242</td>\n",
       "      <td>1.034770</td>\n",
       "      <td>0.045957</td>\n",
       "    </tr>\n",
       "    <tr>\n",
       "      <th>3</th>\n",
       "      <td>-1.923048</td>\n",
       "      <td>-0.920675</td>\n",
       "      <td>-0.920893</td>\n",
       "      <td>-0.952282</td>\n",
       "    </tr>\n",
       "    <tr>\n",
       "      <th>4</th>\n",
       "      <td>-0.821859</td>\n",
       "      <td>-0.307248</td>\n",
       "      <td>0.196629</td>\n",
       "      <td>-0.243533</td>\n",
       "    </tr>\n",
       "  </tbody>\n",
       "</table>\n",
       "</div>"
      ],
      "text/plain": [
       "   Days_Enrolled  Spend_all  NumAllPurchases  AverageCheck\n",
       "0       1.974128   1.679323         1.314151      1.200586\n",
       "1      -1.664957  -0.963897        -1.200274     -1.018832\n",
       "2      -0.172330   0.281242         1.034770      0.045957\n",
       "3      -1.923048  -0.920675        -0.920893     -0.952282\n",
       "4      -0.821859  -0.307248         0.196629     -0.243533"
      ]
     },
     "execution_count": 83,
     "metadata": {},
     "output_type": "execute_result"
    }
   ],
   "source": [
    "df_for_clustering.head()"
   ]
  },
  {
   "cell_type": "code",
   "execution_count": null,
   "id": "58677ddc",
   "metadata": {},
   "outputs": [],
   "source": []
  },
  {
   "cell_type": "markdown",
   "id": "ebdfe79a",
   "metadata": {},
   "source": [
    "### Clustering model"
   ]
  },
  {
   "cell_type": "code",
   "execution_count": 84,
   "id": "4cb3187c",
   "metadata": {},
   "outputs": [
    {
     "data": {
      "image/png": "[encoded data removed]",
      "text/plain": [
       "<Figure size 432x288 with 1 Axes>"
      ]
     },
     "metadata": {
      "needs_background": "light"
     },
     "output_type": "display_data"
    }
   ],
   "source": [
    "l= []\n",
    "for x in range(1,10):\n",
    "    km = KMeans(n_clusters=x, init='k-means++',random_state=42)\n",
    "    km.fit(df_for_clustering)\n",
    "    l.append(km.inertia_)\n",
    "    \n",
    "plt.plot(range(1,10), l, 'bx-')\n",
    "plt.title('The Elbow Method')\n",
    "plt.xlabel('Number of Cluster')\n",
    "plt.ylabel('SSE')\n",
    "plt.show()"
   ]
  },
  {
   "cell_type": "code",
   "execution_count": 85,
   "id": "a429c4c2",
   "metadata": {},
   "outputs": [],
   "source": [
    "kmeans = KMeans(n_clusters = 4, random_state=42).fit(df_for_clustering)\n",
    "pred = kmeans.predict(df_for_clustering)\n",
    "df[\"Cluster\"] = pred+1"
   ]
  },
  {
   "cell_type": "code",
   "execution_count": 86,
   "id": "f76c8ffc",
   "metadata": {},
   "outputs": [
    {
     "data": {
      "text/html": [
       "<div>\n",
       "<style scoped>\n",
       "    .dataframe tbody tr th:only-of-type {\n",
       "        vertical-align: middle;\n",
       "    }\n",
       "\n",
       "    .dataframe tbody tr th {\n",
       "        vertical-align: top;\n",
       "    }\n",
       "\n",
       "    .dataframe thead th {\n",
       "        text-align: right;\n",
       "    }\n",
       "</style>\n",
       "<table border=\"1\" class=\"dataframe\">\n",
       "  <thead>\n",
       "    <tr style=\"text-align: right;\">\n",
       "      <th></th>\n",
       "      <th>ID</th>\n",
       "      <th>Education</th>\n",
       "      <th>Marital_Status</th>\n",
       "      <th>Income</th>\n",
       "      <th>Dt_Customer</th>\n",
       "      <th>Recency</th>\n",
       "      <th>Wines</th>\n",
       "      <th>Fruits</th>\n",
       "      <th>Meat</th>\n",
       "      <th>Fish</th>\n",
       "      <th>...</th>\n",
       "      <th>Age</th>\n",
       "      <th>Kids</th>\n",
       "      <th>Parent</th>\n",
       "      <th>Days_Enrolled</th>\n",
       "      <th>Spend_all</th>\n",
       "      <th>CouponsAccepted</th>\n",
       "      <th>NumAllPurchases</th>\n",
       "      <th>AverageCheck</th>\n",
       "      <th>AgeGroup</th>\n",
       "      <th>Cluster</th>\n",
       "    </tr>\n",
       "  </thead>\n",
       "  <tbody>\n",
       "    <tr>\n",
       "      <th>0</th>\n",
       "      <td>5524</td>\n",
       "      <td>Graduation</td>\n",
       "      <td>Alone</td>\n",
       "      <td>58138.0</td>\n",
       "      <td>04-09-2012</td>\n",
       "      <td>58</td>\n",
       "      <td>635</td>\n",
       "      <td>88</td>\n",
       "      <td>546</td>\n",
       "      <td>172</td>\n",
       "      <td>...</td>\n",
       "      <td>58</td>\n",
       "      <td>0</td>\n",
       "      <td>0</td>\n",
       "      <td>971</td>\n",
       "      <td>1617</td>\n",
       "      <td>1</td>\n",
       "      <td>22.0</td>\n",
       "      <td>73.5</td>\n",
       "      <td>[50, 60]</td>\n",
       "      <td>3</td>\n",
       "    </tr>\n",
       "    <tr>\n",
       "      <th>1</th>\n",
       "      <td>2174</td>\n",
       "      <td>Graduation</td>\n",
       "      <td>Alone</td>\n",
       "      <td>46344.0</td>\n",
       "      <td>08-03-2014</td>\n",
       "      <td>38</td>\n",
       "      <td>11</td>\n",
       "      <td>1</td>\n",
       "      <td>6</td>\n",
       "      <td>2</td>\n",
       "      <td>...</td>\n",
       "      <td>61</td>\n",
       "      <td>2</td>\n",
       "      <td>1</td>\n",
       "      <td>125</td>\n",
       "      <td>27</td>\n",
       "      <td>0</td>\n",
       "      <td>4.0</td>\n",
       "      <td>6.8</td>\n",
       "      <td>[60, 70]</td>\n",
       "      <td>4</td>\n",
       "    </tr>\n",
       "    <tr>\n",
       "      <th>2</th>\n",
       "      <td>4141</td>\n",
       "      <td>Graduation</td>\n",
       "      <td>Partner</td>\n",
       "      <td>71613.0</td>\n",
       "      <td>21-08-2013</td>\n",
       "      <td>26</td>\n",
       "      <td>426</td>\n",
       "      <td>49</td>\n",
       "      <td>127</td>\n",
       "      <td>111</td>\n",
       "      <td>...</td>\n",
       "      <td>50</td>\n",
       "      <td>0</td>\n",
       "      <td>0</td>\n",
       "      <td>472</td>\n",
       "      <td>776</td>\n",
       "      <td>0</td>\n",
       "      <td>20.0</td>\n",
       "      <td>38.8</td>\n",
       "      <td>[50, 60]</td>\n",
       "      <td>2</td>\n",
       "    </tr>\n",
       "    <tr>\n",
       "      <th>3</th>\n",
       "      <td>6182</td>\n",
       "      <td>Graduation</td>\n",
       "      <td>Partner</td>\n",
       "      <td>26646.0</td>\n",
       "      <td>10-02-2014</td>\n",
       "      <td>26</td>\n",
       "      <td>11</td>\n",
       "      <td>4</td>\n",
       "      <td>20</td>\n",
       "      <td>10</td>\n",
       "      <td>...</td>\n",
       "      <td>31</td>\n",
       "      <td>1</td>\n",
       "      <td>1</td>\n",
       "      <td>65</td>\n",
       "      <td>53</td>\n",
       "      <td>0</td>\n",
       "      <td>6.0</td>\n",
       "      <td>8.8</td>\n",
       "      <td>[30, 40]</td>\n",
       "      <td>4</td>\n",
       "    </tr>\n",
       "    <tr>\n",
       "      <th>4</th>\n",
       "      <td>5324</td>\n",
       "      <td>PhD</td>\n",
       "      <td>Partner</td>\n",
       "      <td>58293.0</td>\n",
       "      <td>19-01-2014</td>\n",
       "      <td>94</td>\n",
       "      <td>173</td>\n",
       "      <td>43</td>\n",
       "      <td>118</td>\n",
       "      <td>46</td>\n",
       "      <td>...</td>\n",
       "      <td>34</td>\n",
       "      <td>1</td>\n",
       "      <td>1</td>\n",
       "      <td>321</td>\n",
       "      <td>422</td>\n",
       "      <td>0</td>\n",
       "      <td>14.0</td>\n",
       "      <td>30.1</td>\n",
       "      <td>[30, 40]</td>\n",
       "      <td>4</td>\n",
       "    </tr>\n",
       "  </tbody>\n",
       "</table>\n",
       "<p>5 rows × 36 columns</p>\n",
       "</div>"
      ],
      "text/plain": [
       "     ID   Education Marital_Status   Income Dt_Customer  Recency  Wines  \\\n",
       "0  5524  Graduation          Alone  58138.0  04-09-2012       58    635   \n",
       "1  2174  Graduation          Alone  46344.0  08-03-2014       38     11   \n",
       "2  4141  Graduation        Partner  71613.0  21-08-2013       26    426   \n",
       "3  6182  Graduation        Partner  26646.0  10-02-2014       26     11   \n",
       "4  5324         PhD        Partner  58293.0  19-01-2014       94    173   \n",
       "\n",
       "   Fruits  Meat  Fish  ...  Age  Kids  Parent  Days_Enrolled  Spend_all  \\\n",
       "0      88   546   172  ...   58     0       0            971       1617   \n",
       "1       1     6     2  ...   61     2       1            125         27   \n",
       "2      49   127   111  ...   50     0       0            472        776   \n",
       "3       4    20    10  ...   31     1       1             65         53   \n",
       "4      43   118    46  ...   34     1       1            321        422   \n",
       "\n",
       "   CouponsAccepted  NumAllPurchases  AverageCheck  AgeGroup  Cluster  \n",
       "0                1             22.0          73.5  [50, 60]        3  \n",
       "1                0              4.0           6.8  [60, 70]        4  \n",
       "2                0             20.0          38.8  [50, 60]        2  \n",
       "3                0              6.0           8.8  [30, 40]        4  \n",
       "4                0             14.0          30.1  [30, 40]        4  \n",
       "\n",
       "[5 rows x 36 columns]"
      ]
     },
     "execution_count": 86,
     "metadata": {},
     "output_type": "execute_result"
    }
   ],
   "source": [
    "df.head()"
   ]
  },
  {
   "cell_type": "code",
   "execution_count": null,
   "id": "aefba1b8",
   "metadata": {},
   "outputs": [],
   "source": []
  },
  {
   "cell_type": "code",
   "execution_count": 87,
   "id": "48bd5191",
   "metadata": {},
   "outputs": [],
   "source": [
    "df['Cluster'] = np.where(df['Cluster'] == 1, \"Cluster 1\",\n",
    "                np.where(df['Cluster'] == 2, \"Cluster 2\",\n",
    "                np.where(df['Cluster'] == 3, \"Cluster 3\",\"Cluster 4\")))"
   ]
  },
  {
   "cell_type": "code",
   "execution_count": 88,
   "id": "950e94a6",
   "metadata": {},
   "outputs": [
    {
     "data": {
      "application/vnd.plotly.v1+json": {
       "config": {
        "plotlyServerURL": "https://plot.ly"
       },
       "data": [
        {
         "hole": 0.3,
         "labels": [
          "Cluster 4",
          "Cluster 1",
          "Cluster 2",
          "Cluster 3"
         ],
         "type": "pie",
         "values": [
          634,
          550,
          525,
          496
         ]
        }
       ],
       "layout": {
        "height": 400,
        "template": {
         "data": {
          "bar": [
           {
            "error_x": {
             "color": "#2a3f5f"
            },
            "error_y": {
             "color": "#2a3f5f"
            },
            "marker": {
             "line": {
              "color": "#E5ECF6",
              "width": 0.5
             },
             "pattern": {
              "fillmode": "overlay",
              "size": 10,
              "solidity": 0.2
             }
            },
            "type": "bar"
           }
          ],
          "barpolar": [
           {
            "marker": {
             "line": {
              "color": "#E5ECF6",
              "width": 0.5
             },
             "pattern": {
              "fillmode": "overlay",
              "size": 10,
              "solidity": 0.2
             }
            },
            "type": "barpolar"
           }
          ],
          "carpet": [
           {
            "aaxis": {
             "endlinecolor": "#2a3f5f",
             "gridcolor": "white",
             "linecolor": "white",
             "minorgridcolor": "white",
             "startlinecolor": "#2a3f5f"
            },
            "baxis": {
             "endlinecolor": "#2a3f5f",
             "gridcolor": "white",
             "linecolor": "white",
             "minorgridcolor": "white",
             "startlinecolor": "#2a3f5f"
            },
            "type": "carpet"
           }
          ],
          "choropleth": [
           {
            "colorbar": {
             "outlinewidth": 0,
             "ticks": ""
            },
            "type": "choropleth"
           }
          ],
          "contour": [
           {
            "colorbar": {
             "outlinewidth": 0,
             "ticks": ""
            },
            "colorscale": [
             [
              0,
              "#0d0887"
             ],
             [
              0.1111111111111111,
              "#46039f"
             ],
             [
              0.2222222222222222,
              "#7201a8"
             ],
             [
              0.3333333333333333,
              "#9c179e"
             ],
             [
              0.4444444444444444,
              "#bd3786"
             ],
             [
              0.5555555555555556,
              "#d8576b"
             ],
             [
              0.6666666666666666,
              "#ed7953"
             ],
             [
              0.7777777777777778,
              "#fb9f3a"
             ],
             [
              0.8888888888888888,
              "#fdca26"
             ],
             [
              1,
              "#f0f921"
             ]
            ],
            "type": "contour"
           }
          ],
          "contourcarpet": [
           {
            "colorbar": {
             "outlinewidth": 0,
             "ticks": ""
            },
            "type": "contourcarpet"
           }
          ],
          "heatmap": [
           {
            "colorbar": {
             "outlinewidth": 0,
             "ticks": ""
            },
            "colorscale": [
             [
              0,
              "#0d0887"
             ],
             [
              0.1111111111111111,
              "#46039f"
             ],
             [
              0.2222222222222222,
              "#7201a8"
             ],
             [
              0.3333333333333333,
              "#9c179e"
             ],
             [
              0.4444444444444444,
              "#bd3786"
             ],
             [
              0.5555555555555556,
              "#d8576b"
             ],
             [
              0.6666666666666666,
              "#ed7953"
             ],
             [
              0.7777777777777778,
              "#fb9f3a"
             ],
             [
              0.8888888888888888,
              "#fdca26"
             ],
             [
              1,
              "#f0f921"
             ]
            ],
            "type": "heatmap"
           }
          ],
          "heatmapgl": [
           {
            "colorbar": {
             "outlinewidth": 0,
             "ticks": ""
            },
            "colorscale": [
             [
              0,
              "#0d0887"
             ],
             [
              0.1111111111111111,
              "#46039f"
             ],
             [
              0.2222222222222222,
              "#7201a8"
             ],
             [
              0.3333333333333333,
              "#9c179e"
             ],
             [
              0.4444444444444444,
              "#bd3786"
             ],
             [
              0.5555555555555556,
              "#d8576b"
             ],
             [
              0.6666666666666666,
              "#ed7953"
             ],
             [
              0.7777777777777778,
              "#fb9f3a"
             ],
             [
              0.8888888888888888,
              "#fdca26"
             ],
             [
              1,
              "#f0f921"
             ]
            ],
            "type": "heatmapgl"
           }
          ],
          "histogram": [
           {
            "marker": {
             "pattern": {
              "fillmode": "overlay",
              "size": 10,
              "solidity": 0.2
             }
            },
            "type": "histogram"
           }
          ],
          "histogram2d": [
           {
            "colorbar": {
             "outlinewidth": 0,
             "ticks": ""
            },
            "colorscale": [
             [
              0,
              "#0d0887"
             ],
             [
              0.1111111111111111,
              "#46039f"
             ],
             [
              0.2222222222222222,
              "#7201a8"
             ],
             [
              0.3333333333333333,
              "#9c179e"
             ],
             [
              0.4444444444444444,
              "#bd3786"
             ],
             [
              0.5555555555555556,
              "#d8576b"
             ],
             [
              0.6666666666666666,
              "#ed7953"
             ],
             [
              0.7777777777777778,
              "#fb9f3a"
             ],
             [
              0.8888888888888888,
              "#fdca26"
             ],
             [
              1,
              "#f0f921"
             ]
            ],
            "type": "histogram2d"
           }
          ],
          "histogram2dcontour": [
           {
            "colorbar": {
             "outlinewidth": 0,
             "ticks": ""
            },
            "colorscale": [
             [
              0,
              "#0d0887"
             ],
             [
              0.1111111111111111,
              "#46039f"
             ],
             [
              0.2222222222222222,
              "#7201a8"
             ],
             [
              0.3333333333333333,
              "#9c179e"
             ],
             [
              0.4444444444444444,
              "#bd3786"
             ],
             [
              0.5555555555555556,
              "#d8576b"
             ],
             [
              0.6666666666666666,
              "#ed7953"
             ],
             [
              0.7777777777777778,
              "#fb9f3a"
             ],
             [
              0.8888888888888888,
              "#fdca26"
             ],
             [
              1,
              "#f0f921"
             ]
            ],
            "type": "histogram2dcontour"
           }
          ],
          "mesh3d": [
           {
            "colorbar": {
             "outlinewidth": 0,
             "ticks": ""
            },
            "type": "mesh3d"
           }
          ],
          "parcoords": [
           {
            "line": {
             "colorbar": {
              "outlinewidth": 0,
              "ticks": ""
             }
            },
            "type": "parcoords"
           }
          ],
          "pie": [
           {
            "automargin": true,
            "type": "pie"
           }
          ],
          "scatter": [
           {
            "marker": {
             "colorbar": {
              "outlinewidth": 0,
              "ticks": ""
             }
            },
            "type": "scatter"
           }
          ],
          "scatter3d": [
           {
            "line": {
             "colorbar": {
              "outlinewidth": 0,
              "ticks": ""
             }
            },
            "marker": {
             "colorbar": {
              "outlinewidth": 0,
              "ticks": ""
             }
            },
            "type": "scatter3d"
           }
          ],
          "scattercarpet": [
           {
            "marker": {
             "colorbar": {
              "outlinewidth": 0,
              "ticks": ""
             }
            },
            "type": "scattercarpet"
           }
          ],
          "scattergeo": [
           {
            "marker": {
             "colorbar": {
              "outlinewidth": 0,
              "ticks": ""
             }
            },
            "type": "scattergeo"
           }
          ],
          "scattergl": [
           {
            "marker": {
             "colorbar": {
              "outlinewidth": 0,
              "ticks": ""
             }
            },
            "type": "scattergl"
           }
          ],
          "scattermapbox": [
           {
            "marker": {
             "colorbar": {
              "outlinewidth": 0,
              "ticks": ""
             }
            },
            "type": "scattermapbox"
           }
          ],
          "scatterpolar": [
           {
            "marker": {
             "colorbar": {
              "outlinewidth": 0,
              "ticks": ""
             }
            },
            "type": "scatterpolar"
           }
          ],
          "scatterpolargl": [
           {
            "marker": {
             "colorbar": {
              "outlinewidth": 0,
              "ticks": ""
             }
            },
            "type": "scatterpolargl"
           }
          ],
          "scatterternary": [
           {
            "marker": {
             "colorbar": {
              "outlinewidth": 0,
              "ticks": ""
             }
            },
            "type": "scatterternary"
           }
          ],
          "surface": [
           {
            "colorbar": {
             "outlinewidth": 0,
             "ticks": ""
            },
            "colorscale": [
             [
              0,
              "#0d0887"
             ],
             [
              0.1111111111111111,
              "#46039f"
             ],
             [
              0.2222222222222222,
              "#7201a8"
             ],
             [
              0.3333333333333333,
              "#9c179e"
             ],
             [
              0.4444444444444444,
              "#bd3786"
             ],
             [
              0.5555555555555556,
              "#d8576b"
             ],
             [
              0.6666666666666666,
              "#ed7953"
             ],
             [
              0.7777777777777778,
              "#fb9f3a"
             ],
             [
              0.8888888888888888,
              "#fdca26"
             ],
             [
              1,
              "#f0f921"
             ]
            ],
            "type": "surface"
           }
          ],
          "table": [
           {
            "cells": {
             "fill": {
              "color": "#EBF0F8"
             },
             "line": {
              "color": "white"
             }
            },
            "header": {
             "fill": {
              "color": "#C8D4E3"
             },
             "line": {
              "color": "white"
             }
            },
            "type": "table"
           }
          ]
         },
         "layout": {
          "annotationdefaults": {
           "arrowcolor": "#2a3f5f",
           "arrowhead": 0,
           "arrowwidth": 1
          },
          "autotypenumbers": "strict",
          "coloraxis": {
           "colorbar": {
            "outlinewidth": 0,
            "ticks": ""
           }
          },
          "colorscale": {
           "diverging": [
            [
             0,
             "#8e0152"
            ],
            [
             0.1,
             "#c51b7d"
            ],
            [
             0.2,
             "#de77ae"
            ],
            [
             0.3,
             "#f1b6da"
            ],
            [
             0.4,
             "#fde0ef"
            ],
            [
             0.5,
             "#f7f7f7"
            ],
            [
             0.6,
             "#e6f5d0"
            ],
            [
             0.7,
             "#b8e186"
            ],
            [
             0.8,
             "#7fbc41"
            ],
            [
             0.9,
             "#4d9221"
            ],
            [
             1,
             "#276419"
            ]
           ],
           "sequential": [
            [
             0,
             "#0d0887"
            ],
            [
             0.1111111111111111,
             "#46039f"
            ],
            [
             0.2222222222222222,
             "#7201a8"
            ],
            [
             0.3333333333333333,
             "#9c179e"
            ],
            [
             0.4444444444444444,
             "#bd3786"
            ],
            [
             0.5555555555555556,
             "#d8576b"
            ],
            [
             0.6666666666666666,
             "#ed7953"
            ],
            [
             0.7777777777777778,
             "#fb9f3a"
            ],
            [
             0.8888888888888888,
             "#fdca26"
            ],
            [
             1,
             "#f0f921"
            ]
           ],
           "sequentialminus": [
            [
             0,
             "#0d0887"
            ],
            [
             0.1111111111111111,
             "#46039f"
            ],
            [
             0.2222222222222222,
             "#7201a8"
            ],
            [
             0.3333333333333333,
             "#9c179e"
            ],
            [
             0.4444444444444444,
             "#bd3786"
            ],
            [
             0.5555555555555556,
             "#d8576b"
            ],
            [
             0.6666666666666666,
             "#ed7953"
            ],
            [
             0.7777777777777778,
             "#fb9f3a"
            ],
            [
             0.8888888888888888,
             "#fdca26"
            ],
            [
             1,
             "#f0f921"
            ]
           ]
          },
          "colorway": [
           "#636efa",
           "#EF553B",
           "#00cc96",
           "#ab63fa",
           "#FFA15A",
           "#19d3f3",
           "#FF6692",
           "#B6E880",
           "#FF97FF",
           "#FECB52"
          ],
          "font": {
           "color": "#2a3f5f"
          },
          "geo": {
           "bgcolor": "white",
           "lakecolor": "white",
           "landcolor": "#E5ECF6",
           "showlakes": true,
           "showland": true,
           "subunitcolor": "white"
          },
          "hoverlabel": {
           "align": "left"
          },
          "hovermode": "closest",
          "mapbox": {
           "style": "light"
          },
          "paper_bgcolor": "white",
          "plot_bgcolor": "#E5ECF6",
          "polar": {
           "angularaxis": {
            "gridcolor": "white",
            "linecolor": "white",
            "ticks": ""
           },
           "bgcolor": "#E5ECF6",
           "radialaxis": {
            "gridcolor": "white",
            "linecolor": "white",
            "ticks": ""
           }
          },
          "scene": {
           "xaxis": {
            "backgroundcolor": "#E5ECF6",
            "gridcolor": "white",
            "gridwidth": 2,
            "linecolor": "white",
            "showbackground": true,
            "ticks": "",
            "zerolinecolor": "white"
           },
           "yaxis": {
            "backgroundcolor": "#E5ECF6",
            "gridcolor": "white",
            "gridwidth": 2,
            "linecolor": "white",
            "showbackground": true,
            "ticks": "",
            "zerolinecolor": "white"
           },
           "zaxis": {
            "backgroundcolor": "#E5ECF6",
            "gridcolor": "white",
            "gridwidth": 2,
            "linecolor": "white",
            "showbackground": true,
            "ticks": "",
            "zerolinecolor": "white"
           }
          },
          "shapedefaults": {
           "line": {
            "color": "#2a3f5f"
           }
          },
          "ternary": {
           "aaxis": {
            "gridcolor": "white",
            "linecolor": "white",
            "ticks": ""
           },
           "baxis": {
            "gridcolor": "white",
            "linecolor": "white",
            "ticks": ""
           },
           "bgcolor": "#E5ECF6",
           "caxis": {
            "gridcolor": "white",
            "linecolor": "white",
            "ticks": ""
           }
          },
          "title": {
           "x": 0.05
          },
          "xaxis": {
           "automargin": true,
           "gridcolor": "white",
           "linecolor": "white",
           "ticks": "",
           "title": {
            "standoff": 15
           },
           "zerolinecolor": "white",
           "zerolinewidth": 2
          },
          "yaxis": {
           "automargin": true,
           "gridcolor": "white",
           "linecolor": "white",
           "ticks": "",
           "title": {
            "standoff": 15
           },
           "zerolinecolor": "white",
           "zerolinewidth": 2
          }
         }
        },
        "title": {
         "text": "Cluster"
        },
        "width": 800
       }
      },
      "text/html": [
       "<div>                            <div id=\"70b41018-eb2e-4c21-a421-32ff87474ee7\" class=\"plotly-graph-div\" style=\"height:400px; width:800px;\"></div>            <script type=\"text/javascript\">                require([\"plotly\"], function(Plotly) {                    window.PLOTLYENV=window.PLOTLYENV || {};                                    if (document.getElementById(\"70b41018-eb2e-4c21-a421-32ff87474ee7\")) {                    Plotly.newPlot(                        \"70b41018-eb2e-4c21-a421-32ff87474ee7\",                        [{\"hole\":0.3,\"labels\":[\"Cluster 4\",\"Cluster 1\",\"Cluster 2\",\"Cluster 3\"],\"type\":\"pie\",\"values\":[634,550,525,496]}],                        {\"height\":400,\"template\":{\"data\":{\"bar\":[{\"error_x\":{\"color\":\"#2a3f5f\"},\"error_y\":{\"color\":\"#2a3f5f\"},\"marker\":{\"line\":{\"color\":\"#E5ECF6\",\"width\":0.5},\"pattern\":{\"fillmode\":\"overlay\",\"size\":10,\"solidity\":0.2}},\"type\":\"bar\"}],\"barpolar\":[{\"marker\":{\"line\":{\"color\":\"#E5ECF6\",\"width\":0.5},\"pattern\":{\"fillmode\":\"overlay\",\"size\":10,\"solidity\":0.2}},\"type\":\"barpolar\"}],\"carpet\":[{\"aaxis\":{\"endlinecolor\":\"#2a3f5f\",\"gridcolor\":\"white\",\"linecolor\":\"white\",\"minorgridcolor\":\"white\",\"startlinecolor\":\"#2a3f5f\"},\"baxis\":{\"endlinecolor\":\"#2a3f5f\",\"gridcolor\":\"white\",\"linecolor\":\"white\",\"minorgridcolor\":\"white\",\"startlinecolor\":\"#2a3f5f\"},\"type\":\"carpet\"}],\"choropleth\":[{\"colorbar\":{\"outlinewidth\":0,\"ticks\":\"\"},\"type\":\"choropleth\"}],\"contour\":[{\"colorbar\":{\"outlinewidth\":0,\"ticks\":\"\"},\"colorscale\":[[0.0,\"#0d0887\"],[0.1111111111111111,\"#46039f\"],[0.2222222222222222,\"#7201a8\"],[0.3333333333333333,\"#9c179e\"],[0.4444444444444444,\"#bd3786\"],[0.5555555555555556,\"#d8576b\"],[0.6666666666666666,\"#ed7953\"],[0.7777777777777778,\"#fb9f3a\"],[0.8888888888888888,\"#fdca26\"],[1.0,\"#f0f921\"]],\"type\":\"contour\"}],\"contourcarpet\":[{\"colorbar\":{\"outlinewidth\":0,\"ticks\":\"\"},\"type\":\"contourcarpet\"}],\"heatmap\":[{\"colorbar\":{\"outlinewidth\":0,\"ticks\":\"\"},\"colorscale\":[[0.0,\"#0d0887\"],[0.1111111111111111,\"#46039f\"],[0.2222222222222222,\"#7201a8\"],[0.3333333333333333,\"#9c179e\"],[0.4444444444444444,\"#bd3786\"],[0.5555555555555556,\"#d8576b\"],[0.6666666666666666,\"#ed7953\"],[0.7777777777777778,\"#fb9f3a\"],[0.8888888888888888,\"#fdca26\"],[1.0,\"#f0f921\"]],\"type\":\"heatmap\"}],\"heatmapgl\":[{\"colorbar\":{\"outlinewidth\":0,\"ticks\":\"\"},\"colorscale\":[[0.0,\"#0d0887\"],[0.1111111111111111,\"#46039f\"],[0.2222222222222222,\"#7201a8\"],[0.3333333333333333,\"#9c179e\"],[0.4444444444444444,\"#bd3786\"],[0.5555555555555556,\"#d8576b\"],[0.6666666666666666,\"#ed7953\"],[0.7777777777777778,\"#fb9f3a\"],[0.8888888888888888,\"#fdca26\"],[1.0,\"#f0f921\"]],\"type\":\"heatmapgl\"}],\"histogram\":[{\"marker\":{\"pattern\":{\"fillmode\":\"overlay\",\"size\":10,\"solidity\":0.2}},\"type\":\"histogram\"}],\"histogram2d\":[{\"colorbar\":{\"outlinewidth\":0,\"ticks\":\"\"},\"colorscale\":[[0.0,\"#0d0887\"],[0.1111111111111111,\"#46039f\"],[0.2222222222222222,\"#7201a8\"],[0.3333333333333333,\"#9c179e\"],[0.4444444444444444,\"#bd3786\"],[0.5555555555555556,\"#d8576b\"],[0.6666666666666666,\"#ed7953\"],[0.7777777777777778,\"#fb9f3a\"],[0.8888888888888888,\"#fdca26\"],[1.0,\"#f0f921\"]],\"type\":\"histogram2d\"}],\"histogram2dcontour\":[{\"colorbar\":{\"outlinewidth\":0,\"ticks\":\"\"},\"colorscale\":[[0.0,\"#0d0887\"],[0.1111111111111111,\"#46039f\"],[0.2222222222222222,\"#7201a8\"],[0.3333333333333333,\"#9c179e\"],[0.4444444444444444,\"#bd3786\"],[0.5555555555555556,\"#d8576b\"],[0.6666666666666666,\"#ed7953\"],[0.7777777777777778,\"#fb9f3a\"],[0.8888888888888888,\"#fdca26\"],[1.0,\"#f0f921\"]],\"type\":\"histogram2dcontour\"}],\"mesh3d\":[{\"colorbar\":{\"outlinewidth\":0,\"ticks\":\"\"},\"type\":\"mesh3d\"}],\"parcoords\":[{\"line\":{\"colorbar\":{\"outlinewidth\":0,\"ticks\":\"\"}},\"type\":\"parcoords\"}],\"pie\":[{\"automargin\":true,\"type\":\"pie\"}],\"scatter\":[{\"marker\":{\"colorbar\":{\"outlinewidth\":0,\"ticks\":\"\"}},\"type\":\"scatter\"}],\"scatter3d\":[{\"line\":{\"colorbar\":{\"outlinewidth\":0,\"ticks\":\"\"}},\"marker\":{\"colorbar\":{\"outlinewidth\":0,\"ticks\":\"\"}},\"type\":\"scatter3d\"}],\"scattercarpet\":[{\"marker\":{\"colorbar\":{\"outlinewidth\":0,\"ticks\":\"\"}},\"type\":\"scattercarpet\"}],\"scattergeo\":[{\"marker\":{\"colorbar\":{\"outlinewidth\":0,\"ticks\":\"\"}},\"type\":\"scattergeo\"}],\"scattergl\":[{\"marker\":{\"colorbar\":{\"outlinewidth\":0,\"ticks\":\"\"}},\"type\":\"scattergl\"}],\"scattermapbox\":[{\"marker\":{\"colorbar\":{\"outlinewidth\":0,\"ticks\":\"\"}},\"type\":\"scattermapbox\"}],\"scatterpolar\":[{\"marker\":{\"colorbar\":{\"outlinewidth\":0,\"ticks\":\"\"}},\"type\":\"scatterpolar\"}],\"scatterpolargl\":[{\"marker\":{\"colorbar\":{\"outlinewidth\":0,\"ticks\":\"\"}},\"type\":\"scatterpolargl\"}],\"scatterternary\":[{\"marker\":{\"colorbar\":{\"outlinewidth\":0,\"ticks\":\"\"}},\"type\":\"scatterternary\"}],\"surface\":[{\"colorbar\":{\"outlinewidth\":0,\"ticks\":\"\"},\"colorscale\":[[0.0,\"#0d0887\"],[0.1111111111111111,\"#46039f\"],[0.2222222222222222,\"#7201a8\"],[0.3333333333333333,\"#9c179e\"],[0.4444444444444444,\"#bd3786\"],[0.5555555555555556,\"#d8576b\"],[0.6666666666666666,\"#ed7953\"],[0.7777777777777778,\"#fb9f3a\"],[0.8888888888888888,\"#fdca26\"],[1.0,\"#f0f921\"]],\"type\":\"surface\"}],\"table\":[{\"cells\":{\"fill\":{\"color\":\"#EBF0F8\"},\"line\":{\"color\":\"white\"}},\"header\":{\"fill\":{\"color\":\"#C8D4E3\"},\"line\":{\"color\":\"white\"}},\"type\":\"table\"}]},\"layout\":{\"annotationdefaults\":{\"arrowcolor\":\"#2a3f5f\",\"arrowhead\":0,\"arrowwidth\":1},\"autotypenumbers\":\"strict\",\"coloraxis\":{\"colorbar\":{\"outlinewidth\":0,\"ticks\":\"\"}},\"colorscale\":{\"diverging\":[[0,\"#8e0152\"],[0.1,\"#c51b7d\"],[0.2,\"#de77ae\"],[0.3,\"#f1b6da\"],[0.4,\"#fde0ef\"],[0.5,\"#f7f7f7\"],[0.6,\"#e6f5d0\"],[0.7,\"#b8e186\"],[0.8,\"#7fbc41\"],[0.9,\"#4d9221\"],[1,\"#276419\"]],\"sequential\":[[0.0,\"#0d0887\"],[0.1111111111111111,\"#46039f\"],[0.2222222222222222,\"#7201a8\"],[0.3333333333333333,\"#9c179e\"],[0.4444444444444444,\"#bd3786\"],[0.5555555555555556,\"#d8576b\"],[0.6666666666666666,\"#ed7953\"],[0.7777777777777778,\"#fb9f3a\"],[0.8888888888888888,\"#fdca26\"],[1.0,\"#f0f921\"]],\"sequentialminus\":[[0.0,\"#0d0887\"],[0.1111111111111111,\"#46039f\"],[0.2222222222222222,\"#7201a8\"],[0.3333333333333333,\"#9c179e\"],[0.4444444444444444,\"#bd3786\"],[0.5555555555555556,\"#d8576b\"],[0.6666666666666666,\"#ed7953\"],[0.7777777777777778,\"#fb9f3a\"],[0.8888888888888888,\"#fdca26\"],[1.0,\"#f0f921\"]]},\"colorway\":[\"#636efa\",\"#EF553B\",\"#00cc96\",\"#ab63fa\",\"#FFA15A\",\"#19d3f3\",\"#FF6692\",\"#B6E880\",\"#FF97FF\",\"#FECB52\"],\"font\":{\"color\":\"#2a3f5f\"},\"geo\":{\"bgcolor\":\"white\",\"lakecolor\":\"white\",\"landcolor\":\"#E5ECF6\",\"showlakes\":true,\"showland\":true,\"subunitcolor\":\"white\"},\"hoverlabel\":{\"align\":\"left\"},\"hovermode\":\"closest\",\"mapbox\":{\"style\":\"light\"},\"paper_bgcolor\":\"white\",\"plot_bgcolor\":\"#E5ECF6\",\"polar\":{\"angularaxis\":{\"gridcolor\":\"white\",\"linecolor\":\"white\",\"ticks\":\"\"},\"bgcolor\":\"#E5ECF6\",\"radialaxis\":{\"gridcolor\":\"white\",\"linecolor\":\"white\",\"ticks\":\"\"}},\"scene\":{\"xaxis\":{\"backgroundcolor\":\"#E5ECF6\",\"gridcolor\":\"white\",\"gridwidth\":2,\"linecolor\":\"white\",\"showbackground\":true,\"ticks\":\"\",\"zerolinecolor\":\"white\"},\"yaxis\":{\"backgroundcolor\":\"#E5ECF6\",\"gridcolor\":\"white\",\"gridwidth\":2,\"linecolor\":\"white\",\"showbackground\":true,\"ticks\":\"\",\"zerolinecolor\":\"white\"},\"zaxis\":{\"backgroundcolor\":\"#E5ECF6\",\"gridcolor\":\"white\",\"gridwidth\":2,\"linecolor\":\"white\",\"showbackground\":true,\"ticks\":\"\",\"zerolinecolor\":\"white\"}},\"shapedefaults\":{\"line\":{\"color\":\"#2a3f5f\"}},\"ternary\":{\"aaxis\":{\"gridcolor\":\"white\",\"linecolor\":\"white\",\"ticks\":\"\"},\"baxis\":{\"gridcolor\":\"white\",\"linecolor\":\"white\",\"ticks\":\"\"},\"bgcolor\":\"#E5ECF6\",\"caxis\":{\"gridcolor\":\"white\",\"linecolor\":\"white\",\"ticks\":\"\"}},\"title\":{\"x\":0.05},\"xaxis\":{\"automargin\":true,\"gridcolor\":\"white\",\"linecolor\":\"white\",\"ticks\":\"\",\"title\":{\"standoff\":15},\"zerolinecolor\":\"white\",\"zerolinewidth\":2},\"yaxis\":{\"automargin\":true,\"gridcolor\":\"white\",\"linecolor\":\"white\",\"ticks\":\"\",\"title\":{\"standoff\":15},\"zerolinecolor\":\"white\",\"zerolinewidth\":2}}},\"title\":{\"text\":\"Cluster\"},\"width\":800},                        {\"responsive\": true}                    ).then(function(){\n",
       "                            \n",
       "var gd = document.getElementById('70b41018-eb2e-4c21-a421-32ff87474ee7');\n",
       "var x = new MutationObserver(function (mutations, observer) {{\n",
       "        var display = window.getComputedStyle(gd).display;\n",
       "        if (!display || display === 'none') {{\n",
       "            console.log([gd, 'removed!']);\n",
       "            Plotly.purge(gd);\n",
       "            observer.disconnect();\n",
       "        }}\n",
       "}});\n",
       "\n",
       "// Listen for the removal of the full notebook cells\n",
       "var notebookContainer = gd.closest('#notebook-container');\n",
       "if (notebookContainer) {{\n",
       "    x.observe(notebookContainer, {childList: true});\n",
       "}}\n",
       "\n",
       "// Listen for the clearing of the current output cell\n",
       "var outputEl = gd.closest('.output');\n",
       "if (outputEl) {{\n",
       "    x.observe(outputEl, {childList: true});\n",
       "}}\n",
       "\n",
       "                        })                };                });            </script>        </div>"
      ]
     },
     "metadata": {},
     "output_type": "display_data"
    }
   ],
   "source": [
    "df_Edu = pd.DataFrame(df['Cluster'].value_counts()).reset_index()\n",
    "df_Edu.columns = ['Cluster', 'Count']\n",
    "\n",
    "fig = go.Figure(data=[go.Pie(labels=df_Edu['Cluster'], values=df_Edu['Count'], hole=.3)])\n",
    "fig.update_layout(width=800, height=400, title='Cluster')\n",
    "fig.show()"
   ]
  },
  {
   "cell_type": "code",
   "execution_count": 89,
   "id": "fe3c150c",
   "metadata": {},
   "outputs": [
    {
     "data": {
      "application/vnd.plotly.v1+json": {
       "config": {
        "plotlyServerURL": "https://plot.ly"
       },
       "data": [
        {
         "hovertemplate": "Cluster=Cluster 3<br>Income=%{x}<br>Spend_all=%{y}<extra></extra>",
         "legendgroup": "Cluster 3",
         "marker": {
          "color": "#636efa",
          "symbol": "circle"
         },
         "mode": "markers",
         "name": "Cluster 3",
         "showlegend": true,
         "type": "scattergl",
         "x": [
          58138,
          63033,
          76995,
          2447,
          58607,
          84618,
          68657,
          80011,
          79941,
          72550,
          79143,
          82582,
          82384,
          75777,
          70666,
          74854,
          66991,
          75251,
          75825,
          79593,
          65846,
          68126,
          90765,
          79607,
          62981,
          92859,
          65104,
          86111,
          59809,
          69372,
          80317,
          70356,
          74165,
          66951,
          80427,
          74068,
          80067,
          86718,
          75922,
          64497,
          70951,
          83790,
          72460,
          51537,
          79930,
          81975,
          73455,
          64961,
          73687,
          80134,
          75027,
          67546,
          65176,
          63342,
          80124,
          72940,
          69267,
          77882,
          79946,
          82497,
          55951,
          68627,
          77457,
          70893,
          64325,
          62187,
          66334,
          75693,
          83003,
          68655,
          55212,
          84835,
          71952,
          69759,
          72099,
          60000,
          68462,
          65073,
          78618,
          72025,
          52614,
          63810,
          66426,
          83664,
          90300,
          74293,
          68682,
          53858,
          75865,
          80134,
          91065,
          82584,
          93027,
          92910,
          75433,
          84865,
          81246,
          89572,
          66664,
          60597,
          80124,
          66582,
          75261,
          65104,
          78952,
          76005,
          58308,
          78642,
          64355,
          89120,
          81169,
          80184,
          73454,
          70503,
          77863,
          61839,
          72679,
          76982,
          84169,
          85620,
          79908,
          87771,
          81741,
          66565,
          61996,
          79800,
          92163,
          69882,
          72906,
          81168,
          72298,
          84196,
          70971,
          69084,
          65488,
          83917,
          63120,
          73691,
          76140,
          62859,
          77632,
          105471,
          98777,
          66731,
          52614,
          81300,
          68743,
          65777,
          86857,
          77845,
          69476,
          61209,
          71022,
          90247,
          71952,
          66375,
          76618,
          87305,
          74806,
          72190,
          80395,
          89694,
          72025,
          67432,
          62882,
          83844,
          83443,
          80952,
          75507,
          62220,
          58512,
          78285,
          74985,
          78939,
          6835,
          74250,
          72258,
          71466,
          62847,
          73926,
          48192,
          59666,
          72504,
          91820,
          76412,
          87771,
          78353,
          93404,
          80995,
          81702,
          82504,
          81205,
          61618,
          82347,
          70123,
          62450,
          80812,
          86857,
          82072,
          68092,
          78331,
          85072,
          86429,
          78420,
          75114,
          95529,
          62820,
          73113,
          84169,
          74637,
          72354,
          83033,
          77583,
          74116,
          74293,
          68397,
          67536,
          64831,
          82025,
          94384,
          51563,
          67893,
          92955,
          84219,
          80573,
          82576,
          80763,
          82170,
          75759,
          85683,
          75437,
          95169,
          83844,
          77568,
          70924,
          64504,
          74538,
          91700,
          68695,
          79593,
          8028,
          76081,
          70924,
          69098,
          62845,
          83528,
          64176,
          70713,
          88347,
          66294,
          79456,
          75345,
          71691,
          85844,
          79803,
          83829,
          76045,
          76773,
          81698,
          98777,
          71819,
          86358,
          67381,
          85606,
          72903,
          85696,
          68142,
          83145,
          56715,
          79410,
          81657,
          74214,
          90638,
          54959,
          78579,
          67369,
          70091,
          78075,
          66636,
          84618,
          74918,
          68682,
          75032,
          84906,
          66000,
          69969,
          76653,
          90687,
          73450,
          83829,
          85485,
          55956,
          66303,
          78687,
          83151,
          78569,
          94384,
          71626,
          81051,
          64857,
          81843,
          72828,
          6560,
          71604,
          71434,
          71853,
          62845,
          85696,
          76542,
          70515,
          69109,
          80695,
          59601,
          75154,
          92344,
          75507,
          80134,
          80589,
          63810,
          78427,
          82657,
          78041,
          70038,
          77343,
          73892,
          68695,
          93790,
          83844,
          67419,
          64857,
          75484,
          79419,
          76998,
          87679,
          53374,
          71706,
          49667,
          63206,
          84219,
          73538,
          79529,
          87188,
          69930,
          82032,
          74004,
          57036,
          67786,
          71969,
          65819,
          63943,
          76081,
          63972,
          75283,
          90638,
          81574,
          78093,
          82460,
          75794,
          74268,
          76445,
          90226,
          70638,
          68655,
          64509,
          66664,
          47111,
          64140,
          57136,
          82014,
          72066,
          69084,
          86610,
          80141,
          70440,
          78789,
          61787,
          73705,
          83512,
          77520,
          80398,
          60230,
          92491,
          90273,
          82571,
          82427,
          70044,
          81795,
          80360,
          63342,
          71853,
          85431,
          60839,
          63404,
          75702,
          90369,
          63159,
          46757,
          79734,
          63207,
          72071,
          72282,
          62568,
          78394,
          80739,
          57333,
          68148,
          72159,
          64260,
          82733,
          70116,
          69063,
          70886,
          69109,
          82326,
          72905,
          70300,
          70643,
          86979,
          67546,
          88420,
          69719,
          90933,
          62820,
          92556,
          67384,
          80573,
          77870,
          91249,
          77598,
          55212,
          70617,
          64849,
          73356,
          70792,
          63211,
          80872,
          72335,
          76842,
          96843,
          71670,
          74485,
          72643,
          85738,
          55686,
          94642,
          72968,
          91712,
          94472,
          63684,
          71964,
          96876,
          68281,
          77027,
          61416,
          83273,
          76467,
          76320,
          71128,
          70038,
          67046,
          77610,
          69520,
          79823,
          80144,
          81929,
          76068,
          78128,
          82332,
          72217,
          84906,
          82333,
          65220,
          72309,
          65487,
          78499,
          69209,
          60896,
          74859,
          72071,
          91172,
          90000,
          71965,
          79174,
          81380,
          84117,
          65487,
          89616,
          82347,
          73803,
          61014,
          88325,
          80617,
          82032,
          75777,
          61223,
          56981
         ],
         "xaxis": "x",
         "y": [
          1617,
          1102,
          1782,
          1730,
          972,
          1672,
          1196,
          1395,
          984,
          1319,
          1693,
          1617,
          1957,
          1438,
          1076,
          1562,
          1253,
          1890,
          2209,
          1366,
          1120,
          1820,
          1724,
          1923,
          1482,
          2077,
          1053,
          1385,
          877,
          1381,
          1231,
          1706,
          1293,
          1117,
          1835,
          1581,
          1600,
          1270,
          1295,
          1804,
          1198,
          1615,
          1047,
          1103,
          1753,
          1588,
          2088,
          1009,
          1627,
          1690,
          1390,
          2126,
          1531,
          1101,
          1495,
          981,
          1635,
          818,
          1478,
          1919,
          1374,
          825,
          1157,
          1508,
          1307,
          1283,
          1161,
          1442,
          1674,
          1538,
          1182,
          1190,
          1443,
          1029,
          1188,
          1277,
          1670,
          900,
          2153,
          1932,
          990,
          1371,
          1377,
          1173,
          1738,
          1127,
          1598,
          915,
          1242,
          1378,
          1474,
          1435,
          2119,
          1795,
          1188,
          1688,
          1379,
          2059,
          1289,
          893,
          1495,
          1288,
          1743,
          1053,
          2092,
          1722,
          900,
          1816,
          1445,
          1924,
          2089,
          1902,
          1651,
          1727,
          1291,
          1895,
          1168,
          1062,
          1919,
          1600,
          1772,
          1957,
          1572,
          1065,
          1230,
          1867,
          2086,
          1478,
          1151,
          1193,
          939,
          1237,
          1825,
          1586,
          963,
          1587,
          1477,
          1179,
          1348,
          1307,
          2252,
          1724,
          2008,
          1029,
          990,
          1241,
          2074,
          1146,
          2114,
          1346,
          1044,
          957,
          1453,
          1621,
          1443,
          948,
          1511,
          1152,
          965,
          1947,
          1380,
          1472,
          1677,
          1335,
          1338,
          1574,
          1497,
          1757,
          1440,
          1226,
          1171,
          1427,
          1869,
          1507,
          137,
          1158,
          1525,
          1230,
          1612,
          1580,
          1526,
          1027,
          1478,
          1497,
          1808,
          1957,
          1576,
          1616,
          1482,
          1633,
          1066,
          2009,
          1345,
          1853,
          1727,
          995,
          1677,
          2114,
          2018,
          1281,
          1638,
          1423,
          1449,
          1453,
          1253,
          1990,
          976,
          1001,
          1919,
          1650,
          1228,
          1761,
          1149,
          2052,
          1127,
          1416,
          1829,
          1120,
          1187,
          2302,
          1250,
          995,
          1778,
          1198,
          1564,
          1910,
          1415,
          1908,
          2486,
          1789,
          1493,
          1901,
          1574,
          2194,
          1363,
          1314,
          1461,
          1968,
          1091,
          1366,
          178,
          1033,
          1363,
          2440,
          1178,
          1650,
          1826,
          1477,
          2116,
          967,
          1401,
          2087,
          1192,
          1958,
          868,
          1862,
          1323,
          1156,
          1104,
          2008,
          1574,
          1722,
          957,
          1956,
          2013,
          1313,
          1459,
          1833,
          1020,
          1370,
          1097,
          1711,
          2525,
          1232,
          1812,
          1461,
          1161,
          988,
          1084,
          1672,
          2047,
          1598,
          1215,
          1631,
          711,
          1536,
          2279,
          1779,
          1804,
          1862,
          1383,
          999,
          1286,
          2130,
          2346,
          1736,
          2302,
          1305,
          1501,
          1540,
          1643,
          1678,
          373,
          1196,
          1400,
          1149,
          1178,
          1313,
          1483,
          1258,
          1555,
          1918,
          797,
          1143,
          1899,
          1440,
          1690,
          1428,
          1371,
          1930,
          2283,
          1319,
          1244,
          1134,
          1507,
          1091,
          2349,
          1574,
          1471,
          1540,
          1159,
          1631,
          1910,
          2524,
          1064,
          1443,
          1396,
          928,
          1198,
          1658,
          1638,
          1923,
          1662,
          1234,
          1658,
          1513,
          1156,
          1086,
          1383,
          1106,
          1033,
          1269,
          1019,
          2525,
          1798,
          1105,
          974,
          1682,
          892,
          1410,
          2352,
          1334,
          1538,
          1722,
          1289,
          1092,
          1750,
          1179,
          1511,
          1792,
          1586,
          1603,
          2091,
          1572,
          1754,
          1319,
          1695,
          2157,
          1526,
          1597,
          1067,
          2034,
          1991,
          1686,
          1456,
          1504,
          1382,
          2231,
          1101,
          1149,
          1165,
          1250,
          902,
          1921,
          1588,
          1797,
          1143,
          914,
          1502,
          1338,
          1331,
          953,
          1428,
          1633,
          1662,
          1042,
          1401,
          1574,
          1323,
          1536,
          928,
          960,
          1555,
          2257,
          1515,
          1596,
          1828,
          1702,
          2126,
          2069,
          801,
          1685,
          976,
          1263,
          1490,
          1564,
          1815,
          1676,
          1735,
          1182,
          1280,
          1336,
          1512,
          1272,
          1173,
          1336,
          2092,
          1130,
          1544,
          1766,
          1734,
          1429,
          1371,
          982,
          2211,
          1958,
          2217,
          1691,
          1464,
          1870,
          1941,
          1655,
          1175,
          1665,
          1392,
          1575,
          932,
          1615,
          1244,
          993,
          1680,
          1455,
          1518,
          1367,
          2053,
          1376,
          1264,
          2006,
          1573,
          1631,
          1822,
          1282,
          1931,
          1169,
          1334,
          1782,
          1701,
          1565,
          1338,
          1092,
          1479,
          1213,
          2043,
          1893,
          1566,
          1169,
          1644,
          1853,
          1528,
          1147,
          1623,
          1435,
          1234,
          1438,
          1341,
          1241
         ],
         "yaxis": "y"
        },
        {
         "hovertemplate": "Cluster=Cluster 4<br>Income=%{x}<br>Spend_all=%{y}<extra></extra>",
         "legendgroup": "Cluster 4",
         "marker": {
          "color": "#EF553B",
          "symbol": "circle"
         },
         "mode": "markers",
         "name": "Cluster 4",
         "showlegend": true,
         "type": "scattergl",
         "x": [
          46344,
          26646,
          58293,
          33454,
          5648,
          59354,
          65324,
          10979,
          38620,
          49389,
          42429,
          20559,
          65486,
          27938,
          32474,
          28332,
          38620,
          29440,
          50388,
          54178,
          42394,
          23626,
          30096,
          51813,
          47823,
          34554,
          24594,
          49096,
          50785,
          30753,
          21918,
          32557,
          54348,
          41551,
          35860,
          36921,
          38547,
          49605,
          59354,
          65747,
          34176,
          49967,
          60199,
          55375,
          23228,
          43482,
          52332,
          26091,
          33456,
          50447,
          53537,
          52074,
          38853,
          38285,
          51650,
          16248,
          30477,
          28249,
          32303,
          31353,
          46854,
          69142,
          29604,
          44794,
          41443,
          52195,
          44551,
          45204,
          34320,
          15033,
          22212,
          7500,
          22804,
          31686,
          31160,
          29938,
          40737,
          44159,
          31788,
          61905,
          29315,
          24480,
          65640,
          44319,
          30631,
          38361,
          16626,
          29672,
          35246,
          46377,
          39747,
          23976,
          12571,
          22574,
          54198,
          28839,
          40321,
          47025,
          54432,
          33996,
          35178,
          27190,
          33181,
          38643,
          50737,
          28442,
          35684,
          29548,
          33581,
          19986,
          36143,
          62499,
          42373,
          30507,
          48006,
          65808,
          19789,
          37401,
          30096,
          18492,
          10404,
          30015,
          32011,
          56223,
          20130,
          42618,
          24027,
          55707,
          36230,
          50300,
          50520,
          33183,
          37406,
          20518,
          41644,
          55842,
          38961,
          37760,
          43057,
          14045,
          55563,
          48330,
          48920,
          44124,
          30630,
          42691,
          50353,
          57954,
          47352,
          44931,
          57247,
          22944,
          24683,
          19514,
          27159,
          39548,
          21474,
          60504,
          33039,
          52157,
          38443,
          38593,
          51287,
          13260,
          47472,
          54603,
          47821,
          39453,
          26850,
          53863,
          24221,
          33178,
          59973,
          17459,
          42169,
          42429,
          26150,
          26877,
          22574,
          54456,
          36975,
          32218,
          46102,
          46463,
          55282,
          50616,
          61278,
          46734,
          19986,
          21063,
          29187,
          26751,
          38946,
          42315,
          61923,
          34824,
          26518,
          71427,
          41335,
          35682,
          35178,
          25252,
          25851,
          45160,
          18988,
          44794,
          56962,
          35946,
          45072,
          70545,
          48767,
          17003,
          33697,
          38829,
          31626,
          40760,
          51124,
          36283,
          20587,
          30467,
          17144,
          51267,
          19329,
          56850,
          55267,
          26872,
          65968,
          30772,
          22063,
          37859,
          16529,
          55412,
          34176,
          49980,
          15072,
          65324,
          30843,
          46374,
          38576,
          23228,
          44602,
          7500,
          49514,
          57906,
          19485,
          21675,
          42395,
          24762,
          36627,
          51111,
          42243,
          31814,
          26868,
          37087,
          21846,
          54137,
          47889,
          45921,
          42607,
          46015,
          34469,
          46107,
          32892,
          68274,
          27922,
          52190,
          42767,
          46106,
          16927,
          59041,
          40233,
          50183,
          56962,
          35704,
          46779,
          4861,
          35340,
          64587,
          34824,
          26091,
          19514,
          36736,
          49187,
          38196,
          59412,
          34961,
          33564,
          28647,
          37334,
          46423,
          37126,
          34728,
          33585,
          28764,
          53312,
          35860,
          65526,
          32892,
          39722,
          26907,
          50014,
          40479,
          24163,
          43776,
          39190,
          57236,
          53187,
          30023,
          50870,
          66480,
          54466,
          16269,
          33569,
          36262,
          48526,
          46931,
          16581,
          25930,
          42693,
          49669,
          10979,
          21282,
          33419,
          21255,
          42162,
          57744,
          54197,
          23091,
          44375,
          40344,
          14421,
          20130,
          66726,
          23724,
          47353,
          26954,
          44393,
          45894,
          58401,
          62307,
          54809,
          51412,
          18351,
          40451,
          42213,
          26228,
          40211,
          33438,
          38452,
          41986,
          37395,
          55249,
          44213,
          25707,
          1730,
          20427,
          74190,
          39356,
          35860,
          47139,
          19656,
          45579,
          37368,
          46149,
          46831,
          22804,
          43050,
          48918,
          60033,
          34043,
          23148,
          45143,
          59060,
          46094,
          40321,
          37235,
          18393,
          24711,
          45503,
          27244,
          51948,
          35876,
          40049,
          50127,
          26887,
          69139,
          17256,
          37971,
          41335,
          67267,
          57338,
          50523,
          56243,
          21355,
          46390,
          26907,
          53761,
          38887,
          29791,
          39996,
          26759,
          37716,
          47352,
          43142,
          51315,
          36026,
          24639,
          34578,
          54132,
          43269,
          38741,
          31163,
          34853,
          70844,
          42523,
          36408,
          51876,
          40304,
          26290,
          46015,
          16531,
          28072,
          41145,
          23162,
          39898,
          41020,
          19414,
          19107,
          64014,
          49854,
          35765,
          53253,
          31163,
          51766,
          33039,
          37787,
          37697,
          37401,
          9255,
          31928,
          57530,
          76800,
          37054,
          44322,
          27161,
          45203,
          34633,
          45903,
          35860,
          61482,
          34968,
          45143,
          52569,
          17144,
          36108,
          36663,
          44512,
          27116,
          54072,
          60432,
          65526,
          33955,
          31353,
          28359,
          57100,
          69139,
          51717,
          18793,
          54549,
          19444,
          36301,
          42731,
          52854,
          44078,
          35924,
          24594,
          39228,
          58494,
          56551,
          22448,
          25358,
          35544,
          43602,
          33996,
          36732,
          49544,
          33228,
          38232,
          23536,
          49413,
          42231,
          38452,
          18358,
          38175,
          54222,
          41154,
          18746,
          22108,
          38513,
          16653,
          46910,
          54984,
          42403,
          55761,
          45576,
          31859,
          38725,
          13533,
          36802,
          28249,
          47808,
          42664,
          42473,
          36075,
          48918,
          37697,
          36273,
          44689,
          21840,
          32583,
          44635,
          25293,
          54111,
          29236,
          48186,
          54809,
          32313,
          27071,
          4023,
          30093,
          57705,
          25008,
          11448,
          34738,
          26642,
          44503,
          49638,
          23830,
          30396,
          50616,
          30298,
          44155,
          49160,
          22148,
          73395,
          29819,
          45688,
          33235,
          31535,
          31878,
          61917,
          67472,
          21059,
          29543,
          34242,
          25410,
          39898,
          51141,
          29478,
          56551,
          44359,
          48877,
          39062,
          38236,
          36781,
          58646,
          53201,
          23477,
          58116,
          67506,
          24206,
          28420,
          33279,
          46423,
          68805,
          22263,
          28587,
          48195,
          32765,
          29672,
          23272,
          17649,
          40059,
          29009,
          43020,
          53154,
          32871,
          36927,
          48794,
          38361,
          42554,
          31761,
          34350,
          25293,
          22123,
          22390,
          71322,
          53204,
          58646,
          48150,
          34587,
          27733,
          25176,
          50116,
          58692,
          20587,
          62637,
          19346,
          35788,
          23539,
          29732,
          41275,
          42769,
          49572,
          17148,
          32146,
          41713,
          34176,
          59686,
          62994,
          15253,
          41967,
          38946,
          42523,
          53233,
          25224,
          43322,
          37085,
          32144,
          38054,
          5305,
          33562,
          24434,
          64014
         ],
         "xaxis": "x",
         "y": [
          27,
          53,
          422,
          169,
          49,
          310,
          544,
          30,
          318,
          65,
          67,
          53,
          507,
          29,
          11,
          65,
          318,
          56,
          372,
          194,
          32,
          43,
          45,
          63,
          72,
          55,
          29,
          187,
          114,
          81,
          33,
          80,
          90,
          279,
          49,
          38,
          22,
          127,
          459,
          460,
          89,
          306,
          18,
          162,
          121,
          88,
          259,
          89,
          36,
          148,
          93,
          119,
          45,
          10,
          191,
          57,
          66,
          43,
          39,
          31,
          263,
          535,
          53,
          65,
          482,
          17,
          285,
          114,
          17,
          19,
          69,
          57,
          26,
          17,
          64,
          26,
          17,
          275,
          60,
          231,
          48,
          102,
          461,
          37,
          70,
          137,
          68,
          25,
          62,
          90,
          273,
          66,
          53,
          37,
          235,
          32,
          102,
          20,
          38,
          71,
          59,
          18,
          16,
          49,
          99,
          57,
          30,
          29,
          17,
          22,
          19,
          222,
          163,
          343,
          41,
          272,
          78,
          48,
          45,
          10,
          43,
          57,
          122,
          156,
          34,
          192,
          48,
          428,
          59,
          270,
          135,
          120,
          17,
          25,
          31,
          518,
          70,
          54,
          266,
          20,
          43,
          32,
          347,
          397,
          52,
          358,
          442,
          493,
          319,
          96,
          232,
          76,
          41,
          69,
          21,
          54,
          91,
          526,
          78,
          265,
          38,
          177,
          182,
          49,
          75,
          227,
          47,
          55,
          63,
          473,
          55,
          49,
          382,
          69,
          30,
          67,
          28,
          268,
          37,
          404,
          33,
          93,
          16,
          235,
          235,
          67,
          165,
          223,
          22,
          59,
          34,
          11,
          257,
          270,
          126,
          23,
          57,
          614,
          187,
          57,
          59,
          18,
          48,
          21,
          16,
          65,
          411,
          11,
          284,
          334,
          63,
          38,
          28,
          99,
          86,
          93,
          43,
          29,
          25,
          24,
          47,
          270,
          60,
          63,
          405,
          72,
          495,
          20,
          55,
          36,
          22,
          63,
          89,
          195,
          53,
          544,
          35,
          446,
          41,
          40,
          292,
          15,
          369,
          401,
          10,
          45,
          182,
          86,
          16,
          55,
          55,
          83,
          14,
          401,
          84,
          203,
          67,
          199,
          350,
          46,
          62,
          125,
          46,
          305,
          41,
          77,
          131,
          54,
          53,
          96,
          149,
          231,
          411,
          94,
          23,
          6,
          45,
          108,
          23,
          89,
          69,
          17,
          116,
          44,
          406,
          79,
          71,
          94,
          62,
          92,
          72,
          36,
          122,
          12,
          278,
          49,
          506,
          46,
          47,
          22,
          396,
          15,
          17,
          23,
          133,
          121,
          267,
          61,
          63,
          312,
          16,
          44,
          63,
          426,
          135,
          78,
          24,
          15,
          57,
          326,
          30,
          46,
          86,
          61,
          145,
          411,
          237,
          48,
          301,
          218,
          16,
          34,
          438,
          75,
          225,
          17,
          60,
          51,
          96,
          160,
          174,
          195,
          43,
          49,
          363,
          25,
          87,
          90,
          72,
          63,
          39,
          130,
          152,
          21,
          8,
          10,
          641,
          23,
          49,
          83,
          84,
          183,
          30,
          362,
          78,
          26,
          76,
          62,
          198,
          49,
          37,
          311,
          274,
          44,
          102,
          61,
          50,
          58,
          170,
          101,
          311,
          129,
          32,
          320,
          30,
          227,
          62,
          30,
          187,
          251,
          237,
          91,
          396,
          68,
          222,
          22,
          325,
          42,
          20,
          15,
          59,
          188,
          319,
          20,
          222,
          61,
          44,
          8,
          42,
          19,
          61,
          38,
          34,
          294,
          125,
          22,
          310,
          57,
          77,
          46,
          44,
          47,
          13,
          65,
          134,
          217,
          32,
          46,
          444,
          380,
          75,
          436,
          38,
          275,
          78,
          106,
          84,
          48,
          22,
          72,
          92,
          641,
          25,
          92,
          52,
          147,
          15,
          66,
          49,
          299,
          221,
          311,
          95,
          47,
          339,
          35,
          32,
          41,
          39,
          401,
          506,
          270,
          31,
          16,
          311,
          227,
          122,
          77,
          233,
          54,
          78,
          244,
          116,
          41,
          34,
          29,
          20,
          396,
          138,
          55,
          32,
          67,
          68,
          71,
          47,
          404,
          71,
          122,
          10,
          304,
          37,
          72,
          57,
          153,
          264,
          69,
          64,
          31,
          324,
          69,
          68,
          358,
          42,
          184,
          145,
          48,
          45,
          48,
          20,
          43,
          224,
          24,
          144,
          119,
          62,
          84,
          76,
          34,
          27,
          9,
          68,
          37,
          388,
          99,
          219,
          174,
          159,
          35,
          9,
          69,
          486,
          34,
          14,
          20,
          42,
          48,
          39,
          43,
          34,
          149,
          28,
          46,
          236,
          49,
          397,
          39,
          306,
          70,
          51,
          70,
          91,
          414,
          44,
          63,
          15,
          38,
          134,
          157,
          20,
          138,
          45,
          144,
          44,
          88,
          63,
          140,
          415,
          147,
          443,
          331,
          25,
          13,
          16,
          92,
          283,
          21,
          78,
          265,
          46,
          25,
          46,
          45,
          414,
          44,
          223,
          158,
          43,
          71,
          54,
          137,
          41,
          98,
          48,
          37,
          102,
          26,
          350,
          45,
          140,
          266,
          22,
          57,
          13,
          66,
          395,
          25,
          185,
          22,
          44,
          81,
          38,
          61,
          88,
          54,
          68,
          66,
          174,
          28,
          274,
          312,
          29,
          54,
          257,
          125,
          40,
          46,
          141,
          61,
          54,
          45,
          32,
          51,
          50,
          444
         ],
         "yaxis": "y"
        },
        {
         "hovertemplate": "Cluster=Cluster 2<br>Income=%{x}<br>Spend_all=%{y}<extra></extra>",
         "legendgroup": "Cluster 2",
         "marker": {
          "color": "#00cc96",
          "symbol": "circle"
         },
         "mode": "markers",
         "name": "Cluster 2",
         "showlegend": true,
         "type": "scattergl",
         "x": [
          71613,
          62513,
          55635,
          82800,
          67353,
          48948,
          66373,
          70287,
          55954,
          66653,
          61823,
          67680,
          88194,
          69096,
          65031,
          60631,
          56046,
          81361,
          47916,
          78497,
          50150,
          85693,
          87195,
          52413,
          89058,
          77298,
          57288,
          86037,
          43974,
          36550,
          56129,
          101970,
          71488,
          77376,
          62998,
          61331,
          73448,
          68352,
          61010,
          62551,
          83837,
          78497,
          66835,
          61286,
          66973,
          69661,
          63693,
          102160,
          77972,
          46014,
          69508,
          77622,
          63887,
          51369,
          37070,
          62745,
          79761,
          61074,
          102692,
          75702,
          69674,
          66313,
          60714,
          69867,
          63841,
          51369,
          75278,
          50898,
          57912,
          58821,
          80950,
          64100,
          64795,
          40464,
          62204,
          59292,
          82623,
          71113,
          46681,
          62187,
          51479,
          54803,
          79530,
          43795,
          63381,
          70777,
          75276,
          55521,
          50437,
          66465,
          75072,
          49505,
          61314,
          42387,
          67309,
          75236,
          67272,
          51529,
          57959,
          56796,
          65991,
          70165,
          53790,
          49269,
          61456,
          56937,
          62503,
          62010,
          83151,
          78825,
          60093,
          55614,
          59432,
          67911,
          65275,
          53653,
          65665,
          81217,
          61250,
          60152,
          71367,
          47682,
          54058,
          81698,
          54880,
          71499,
          62466,
          61794,
          62807,
          61467,
          48240,
          72635,
          62466,
          84574,
          56181,
          63381,
          45906,
          78710,
          66886,
          67445,
          73059,
          56253,
          58330,
          59304,
          59247,
          77353,
          70337,
          65295,
          68118,
          41039,
          66476,
          45938,
          78468,
          78901,
          43185,
          55250,
          58398,
          58710,
          59111,
          75012,
          89891,
          66373,
          64108,
          82224,
          71163,
          63564,
          51518,
          58330,
          63855,
          79146,
          75127,
          67430,
          62058,
          72063,
          42720,
          42564,
          43783,
          82017,
          70421,
          60161,
          61872,
          82716,
          49681,
          73170,
          52750,
          22507,
          65685,
          57091,
          48789,
          56575,
          71391,
          56628,
          55284,
          60474,
          55357,
          85710,
          53172,
          61346,
          42835,
          86424,
          51195,
          76630,
          48948,
          55260,
          64090,
          81320,
          66825,
          52278,
          79632,
          64950,
          75127,
          71796,
          55239,
          60554,
          56067,
          57937,
          53700,
          70647,
          52597,
          54753,
          44010,
          59052,
          83715,
          53103,
          63693,
          65352,
          79689,
          42021,
          64449,
          52845,
          78028,
          56337,
          36130,
          65569,
          56320,
          68316,
          47703,
          61180,
          77037,
          44529,
          70596,
          72228,
          67605,
          65196,
          42000,
          67023,
          59925,
          46610,
          87171,
          54233,
          84460,
          71367,
          61825,
          80910,
          56775,
          65463,
          47025,
          70566,
          63998,
          56129,
          63285,
          54450,
          57513,
          46049,
          57304,
          54450,
          59594,
          80685,
          62710,
          77142,
          54386,
          48070,
          62000,
          63841,
          59184,
          58113,
          50965,
          65748,
          77044,
          61559,
          77297,
          61284,
          54730,
          64722,
          76624,
          65106,
          67433,
          77766,
          74716,
          68118,
          53378,
          64191,
          57183,
          71847,
          49118,
          39767,
          57091,
          52531,
          57811,
          60894,
          65169,
          59868,
          65695,
          74805,
          77382,
          90842,
          88097,
          50150,
          62061,
          69627,
          62159,
          58554,
          53034,
          52203,
          47025,
          56242,
          63915,
          63841,
          65685,
          44511,
          67087,
          69389,
          57537,
          65704,
          92533,
          52852,
          69401,
          32727,
          38410,
          64866,
          57957,
          49476,
          50725,
          94871,
          65148,
          57072,
          60474,
          62807,
          70379,
          60585,
          57867,
          65492,
          68487,
          54108,
          57136,
          46772,
          78931,
          53977,
          55759,
          58597,
          69283,
          59235,
          74881,
          51983,
          66033,
          67445,
          70179,
          49681,
          79865,
          75315,
          55517,
          82800,
          60482,
          81361,
          53843,
          71855,
          51250,
          55434,
          52973,
          50664,
          41003,
          73059,
          46681,
          59821,
          50002,
          69755,
          56386,
          75774,
          58684,
          62670,
          50334,
          50729,
          64892,
          63246,
          77766,
          72635,
          69016,
          56534,
          58350,
          81217,
          49090,
          62335,
          86580,
          61064,
          55012,
          58656,
          64813,
          55424,
          74881,
          71107,
          75342,
          79146,
          77437,
          37292,
          70321,
          58086,
          66835,
          69901,
          51569,
          77981,
          62905,
          59481,
          72117,
          67131,
          70596,
          65370,
          64590,
          71232,
          77298,
          82122,
          75774,
          78416,
          37070,
          53977,
          7144,
          58582,
          50387,
          63967,
          52513,
          54693,
          80336,
          84953,
          65735,
          86836,
          83257,
          74290,
          54006,
          61825,
          60208,
          69932,
          60200,
          33051,
          69702,
          62772,
          76532,
          61671,
          113734,
          59292,
          60491,
          52278,
          70932,
          80982,
          62694,
          75903,
          54998,
          54356,
          72570,
          83891,
          56939,
          61798,
          70053,
          64474,
          77226,
          40794,
          4428,
          96547,
          79205,
          56559,
          65814,
          34445,
          71322,
          49912,
          68117,
          67225,
          55914,
          75330,
          60689,
          49767,
          65308,
          81044,
          55801,
          70179,
          59462,
          67445,
          54591,
          71866,
          42000,
          64713,
          68487,
          56796,
          87000,
          53367,
          79244,
          49912,
          67911,
          72967,
          58275,
          44953,
          45736,
          66476,
          69805,
          53230,
          61286,
          65333,
          58482,
          69263,
          65706,
          60934,
          65210,
          52914,
          44325,
          67716,
          76234,
          55593,
          50501,
          57731,
          73807,
          41769,
          58025,
          57642,
          58554,
          63777,
          57967,
          44802,
          69245
         ],
         "xaxis": "x",
         "y": [
          776,
          716,
          590,
          1315,
          913,
          902,
          606,
          1093,
          518,
          612,
          884,
          606,
          1274,
          653,
          863,
          661,
          692,
          778,
          606,
          978,
          410,
          1169,
          1097,
          910,
          850,
          969,
          608,
          730,
          551,
          577,
          660,
          1135,
          559,
          661,
          463,
          632,
          725,
          871,
          1021,
          421,
          1318,
          978,
          1033,
          608,
          1282,
          834,
          1150,
          1240,
          1101,
          541,
          1135,
          714,
          1245,
          576,
          433,
          1117,
          605,
          1102,
          1112,
          1148,
          845,
          770,
          957,
          925,
          908,
          576,
          930,
          859,
          916,
          728,
          1213,
          546,
          680,
          630,
          946,
          507,
          940,
          835,
          425,
          636,
          494,
          693,
          1348,
          492,
          1005,
          787,
          1040,
          446,
          490,
          1485,
          1073,
          751,
          1008,
          684,
          1082,
          1068,
          733,
          467,
          868,
          1001,
          971,
          926,
          542,
          890,
          1388,
          906,
          973,
          530,
          747,
          895,
          735,
          682,
          663,
          976,
          746,
          1210,
          945,
          1157,
          730,
          943,
          777,
          521,
          662,
          1008,
          795,
          795,
          889,
          611,
          819,
          594,
          882,
          981,
          889,
          1375,
          393,
          1005,
          486,
          1092,
          599,
          1174,
          1095,
          597,
          1064,
          1048,
          574,
          670,
          576,
          664,
          928,
          467,
          689,
          636,
          1004,
          734,
          637,
          903,
          596,
          1185,
          869,
          1027,
          836,
          606,
          1099,
          902,
          960,
          1215,
          449,
          1064,
          1006,
          564,
          833,
          1364,
          450,
          758,
          654,
          813,
          629,
          729,
          767,
          1071,
          573,
          1167,
          458,
          726,
          860,
          570,
          769,
          577,
          680,
          542,
          1043,
          761,
          764,
          1180,
          727,
          1062,
          486,
          989,
          595,
          1226,
          564,
          1003,
          902,
          1139,
          797,
          928,
          858,
          1198,
          1113,
          966,
          833,
          960,
          779,
          811,
          725,
          683,
          694,
          1079,
          578,
          728,
          662,
          491,
          926,
          1085,
          1150,
          405,
          1315,
          573,
          805,
          936,
          528,
          724,
          488,
          859,
          702,
          1211,
          655,
          704,
          1123,
          691,
          968,
          1250,
          938,
          1155,
          653,
          906,
          766,
          467,
          1298,
          981,
          523,
          777,
          424,
          756,
          937,
          562,
          635,
          757,
          1168,
          660,
          1103,
          684,
          1060,
          515,
          1026,
          684,
          499,
          1004,
          606,
          990,
          470,
          504,
          1020,
          908,
          1072,
          758,
          685,
          545,
          1065,
          530,
          789,
          811,
          405,
          805,
          899,
          973,
          992,
          1529,
          860,
          928,
          793,
          825,
          610,
          1192,
          1229,
          485,
          496,
          794,
          802,
          832,
          1189,
          1194,
          656,
          820,
          1121,
          1424,
          844,
          410,
          800,
          861,
          634,
          586,
          447,
          939,
          415,
          971,
          789,
          908,
          769,
          727,
          794,
          797,
          545,
          817,
          1131,
          879,
          690,
          529,
          534,
          556,
          637,
          795,
          586,
          1078,
          1115,
          1034,
          1180,
          819,
          860,
          736,
          612,
          1045,
          1366,
          747,
          642,
          1048,
          943,
          907,
          854,
          733,
          904,
          1128,
          964,
          793,
          677,
          1174,
          1034,
          458,
          792,
          841,
          633,
          1315,
          507,
          778,
          562,
          1141,
          710,
          882,
          1152,
          561,
          601,
          1095,
          425,
          734,
          638,
          894,
          612,
          823,
          813,
          825,
          694,
          496,
          902,
          772,
          1529,
          981,
          1533,
          815,
          1001,
          1157,
          688,
          708,
          746,
          1080,
          660,
          1220,
          745,
          877,
          964,
          1327,
          563,
          564,
          1125,
          460,
          1376,
          792,
          1033,
          882,
          467,
          664,
          622,
          461,
          1073,
          976,
          968,
          461,
          1338,
          917,
          969,
          1382,
          823,
          1179,
          433,
          907,
          416,
          763,
          525,
          882,
          1149,
          929,
          1052,
          1024,
          395,
          557,
          1365,
          1217,
          581,
          424,
          656,
          1049,
          685,
          835,
          1039,
          946,
          820,
          732,
          277,
          507,
          1028,
          1198,
          909,
          1191,
          749,
          901,
          455,
          775,
          1089,
          816,
          561,
          463,
          1012,
          823,
          1138,
          434,
          359,
          809,
          895,
          484,
          747,
          839,
          1305,
          874,
          930,
          868,
          1260,
          1109,
          639,
          692,
          1211,
          1208,
          527,
          1034,
          1088,
          1174,
          519,
          715,
          653,
          602,
          1366,
          1001,
          961,
          400,
          1216,
          874,
          976,
          497,
          615,
          1021,
          437,
          1013,
          1038,
          732,
          608,
          798,
          731,
          568,
          1199,
          873,
          731,
          575,
          542,
          1016,
          907,
          546,
          500,
          704,
          849,
          521,
          470,
          679,
          586,
          653,
          468,
          1049,
          843
         ],
         "yaxis": "y"
        },
        {
         "hovertemplate": "Cluster=Cluster 1<br>Income=%{x}<br>Spend_all=%{y}<extra></extra>",
         "legendgroup": "Cluster 1",
         "marker": {
          "color": "#ab63fa",
          "symbol": "circle"
         },
         "mode": "markers",
         "name": "Cluster 1",
         "showlegend": true,
         "type": "scattergl",
         "x": [
          30351,
          7500,
          17323,
          41850,
          37760,
          33812,
          37040,
          40689,
          18589,
          53359,
          38360,
          40548,
          46610,
          23718,
          21994,
          7500,
          7500,
          41728,
          35790,
          25721,
          40246,
          26326,
          29760,
          26304,
          23559,
          36138,
          38557,
          19510,
          30992,
          9548,
          33762,
          41883,
          23957,
          35688,
          46344,
          30523,
          28718,
          25271,
          45759,
          24882,
          38872,
          51148,
          40637,
          18890,
          48721,
          46097,
          44377,
          30732,
          42011,
          38590,
          23661,
          26490,
          30899,
          45989,
          18701,
          15287,
          37717,
          43776,
          38179,
          38097,
          22070,
          33378,
          37760,
          35416,
          32414,
          35388,
          42386,
          27038,
          42670,
          66503,
          30833,
          34421,
          14849,
          27255,
          29999,
          24072,
          22010,
          30675,
          41411,
          44300,
          30372,
          37717,
          31615,
          48178,
          38578,
          46098,
          22585,
          30279,
          30822,
          27421,
          35688,
          10245,
          38823,
          51012,
          43824,
          15345,
          23442,
          14515,
          31395,
          27213,
          30351,
          23616,
          46923,
          48686,
          50943,
          7500,
          28691,
          18100,
          30279,
          23295,
          70829,
          38988,
          42207,
          31880,
          38415,
          41124,
          32233,
          28457,
          46310,
          27203,
          24279,
          50943,
          34935,
          39665,
          36443,
          26095,
          25545,
          32880,
          49154,
          65316,
          28567,
          25315,
          43638,
          42710,
          47850,
          22419,
          43462,
          15315,
          48799,
          29298,
          47691,
          38200,
          44989,
          64413,
          36959,
          45207,
          40689,
          27450,
          39684,
          23910,
          26224,
          31089,
          30081,
          49618,
          21888,
          30801,
          45006,
          18978,
          45837,
          35791,
          54162,
          30522,
          31632,
          13624,
          34487,
          28769,
          29103,
          49431,
          26490,
          25965,
          14661,
          18690,
          45068,
          54690,
          36145,
          50611,
          13084,
          47570,
          33249,
          50272,
          7500,
          53593,
          17487,
          34941,
          38702,
          40662,
          35523,
          48726,
          46891,
          33622,
          41452,
          31590,
          20425,
          40780,
          16813,
          46524,
          45183,
          46984,
          34838,
          21359,
          25804,
          22419,
          25130,
          35441,
          49494,
          45889,
          34026,
          40049,
          19419,
          49166,
          37758,
          38683,
          43456,
          30545,
          39922,
          17117,
          35797,
          46231,
          51390,
          57100,
          58917,
          45684,
          35641,
          39858,
          24401,
          25443,
          14906,
          39771,
          44051,
          59754,
          54237,
          41021,
          33471,
          34596,
          40706,
          15716,
          33462,
          24884,
          46086,
          22434,
          36930,
          30168,
          34053,
          54165,
          32300,
          20180,
          28440,
          17345,
          15038,
          32173,
          31056,
          28071,
          38998,
          33168,
          35196,
          25959,
          27100,
          42557,
          16860,
          22304,
          41014,
          36715,
          38578,
          27590,
          54210,
          38508,
          15315,
          22634,
          31605,
          52034,
          46734,
          39552,
          36778,
          49678,
          37155,
          26576,
          7500,
          48985,
          35322,
          33444,
          28510,
          43140,
          15056,
          22327,
          31497,
          43641,
          46891,
          15287,
          36317,
          56721,
          42160,
          33629,
          34377,
          8940,
          22518,
          44421,
          38197,
          28427,
          28691,
          59062,
          27683,
          7500,
          40521,
          55158,
          62972,
          31454,
          38808,
          23748,
          40800,
          37633,
          26997,
          33986,
          15759,
          42997,
          7500,
          44267,
          50200,
          27238,
          47009,
          46692,
          37774,
          48752,
          39660,
          43263,
          18929,
          24367,
          33249,
          18227,
          38136,
          33316,
          35791,
          50611,
          48904,
          57420,
          54342,
          20895,
          44964,
          22682,
          41658,
          51039,
          60544,
          36864,
          36947,
          57045,
          36957,
          34412,
          22634,
          18690,
          28164,
          34596,
          31907,
          27100,
          31086,
          60544,
          20491,
          39922,
          33402,
          21645,
          46053,
          43300,
          34380,
          34704,
          59892,
          42873,
          32952,
          42014,
          46098,
          20981,
          27242,
          3502,
          28087,
          19740,
          53083,
          46098,
          23331,
          23331,
          51411,
          42386,
          30390,
          30983,
          37284,
          47175,
          31859,
          27215,
          39922,
          24645,
          47958,
          38998,
          42014,
          38201,
          34935,
          40442,
          31497,
          13724,
          48432,
          12393,
          54414,
          22775,
          30560,
          34213,
          36634,
          34916,
          41473,
          37929,
          20193,
          27573,
          15862,
          22554,
          18169,
          24336,
          18222,
          42033,
          41437,
          9722,
          52117,
          35196,
          44392,
          17688,
          42586,
          23529,
          18690,
          37244,
          28389,
          44989,
          30372,
          16014,
          41120,
          39763,
          21955,
          25509,
          51012,
          42586,
          29760,
          28973,
          39435,
          20194,
          34600,
          46904,
          49094,
          34026,
          34074,
          28520,
          62535,
          59385,
          18701,
          37758,
          33316,
          22669,
          44911,
          41580,
          47743,
          62972,
          22280,
          58217,
          21024,
          32889,
          30538,
          52413,
          42081,
          31158,
          24882,
          45759,
          35701,
          57107,
          18929,
          36038,
          20180,
          34230,
          22701,
          34984,
          28320,
          23763,
          34529,
          36065,
          46998,
          40887,
          34600,
          54690,
          32632,
          31385,
          24570,
          25509,
          21994,
          57113,
          51373,
          39791,
          13672,
          32644,
          22979,
          30368,
          41638,
          39146,
          37284,
          36790,
          27943,
          30261,
          43815,
          7500,
          60905,
          38680,
          45057,
          37150,
          23478,
          42192,
          27889,
          27803,
          51651,
          30828,
          34109,
          48699,
          54252,
          14796,
          14188,
          20425,
          43018,
          25818,
          37509,
          43586,
          33590,
          30992,
          16005,
          40590,
          29435,
          36997,
          63516,
          40590,
          30560,
          47320,
          31560,
          48432,
          26067,
          26487,
          40851,
          27469,
          8820,
          16185,
          48432,
          18929,
          35893,
          14918,
          45146,
          36807,
          28427,
          22775,
          40101,
          7500,
          11012,
          26816,
          34421,
          52869
         ],
         "xaxis": "x",
         "y": [
          46,
          61,
          46,
          96,
          317,
          133,
          316,
          444,
          75,
          257,
          131,
          120,
          302,
          81,
          22,
          31,
          122,
          55,
          72,
          34,
          13,
          18,
          165,
          16,
          79,
          151,
          145,
          30,
          43,
          29,
          106,
          312,
          68,
          211,
          429,
          13,
          57,
          50,
          68,
          80,
          91,
          315,
          38,
          35,
          293,
          241,
          264,
          185,
          189,
          22,
          23,
          210,
          33,
          322,
          44,
          31,
          25,
          275,
          90,
          184,
          67,
          99,
          317,
          390,
          52,
          32,
          100,
          107,
          241,
          401,
          28,
          30,
          65,
          37,
          160,
          23,
          33,
          62,
          139,
          42,
          44,
          25,
          51,
          254,
          73,
          120,
          81,
          37,
          51,
          324,
          211,
          41,
          114,
          209,
          186,
          47,
          27,
          96,
          64,
          70,
          46,
          79,
          369,
          20,
          46,
          36,
          34,
          14,
          37,
          20,
          431,
          348,
          265,
          15,
          44,
          506,
          296,
          205,
          309,
          64,
          263,
          46,
          137,
          216,
          138,
          42,
          210,
          42,
          411,
          260,
          46,
          54,
          201,
          406,
          134,
          162,
          240,
          64,
          331,
          11,
          21,
          17,
          369,
          279,
          62,
          215,
          444,
          143,
          81,
          67,
          63,
          79,
          42,
          129,
          213,
          45,
          266,
          37,
          373,
          35,
          42,
          326,
          95,
          36,
          103,
          191,
          48,
          365,
          210,
          74,
          26,
          60,
          20,
          198,
          172,
          493,
          29,
          121,
          112,
          233,
          71,
          480,
          18,
          97,
          109,
          92,
          66,
          242,
          183,
          81,
          16,
          38,
          57,
          377,
          50,
          177,
          315,
          41,
          170,
          48,
          55,
          162,
          50,
          39,
          385,
          46,
          76,
          290,
          70,
          368,
          40,
          341,
          393,
          69,
          156,
          128,
          68,
          263,
          353,
          409,
          282,
          28,
          178,
          95,
          467,
          32,
          66,
          50,
          171,
          475,
          361,
          64,
          93,
          23,
          81,
          92,
          54,
          19,
          343,
          58,
          297,
          279,
          103,
          236,
          39,
          137,
          63,
          58,
          80,
          22,
          55,
          313,
          54,
          122,
          497,
          56,
          37,
          270,
          38,
          18,
          20,
          357,
          73,
          12,
          367,
          443,
          64,
          96,
          125,
          332,
          330,
          384,
          77,
          315,
          74,
          27,
          18,
          75,
          106,
          18,
          91,
          235,
          88,
          24,
          155,
          139,
          183,
          31,
          133,
          296,
          140,
          152,
          114,
          101,
          61,
          189,
          40,
          52,
          34,
          71,
          351,
          119,
          21,
          418,
          587,
          48,
          246,
          76,
          99,
          38,
          434,
          44,
          17,
          15,
          57,
          310,
          401,
          57,
          448,
          397,
          473,
          316,
          299,
          441,
          85,
          24,
          112,
          28,
          103,
          131,
          35,
          493,
          371,
          322,
          177,
          45,
          41,
          95,
          72,
          417,
          289,
          354,
          146,
          454,
          152,
          209,
          96,
          60,
          78,
          23,
          449,
          37,
          48,
          289,
          30,
          156,
          70,
          65,
          209,
          180,
          175,
          40,
          87,
          269,
          55,
          436,
          120,
          73,
          106,
          5,
          112,
          55,
          271,
          120,
          103,
          269,
          18,
          100,
          80,
          167,
          23,
          240,
          20,
          102,
          156,
          17,
          407,
          54,
          436,
          268,
          137,
          169,
          155,
          58,
          424,
          57,
          211,
          15,
          31,
          117,
          335,
          231,
          76,
          265,
          82,
          244,
          36,
          41,
          21,
          31,
          67,
          25,
          32,
          103,
          279,
          497,
          211,
          11,
          252,
          54,
          60,
          55,
          28,
          369,
          44,
          38,
          81,
          167,
          55,
          101,
          209,
          252,
          165,
          269,
          102,
          47,
          318,
          253,
          502,
          76,
          255,
          43,
          398,
          185,
          44,
          40,
          131,
          173,
          215,
          92,
          275,
          587,
          13,
          103,
          84,
          55,
          367,
          450,
          382,
          72,
          80,
          68,
          46,
          416,
          85,
          47,
          137,
          21,
          24,
          38,
          43,
          42,
          162,
          74,
          377,
          161,
          318,
          198,
          576,
          27,
          193,
          101,
          22,
          263,
          393,
          174,
          25,
          413,
          115,
          52,
          441,
          165,
          23,
          66,
          37,
          22,
          79,
          100,
          392,
          79,
          50,
          467,
          129,
          100,
          26,
          176,
          433,
          56,
          22,
          40,
          264,
          51,
          75,
          57,
          133,
          28,
          123,
          132,
          8,
          43,
          103,
          258,
          180,
          94,
          300,
          258,
          31,
          414,
          94,
          424,
          56,
          69,
          59,
          17,
          35,
          106,
          424,
          85,
          199,
          43,
          53,
          16,
          52,
          15,
          415,
          53,
          84,
          22,
          30,
          172
         ],
         "yaxis": "y"
        }
       ],
       "layout": {
        "height": 600,
        "legend": {
         "title": {
          "text": "Cluster"
         },
         "tracegroupgap": 0
        },
        "margin": {
         "t": 60
        },
        "template": {
         "data": {
          "bar": [
           {
            "error_x": {
             "color": "#2a3f5f"
            },
            "error_y": {
             "color": "#2a3f5f"
            },
            "marker": {
             "line": {
              "color": "#E5ECF6",
              "width": 0.5
             },
             "pattern": {
              "fillmode": "overlay",
              "size": 10,
              "solidity": 0.2
             }
            },
            "type": "bar"
           }
          ],
          "barpolar": [
           {
            "marker": {
             "line": {
              "color": "#E5ECF6",
              "width": 0.5
             },
             "pattern": {
              "fillmode": "overlay",
              "size": 10,
              "solidity": 0.2
             }
            },
            "type": "barpolar"
           }
          ],
          "carpet": [
           {
            "aaxis": {
             "endlinecolor": "#2a3f5f",
             "gridcolor": "white",
             "linecolor": "white",
             "minorgridcolor": "white",
             "startlinecolor": "#2a3f5f"
            },
            "baxis": {
             "endlinecolor": "#2a3f5f",
             "gridcolor": "white",
             "linecolor": "white",
             "minorgridcolor": "white",
             "startlinecolor": "#2a3f5f"
            },
            "type": "carpet"
           }
          ],
          "choropleth": [
           {
            "colorbar": {
             "outlinewidth": 0,
             "ticks": ""
            },
            "type": "choropleth"
           }
          ],
          "contour": [
           {
            "colorbar": {
             "outlinewidth": 0,
             "ticks": ""
            },
            "colorscale": [
             [
              0,
              "#0d0887"
             ],
             [
              0.1111111111111111,
              "#46039f"
             ],
             [
              0.2222222222222222,
              "#7201a8"
             ],
             [
              0.3333333333333333,
              "#9c179e"
             ],
             [
              0.4444444444444444,
              "#bd3786"
             ],
             [
              0.5555555555555556,
              "#d8576b"
             ],
             [
              0.6666666666666666,
              "#ed7953"
             ],
             [
              0.7777777777777778,
              "#fb9f3a"
             ],
             [
              0.8888888888888888,
              "#fdca26"
             ],
             [
              1,
              "#f0f921"
             ]
            ],
            "type": "contour"
           }
          ],
          "contourcarpet": [
           {
            "colorbar": {
             "outlinewidth": 0,
             "ticks": ""
            },
            "type": "contourcarpet"
           }
          ],
          "heatmap": [
           {
            "colorbar": {
             "outlinewidth": 0,
             "ticks": ""
            },
            "colorscale": [
             [
              0,
              "#0d0887"
             ],
             [
              0.1111111111111111,
              "#46039f"
             ],
             [
              0.2222222222222222,
              "#7201a8"
             ],
             [
              0.3333333333333333,
              "#9c179e"
             ],
             [
              0.4444444444444444,
              "#bd3786"
             ],
             [
              0.5555555555555556,
              "#d8576b"
             ],
             [
              0.6666666666666666,
              "#ed7953"
             ],
             [
              0.7777777777777778,
              "#fb9f3a"
             ],
             [
              0.8888888888888888,
              "#fdca26"
             ],
             [
              1,
              "#f0f921"
             ]
            ],
            "type": "heatmap"
           }
          ],
          "heatmapgl": [
           {
            "colorbar": {
             "outlinewidth": 0,
             "ticks": ""
            },
            "colorscale": [
             [
              0,
              "#0d0887"
             ],
             [
              0.1111111111111111,
              "#46039f"
             ],
             [
              0.2222222222222222,
              "#7201a8"
             ],
             [
              0.3333333333333333,
              "#9c179e"
             ],
             [
              0.4444444444444444,
              "#bd3786"
             ],
             [
              0.5555555555555556,
              "#d8576b"
             ],
             [
              0.6666666666666666,
              "#ed7953"
             ],
             [
              0.7777777777777778,
              "#fb9f3a"
             ],
             [
              0.8888888888888888,
              "#fdca26"
             ],
             [
              1,
              "#f0f921"
             ]
            ],
            "type": "heatmapgl"
           }
          ],
          "histogram": [
           {
            "marker": {
             "pattern": {
              "fillmode": "overlay",
              "size": 10,
              "solidity": 0.2
             }
            },
            "type": "histogram"
           }
          ],
          "histogram2d": [
           {
            "colorbar": {
             "outlinewidth": 0,
             "ticks": ""
            },
            "colorscale": [
             [
              0,
              "#0d0887"
             ],
             [
              0.1111111111111111,
              "#46039f"
             ],
             [
              0.2222222222222222,
              "#7201a8"
             ],
             [
              0.3333333333333333,
              "#9c179e"
             ],
             [
              0.4444444444444444,
              "#bd3786"
             ],
             [
              0.5555555555555556,
              "#d8576b"
             ],
             [
              0.6666666666666666,
              "#ed7953"
             ],
             [
              0.7777777777777778,
              "#fb9f3a"
             ],
             [
              0.8888888888888888,
              "#fdca26"
             ],
             [
              1,
              "#f0f921"
             ]
            ],
            "type": "histogram2d"
           }
          ],
          "histogram2dcontour": [
           {
            "colorbar": {
             "outlinewidth": 0,
             "ticks": ""
            },
            "colorscale": [
             [
              0,
              "#0d0887"
             ],
             [
              0.1111111111111111,
              "#46039f"
             ],
             [
              0.2222222222222222,
              "#7201a8"
             ],
             [
              0.3333333333333333,
              "#9c179e"
             ],
             [
              0.4444444444444444,
              "#bd3786"
             ],
             [
              0.5555555555555556,
              "#d8576b"
             ],
             [
              0.6666666666666666,
              "#ed7953"
             ],
             [
              0.7777777777777778,
              "#fb9f3a"
             ],
             [
              0.8888888888888888,
              "#fdca26"
             ],
             [
              1,
              "#f0f921"
             ]
            ],
            "type": "histogram2dcontour"
           }
          ],
          "mesh3d": [
           {
            "colorbar": {
             "outlinewidth": 0,
             "ticks": ""
            },
            "type": "mesh3d"
           }
          ],
          "parcoords": [
           {
            "line": {
             "colorbar": {
              "outlinewidth": 0,
              "ticks": ""
             }
            },
            "type": "parcoords"
           }
          ],
          "pie": [
           {
            "automargin": true,
            "type": "pie"
           }
          ],
          "scatter": [
           {
            "marker": {
             "colorbar": {
              "outlinewidth": 0,
              "ticks": ""
             }
            },
            "type": "scatter"
           }
          ],
          "scatter3d": [
           {
            "line": {
             "colorbar": {
              "outlinewidth": 0,
              "ticks": ""
             }
            },
            "marker": {
             "colorbar": {
              "outlinewidth": 0,
              "ticks": ""
             }
            },
            "type": "scatter3d"
           }
          ],
          "scattercarpet": [
           {
            "marker": {
             "colorbar": {
              "outlinewidth": 0,
              "ticks": ""
             }
            },
            "type": "scattercarpet"
           }
          ],
          "scattergeo": [
           {
            "marker": {
             "colorbar": {
              "outlinewidth": 0,
              "ticks": ""
             }
            },
            "type": "scattergeo"
           }
          ],
          "scattergl": [
           {
            "marker": {
             "colorbar": {
              "outlinewidth": 0,
              "ticks": ""
             }
            },
            "type": "scattergl"
           }
          ],
          "scattermapbox": [
           {
            "marker": {
             "colorbar": {
              "outlinewidth": 0,
              "ticks": ""
             }
            },
            "type": "scattermapbox"
           }
          ],
          "scatterpolar": [
           {
            "marker": {
             "colorbar": {
              "outlinewidth": 0,
              "ticks": ""
             }
            },
            "type": "scatterpolar"
           }
          ],
          "scatterpolargl": [
           {
            "marker": {
             "colorbar": {
              "outlinewidth": 0,
              "ticks": ""
             }
            },
            "type": "scatterpolargl"
           }
          ],
          "scatterternary": [
           {
            "marker": {
             "colorbar": {
              "outlinewidth": 0,
              "ticks": ""
             }
            },
            "type": "scatterternary"
           }
          ],
          "surface": [
           {
            "colorbar": {
             "outlinewidth": 0,
             "ticks": ""
            },
            "colorscale": [
             [
              0,
              "#0d0887"
             ],
             [
              0.1111111111111111,
              "#46039f"
             ],
             [
              0.2222222222222222,
              "#7201a8"
             ],
             [
              0.3333333333333333,
              "#9c179e"
             ],
             [
              0.4444444444444444,
              "#bd3786"
             ],
             [
              0.5555555555555556,
              "#d8576b"
             ],
             [
              0.6666666666666666,
              "#ed7953"
             ],
             [
              0.7777777777777778,
              "#fb9f3a"
             ],
             [
              0.8888888888888888,
              "#fdca26"
             ],
             [
              1,
              "#f0f921"
             ]
            ],
            "type": "surface"
           }
          ],
          "table": [
           {
            "cells": {
             "fill": {
              "color": "#EBF0F8"
             },
             "line": {
              "color": "white"
             }
            },
            "header": {
             "fill": {
              "color": "#C8D4E3"
             },
             "line": {
              "color": "white"
             }
            },
            "type": "table"
           }
          ]
         },
         "layout": {
          "annotationdefaults": {
           "arrowcolor": "#2a3f5f",
           "arrowhead": 0,
           "arrowwidth": 1
          },
          "autotypenumbers": "strict",
          "coloraxis": {
           "colorbar": {
            "outlinewidth": 0,
            "ticks": ""
           }
          },
          "colorscale": {
           "diverging": [
            [
             0,
             "#8e0152"
            ],
            [
             0.1,
             "#c51b7d"
            ],
            [
             0.2,
             "#de77ae"
            ],
            [
             0.3,
             "#f1b6da"
            ],
            [
             0.4,
             "#fde0ef"
            ],
            [
             0.5,
             "#f7f7f7"
            ],
            [
             0.6,
             "#e6f5d0"
            ],
            [
             0.7,
             "#b8e186"
            ],
            [
             0.8,
             "#7fbc41"
            ],
            [
             0.9,
             "#4d9221"
            ],
            [
             1,
             "#276419"
            ]
           ],
           "sequential": [
            [
             0,
             "#0d0887"
            ],
            [
             0.1111111111111111,
             "#46039f"
            ],
            [
             0.2222222222222222,
             "#7201a8"
            ],
            [
             0.3333333333333333,
             "#9c179e"
            ],
            [
             0.4444444444444444,
             "#bd3786"
            ],
            [
             0.5555555555555556,
             "#d8576b"
            ],
            [
             0.6666666666666666,
             "#ed7953"
            ],
            [
             0.7777777777777778,
             "#fb9f3a"
            ],
            [
             0.8888888888888888,
             "#fdca26"
            ],
            [
             1,
             "#f0f921"
            ]
           ],
           "sequentialminus": [
            [
             0,
             "#0d0887"
            ],
            [
             0.1111111111111111,
             "#46039f"
            ],
            [
             0.2222222222222222,
             "#7201a8"
            ],
            [
             0.3333333333333333,
             "#9c179e"
            ],
            [
             0.4444444444444444,
             "#bd3786"
            ],
            [
             0.5555555555555556,
             "#d8576b"
            ],
            [
             0.6666666666666666,
             "#ed7953"
            ],
            [
             0.7777777777777778,
             "#fb9f3a"
            ],
            [
             0.8888888888888888,
             "#fdca26"
            ],
            [
             1,
             "#f0f921"
            ]
           ]
          },
          "colorway": [
           "#636efa",
           "#EF553B",
           "#00cc96",
           "#ab63fa",
           "#FFA15A",
           "#19d3f3",
           "#FF6692",
           "#B6E880",
           "#FF97FF",
           "#FECB52"
          ],
          "font": {
           "color": "#2a3f5f"
          },
          "geo": {
           "bgcolor": "white",
           "lakecolor": "white",
           "landcolor": "#E5ECF6",
           "showlakes": true,
           "showland": true,
           "subunitcolor": "white"
          },
          "hoverlabel": {
           "align": "left"
          },
          "hovermode": "closest",
          "mapbox": {
           "style": "light"
          },
          "paper_bgcolor": "white",
          "plot_bgcolor": "#E5ECF6",
          "polar": {
           "angularaxis": {
            "gridcolor": "white",
            "linecolor": "white",
            "ticks": ""
           },
           "bgcolor": "#E5ECF6",
           "radialaxis": {
            "gridcolor": "white",
            "linecolor": "white",
            "ticks": ""
           }
          },
          "scene": {
           "xaxis": {
            "backgroundcolor": "#E5ECF6",
            "gridcolor": "white",
            "gridwidth": 2,
            "linecolor": "white",
            "showbackground": true,
            "ticks": "",
            "zerolinecolor": "white"
           },
           "yaxis": {
            "backgroundcolor": "#E5ECF6",
            "gridcolor": "white",
            "gridwidth": 2,
            "linecolor": "white",
            "showbackground": true,
            "ticks": "",
            "zerolinecolor": "white"
           },
           "zaxis": {
            "backgroundcolor": "#E5ECF6",
            "gridcolor": "white",
            "gridwidth": 2,
            "linecolor": "white",
            "showbackground": true,
            "ticks": "",
            "zerolinecolor": "white"
           }
          },
          "shapedefaults": {
           "line": {
            "color": "#2a3f5f"
           }
          },
          "ternary": {
           "aaxis": {
            "gridcolor": "white",
            "linecolor": "white",
            "ticks": ""
           },
           "baxis": {
            "gridcolor": "white",
            "linecolor": "white",
            "ticks": ""
           },
           "bgcolor": "#E5ECF6",
           "caxis": {
            "gridcolor": "white",
            "linecolor": "white",
            "ticks": ""
           }
          },
          "title": {
           "x": 0.05
          },
          "xaxis": {
           "automargin": true,
           "gridcolor": "white",
           "linecolor": "white",
           "ticks": "",
           "title": {
            "standoff": 15
           },
           "zerolinecolor": "white",
           "zerolinewidth": 2
          },
          "yaxis": {
           "automargin": true,
           "gridcolor": "white",
           "linecolor": "white",
           "ticks": "",
           "title": {
            "standoff": 15
           },
           "zerolinecolor": "white",
           "zerolinewidth": 2
          }
         }
        },
        "title": {
         "text": "Spend vs Income Plot"
        },
        "width": 900,
        "xaxis": {
         "anchor": "y",
         "domain": [
          0,
          1
         ],
         "title": {
          "text": "Income"
         }
        },
        "yaxis": {
         "anchor": "x",
         "domain": [
          0,
          1
         ],
         "title": {
          "text": "Spend_all"
         }
        }
       }
      },
      "text/html": [
       "<div>                            <div id=\"ea9395c1-6e33-4ccc-a899-4568337aeedd\" class=\"plotly-graph-div\" style=\"height:600px; width:900px;\"></div>            <script type=\"text/javascript\">                require([\"plotly\"], function(Plotly) {                    window.PLOTLYENV=window.PLOTLYENV || {};                                    if (document.getElementById(\"ea9395c1-6e33-4ccc-a899-4568337aeedd\")) {                    Plotly.newPlot(                        \"ea9395c1-6e33-4ccc-a899-4568337aeedd\",                        [{\"hovertemplate\":\"Cluster=Cluster 3<br>Income=%{x}<br>Spend_all=%{y}<extra></extra>\",\"legendgroup\":\"Cluster 3\",\"marker\":{\"color\":\"#636efa\",\"symbol\":\"circle\"},\"mode\":\"markers\",\"name\":\"Cluster 3\",\"showlegend\":true,\"type\":\"scattergl\",\"x\":[58138.0,63033.0,76995.0,2447.0,58607.0,84618.0,68657.0,80011.0,79941.0,72550.0,79143.0,82582.0,82384.0,75777.0,70666.0,74854.0,66991.0,75251.0,75825.0,79593.0,65846.0,68126.0,90765.0,79607.0,62981.0,92859.0,65104.0,86111.0,59809.0,69372.0,80317.0,70356.0,74165.0,66951.0,80427.0,74068.0,80067.0,86718.0,75922.0,64497.0,70951.0,83790.0,72460.0,51537.0,79930.0,81975.0,73455.0,64961.0,73687.0,80134.0,75027.0,67546.0,65176.0,63342.0,80124.0,72940.0,69267.0,77882.0,79946.0,82497.0,55951.0,68627.0,77457.0,70893.0,64325.0,62187.0,66334.0,75693.0,83003.0,68655.0,55212.0,84835.0,71952.0,69759.0,72099.0,60000.0,68462.0,65073.0,78618.0,72025.0,52614.0,63810.0,66426.0,83664.0,90300.0,74293.0,68682.0,53858.0,75865.0,80134.0,91065.0,82584.0,93027.0,92910.0,75433.0,84865.0,81246.0,89572.0,66664.0,60597.0,80124.0,66582.0,75261.0,65104.0,78952.0,76005.0,58308.0,78642.0,64355.0,89120.0,81169.0,80184.0,73454.0,70503.0,77863.0,61839.0,72679.0,76982.0,84169.0,85620.0,79908.0,87771.0,81741.0,66565.0,61996.0,79800.0,92163.0,69882.0,72906.0,81168.0,72298.0,84196.0,70971.0,69084.0,65488.0,83917.0,63120.0,73691.0,76140.0,62859.0,77632.0,105471.0,98777.0,66731.0,52614.0,81300.0,68743.0,65777.0,86857.0,77845.0,69476.0,61209.0,71022.0,90247.0,71952.0,66375.0,76618.0,87305.0,74806.0,72190.0,80395.0,89694.0,72025.0,67432.0,62882.0,83844.0,83443.0,80952.0,75507.0,62220.0,58512.0,78285.0,74985.0,78939.0,6835.0,74250.0,72258.0,71466.0,62847.0,73926.0,48192.0,59666.0,72504.0,91820.0,76412.0,87771.0,78353.0,93404.0,80995.0,81702.0,82504.0,81205.0,61618.0,82347.0,70123.0,62450.0,80812.0,86857.0,82072.0,68092.0,78331.0,85072.0,86429.0,78420.0,75114.0,95529.0,62820.0,73113.0,84169.0,74637.0,72354.0,83033.0,77583.0,74116.0,74293.0,68397.0,67536.0,64831.0,82025.0,94384.0,51563.0,67893.0,92955.0,84219.0,80573.0,82576.0,80763.0,82170.0,75759.0,85683.0,75437.0,95169.0,83844.0,77568.0,70924.0,64504.0,74538.0,91700.0,68695.0,79593.0,8028.0,76081.0,70924.0,69098.0,62845.0,83528.0,64176.0,70713.0,88347.0,66294.0,79456.0,75345.0,71691.0,85844.0,79803.0,83829.0,76045.0,76773.0,81698.0,98777.0,71819.0,86358.0,67381.0,85606.0,72903.0,85696.0,68142.0,83145.0,56715.0,79410.0,81657.0,74214.0,90638.0,54959.0,78579.0,67369.0,70091.0,78075.0,66636.0,84618.0,74918.0,68682.0,75032.0,84906.0,66000.0,69969.0,76653.0,90687.0,73450.0,83829.0,85485.0,55956.0,66303.0,78687.0,83151.0,78569.0,94384.0,71626.0,81051.0,64857.0,81843.0,72828.0,6560.0,71604.0,71434.0,71853.0,62845.0,85696.0,76542.0,70515.0,69109.0,80695.0,59601.0,75154.0,92344.0,75507.0,80134.0,80589.0,63810.0,78427.0,82657.0,78041.0,70038.0,77343.0,73892.0,68695.0,93790.0,83844.0,67419.0,64857.0,75484.0,79419.0,76998.0,87679.0,53374.0,71706.0,49667.0,63206.0,84219.0,73538.0,79529.0,87188.0,69930.0,82032.0,74004.0,57036.0,67786.0,71969.0,65819.0,63943.0,76081.0,63972.0,75283.0,90638.0,81574.0,78093.0,82460.0,75794.0,74268.0,76445.0,90226.0,70638.0,68655.0,64509.0,66664.0,47111.0,64140.0,57136.0,82014.0,72066.0,69084.0,86610.0,80141.0,70440.0,78789.0,61787.0,73705.0,83512.0,77520.0,80398.0,60230.0,92491.0,90273.0,82571.0,82427.0,70044.0,81795.0,80360.0,63342.0,71853.0,85431.0,60839.0,63404.0,75702.0,90369.0,63159.0,46757.0,79734.0,63207.0,72071.0,72282.0,62568.0,78394.0,80739.0,57333.0,68148.0,72159.0,64260.0,82733.0,70116.0,69063.0,70886.0,69109.0,82326.0,72905.0,70300.0,70643.0,86979.0,67546.0,88420.0,69719.0,90933.0,62820.0,92556.0,67384.0,80573.0,77870.0,91249.0,77598.0,55212.0,70617.0,64849.0,73356.0,70792.0,63211.0,80872.0,72335.0,76842.0,96843.0,71670.0,74485.0,72643.0,85738.0,55686.0,94642.0,72968.0,91712.0,94472.0,63684.0,71964.0,96876.0,68281.0,77027.0,61416.0,83273.0,76467.0,76320.0,71128.0,70038.0,67046.0,77610.0,69520.0,79823.0,80144.0,81929.0,76068.0,78128.0,82332.0,72217.0,84906.0,82333.0,65220.0,72309.0,65487.0,78499.0,69209.0,60896.0,74859.0,72071.0,91172.0,90000.0,71965.0,79174.0,81380.0,84117.0,65487.0,89616.0,82347.0,73803.0,61014.0,88325.0,80617.0,82032.0,75777.0,61223.0,56981.0],\"xaxis\":\"x\",\"y\":[1617,1102,1782,1730,972,1672,1196,1395,984,1319,1693,1617,1957,1438,1076,1562,1253,1890,2209,1366,1120,1820,1724,1923,1482,2077,1053,1385,877,1381,1231,1706,1293,1117,1835,1581,1600,1270,1295,1804,1198,1615,1047,1103,1753,1588,2088,1009,1627,1690,1390,2126,1531,1101,1495,981,1635,818,1478,1919,1374,825,1157,1508,1307,1283,1161,1442,1674,1538,1182,1190,1443,1029,1188,1277,1670,900,2153,1932,990,1371,1377,1173,1738,1127,1598,915,1242,1378,1474,1435,2119,1795,1188,1688,1379,2059,1289,893,1495,1288,1743,1053,2092,1722,900,1816,1445,1924,2089,1902,1651,1727,1291,1895,1168,1062,1919,1600,1772,1957,1572,1065,1230,1867,2086,1478,1151,1193,939,1237,1825,1586,963,1587,1477,1179,1348,1307,2252,1724,2008,1029,990,1241,2074,1146,2114,1346,1044,957,1453,1621,1443,948,1511,1152,965,1947,1380,1472,1677,1335,1338,1574,1497,1757,1440,1226,1171,1427,1869,1507,137,1158,1525,1230,1612,1580,1526,1027,1478,1497,1808,1957,1576,1616,1482,1633,1066,2009,1345,1853,1727,995,1677,2114,2018,1281,1638,1423,1449,1453,1253,1990,976,1001,1919,1650,1228,1761,1149,2052,1127,1416,1829,1120,1187,2302,1250,995,1778,1198,1564,1910,1415,1908,2486,1789,1493,1901,1574,2194,1363,1314,1461,1968,1091,1366,178,1033,1363,2440,1178,1650,1826,1477,2116,967,1401,2087,1192,1958,868,1862,1323,1156,1104,2008,1574,1722,957,1956,2013,1313,1459,1833,1020,1370,1097,1711,2525,1232,1812,1461,1161,988,1084,1672,2047,1598,1215,1631,711,1536,2279,1779,1804,1862,1383,999,1286,2130,2346,1736,2302,1305,1501,1540,1643,1678,373,1196,1400,1149,1178,1313,1483,1258,1555,1918,797,1143,1899,1440,1690,1428,1371,1930,2283,1319,1244,1134,1507,1091,2349,1574,1471,1540,1159,1631,1910,2524,1064,1443,1396,928,1198,1658,1638,1923,1662,1234,1658,1513,1156,1086,1383,1106,1033,1269,1019,2525,1798,1105,974,1682,892,1410,2352,1334,1538,1722,1289,1092,1750,1179,1511,1792,1586,1603,2091,1572,1754,1319,1695,2157,1526,1597,1067,2034,1991,1686,1456,1504,1382,2231,1101,1149,1165,1250,902,1921,1588,1797,1143,914,1502,1338,1331,953,1428,1633,1662,1042,1401,1574,1323,1536,928,960,1555,2257,1515,1596,1828,1702,2126,2069,801,1685,976,1263,1490,1564,1815,1676,1735,1182,1280,1336,1512,1272,1173,1336,2092,1130,1544,1766,1734,1429,1371,982,2211,1958,2217,1691,1464,1870,1941,1655,1175,1665,1392,1575,932,1615,1244,993,1680,1455,1518,1367,2053,1376,1264,2006,1573,1631,1822,1282,1931,1169,1334,1782,1701,1565,1338,1092,1479,1213,2043,1893,1566,1169,1644,1853,1528,1147,1623,1435,1234,1438,1341,1241],\"yaxis\":\"y\"},{\"hovertemplate\":\"Cluster=Cluster 4<br>Income=%{x}<br>Spend_all=%{y}<extra></extra>\",\"legendgroup\":\"Cluster 4\",\"marker\":{\"color\":\"#EF553B\",\"symbol\":\"circle\"},\"mode\":\"markers\",\"name\":\"Cluster 4\",\"showlegend\":true,\"type\":\"scattergl\",\"x\":[46344.0,26646.0,58293.0,33454.0,5648.0,59354.0,65324.0,10979.0,38620.0,49389.0,42429.0,20559.0,65486.0,27938.0,32474.0,28332.0,38620.0,29440.0,50388.0,54178.0,42394.0,23626.0,30096.0,51813.0,47823.0,34554.0,24594.0,49096.0,50785.0,30753.0,21918.0,32557.0,54348.0,41551.0,35860.0,36921.0,38547.0,49605.0,59354.0,65747.0,34176.0,49967.0,60199.0,55375.0,23228.0,43482.0,52332.0,26091.0,33456.0,50447.0,53537.0,52074.0,38853.0,38285.0,51650.0,16248.0,30477.0,28249.0,32303.0,31353.0,46854.0,69142.0,29604.0,44794.0,41443.0,52195.0,44551.0,45204.0,34320.0,15033.0,22212.0,7500.0,22804.0,31686.0,31160.0,29938.0,40737.0,44159.0,31788.0,61905.0,29315.0,24480.0,65640.0,44319.0,30631.0,38361.0,16626.0,29672.0,35246.0,46377.0,39747.0,23976.0,12571.0,22574.0,54198.0,28839.0,40321.0,47025.0,54432.0,33996.0,35178.0,27190.0,33181.0,38643.0,50737.0,28442.0,35684.0,29548.0,33581.0,19986.0,36143.0,62499.0,42373.0,30507.0,48006.0,65808.0,19789.0,37401.0,30096.0,18492.0,10404.0,30015.0,32011.0,56223.0,20130.0,42618.0,24027.0,55707.0,36230.0,50300.0,50520.0,33183.0,37406.0,20518.0,41644.0,55842.0,38961.0,37760.0,43057.0,14045.0,55563.0,48330.0,48920.0,44124.0,30630.0,42691.0,50353.0,57954.0,47352.0,44931.0,57247.0,22944.0,24683.0,19514.0,27159.0,39548.0,21474.0,60504.0,33039.0,52157.0,38443.0,38593.0,51287.0,13260.0,47472.0,54603.0,47821.0,39453.0,26850.0,53863.0,24221.0,33178.0,59973.0,17459.0,42169.0,42429.0,26150.0,26877.0,22574.0,54456.0,36975.0,32218.0,46102.0,46463.0,55282.0,50616.0,61278.0,46734.0,19986.0,21063.0,29187.0,26751.0,38946.0,42315.0,61923.0,34824.0,26518.0,71427.0,41335.0,35682.0,35178.0,25252.0,25851.0,45160.0,18988.0,44794.0,56962.0,35946.0,45072.0,70545.0,48767.0,17003.0,33697.0,38829.0,31626.0,40760.0,51124.0,36283.0,20587.0,30467.0,17144.0,51267.0,19329.0,56850.0,55267.0,26872.0,65968.0,30772.0,22063.0,37859.0,16529.0,55412.0,34176.0,49980.0,15072.0,65324.0,30843.0,46374.0,38576.0,23228.0,44602.0,7500.0,49514.0,57906.0,19485.0,21675.0,42395.0,24762.0,36627.0,51111.0,42243.0,31814.0,26868.0,37087.0,21846.0,54137.0,47889.0,45921.0,42607.0,46015.0,34469.0,46107.0,32892.0,68274.0,27922.0,52190.0,42767.0,46106.0,16927.0,59041.0,40233.0,50183.0,56962.0,35704.0,46779.0,4861.0,35340.0,64587.0,34824.0,26091.0,19514.0,36736.0,49187.0,38196.0,59412.0,34961.0,33564.0,28647.0,37334.0,46423.0,37126.0,34728.0,33585.0,28764.0,53312.0,35860.0,65526.0,32892.0,39722.0,26907.0,50014.0,40479.0,24163.0,43776.0,39190.0,57236.0,53187.0,30023.0,50870.0,66480.0,54466.0,16269.0,33569.0,36262.0,48526.0,46931.0,16581.0,25930.0,42693.0,49669.0,10979.0,21282.0,33419.0,21255.0,42162.0,57744.0,54197.0,23091.0,44375.0,40344.0,14421.0,20130.0,66726.0,23724.0,47353.0,26954.0,44393.0,45894.0,58401.0,62307.0,54809.0,51412.0,18351.0,40451.0,42213.0,26228.0,40211.0,33438.0,38452.0,41986.0,37395.0,55249.0,44213.0,25707.0,1730.0,20427.0,74190.0,39356.0,35860.0,47139.0,19656.0,45579.0,37368.0,46149.0,46831.0,22804.0,43050.0,48918.0,60033.0,34043.0,23148.0,45143.0,59060.0,46094.0,40321.0,37235.0,18393.0,24711.0,45503.0,27244.0,51948.0,35876.0,40049.0,50127.0,26887.0,69139.0,17256.0,37971.0,41335.0,67267.0,57338.0,50523.0,56243.0,21355.0,46390.0,26907.0,53761.0,38887.0,29791.0,39996.0,26759.0,37716.0,47352.0,43142.0,51315.0,36026.0,24639.0,34578.0,54132.0,43269.0,38741.0,31163.0,34853.0,70844.0,42523.0,36408.0,51876.0,40304.0,26290.0,46015.0,16531.0,28072.0,41145.0,23162.0,39898.0,41020.0,19414.0,19107.0,64014.0,49854.0,35765.0,53253.0,31163.0,51766.0,33039.0,37787.0,37697.0,37401.0,9255.0,31928.0,57530.0,76800.0,37054.0,44322.0,27161.0,45203.0,34633.0,45903.0,35860.0,61482.0,34968.0,45143.0,52569.0,17144.0,36108.0,36663.0,44512.0,27116.0,54072.0,60432.0,65526.0,33955.0,31353.0,28359.0,57100.0,69139.0,51717.0,18793.0,54549.0,19444.0,36301.0,42731.0,52854.0,44078.0,35924.0,24594.0,39228.0,58494.0,56551.0,22448.0,25358.0,35544.0,43602.0,33996.0,36732.0,49544.0,33228.0,38232.0,23536.0,49413.0,42231.0,38452.0,18358.0,38175.0,54222.0,41154.0,18746.0,22108.0,38513.0,16653.0,46910.0,54984.0,42403.0,55761.0,45576.0,31859.0,38725.0,13533.0,36802.0,28249.0,47808.0,42664.0,42473.0,36075.0,48918.0,37697.0,36273.0,44689.0,21840.0,32583.0,44635.0,25293.0,54111.0,29236.0,48186.0,54809.0,32313.0,27071.0,4023.0,30093.0,57705.0,25008.0,11448.0,34738.0,26642.0,44503.0,49638.0,23830.0,30396.0,50616.0,30298.0,44155.0,49160.0,22148.0,73395.0,29819.0,45688.0,33235.0,31535.0,31878.0,61917.0,67472.0,21059.0,29543.0,34242.0,25410.0,39898.0,51141.0,29478.0,56551.0,44359.0,48877.0,39062.0,38236.0,36781.0,58646.0,53201.0,23477.0,58116.0,67506.0,24206.0,28420.0,33279.0,46423.0,68805.0,22263.0,28587.0,48195.0,32765.0,29672.0,23272.0,17649.0,40059.0,29009.0,43020.0,53154.0,32871.0,36927.0,48794.0,38361.0,42554.0,31761.0,34350.0,25293.0,22123.0,22390.0,71322.0,53204.0,58646.0,48150.0,34587.0,27733.0,25176.0,50116.0,58692.0,20587.0,62637.0,19346.0,35788.0,23539.0,29732.0,41275.0,42769.0,49572.0,17148.0,32146.0,41713.0,34176.0,59686.0,62994.0,15253.0,41967.0,38946.0,42523.0,53233.0,25224.0,43322.0,37085.0,32144.0,38054.0,5305.0,33562.0,24434.0,64014.0],\"xaxis\":\"x\",\"y\":[27,53,422,169,49,310,544,30,318,65,67,53,507,29,11,65,318,56,372,194,32,43,45,63,72,55,29,187,114,81,33,80,90,279,49,38,22,127,459,460,89,306,18,162,121,88,259,89,36,148,93,119,45,10,191,57,66,43,39,31,263,535,53,65,482,17,285,114,17,19,69,57,26,17,64,26,17,275,60,231,48,102,461,37,70,137,68,25,62,90,273,66,53,37,235,32,102,20,38,71,59,18,16,49,99,57,30,29,17,22,19,222,163,343,41,272,78,48,45,10,43,57,122,156,34,192,48,428,59,270,135,120,17,25,31,518,70,54,266,20,43,32,347,397,52,358,442,493,319,96,232,76,41,69,21,54,91,526,78,265,38,177,182,49,75,227,47,55,63,473,55,49,382,69,30,67,28,268,37,404,33,93,16,235,235,67,165,223,22,59,34,11,257,270,126,23,57,614,187,57,59,18,48,21,16,65,411,11,284,334,63,38,28,99,86,93,43,29,25,24,47,270,60,63,405,72,495,20,55,36,22,63,89,195,53,544,35,446,41,40,292,15,369,401,10,45,182,86,16,55,55,83,14,401,84,203,67,199,350,46,62,125,46,305,41,77,131,54,53,96,149,231,411,94,23,6,45,108,23,89,69,17,116,44,406,79,71,94,62,92,72,36,122,12,278,49,506,46,47,22,396,15,17,23,133,121,267,61,63,312,16,44,63,426,135,78,24,15,57,326,30,46,86,61,145,411,237,48,301,218,16,34,438,75,225,17,60,51,96,160,174,195,43,49,363,25,87,90,72,63,39,130,152,21,8,10,641,23,49,83,84,183,30,362,78,26,76,62,198,49,37,311,274,44,102,61,50,58,170,101,311,129,32,320,30,227,62,30,187,251,237,91,396,68,222,22,325,42,20,15,59,188,319,20,222,61,44,8,42,19,61,38,34,294,125,22,310,57,77,46,44,47,13,65,134,217,32,46,444,380,75,436,38,275,78,106,84,48,22,72,92,641,25,92,52,147,15,66,49,299,221,311,95,47,339,35,32,41,39,401,506,270,31,16,311,227,122,77,233,54,78,244,116,41,34,29,20,396,138,55,32,67,68,71,47,404,71,122,10,304,37,72,57,153,264,69,64,31,324,69,68,358,42,184,145,48,45,48,20,43,224,24,144,119,62,84,76,34,27,9,68,37,388,99,219,174,159,35,9,69,486,34,14,20,42,48,39,43,34,149,28,46,236,49,397,39,306,70,51,70,91,414,44,63,15,38,134,157,20,138,45,144,44,88,63,140,415,147,443,331,25,13,16,92,283,21,78,265,46,25,46,45,414,44,223,158,43,71,54,137,41,98,48,37,102,26,350,45,140,266,22,57,13,66,395,25,185,22,44,81,38,61,88,54,68,66,174,28,274,312,29,54,257,125,40,46,141,61,54,45,32,51,50,444],\"yaxis\":\"y\"},{\"hovertemplate\":\"Cluster=Cluster 2<br>Income=%{x}<br>Spend_all=%{y}<extra></extra>\",\"legendgroup\":\"Cluster 2\",\"marker\":{\"color\":\"#00cc96\",\"symbol\":\"circle\"},\"mode\":\"markers\",\"name\":\"Cluster 2\",\"showlegend\":true,\"type\":\"scattergl\",\"x\":[71613.0,62513.0,55635.0,82800.0,67353.0,48948.0,66373.0,70287.0,55954.0,66653.0,61823.0,67680.0,88194.0,69096.0,65031.0,60631.0,56046.0,81361.0,47916.0,78497.0,50150.0,85693.0,87195.0,52413.0,89058.0,77298.0,57288.0,86037.0,43974.0,36550.0,56129.0,101970.0,71488.0,77376.0,62998.0,61331.0,73448.0,68352.0,61010.0,62551.0,83837.0,78497.0,66835.0,61286.0,66973.0,69661.0,63693.0,102160.0,77972.0,46014.0,69508.0,77622.0,63887.0,51369.0,37070.0,62745.0,79761.0,61074.0,102692.0,75702.0,69674.0,66313.0,60714.0,69867.0,63841.0,51369.0,75278.0,50898.0,57912.0,58821.0,80950.0,64100.0,64795.0,40464.0,62204.0,59292.0,82623.0,71113.0,46681.0,62187.0,51479.0,54803.0,79530.0,43795.0,63381.0,70777.0,75276.0,55521.0,50437.0,66465.0,75072.0,49505.0,61314.0,42387.0,67309.0,75236.0,67272.0,51529.0,57959.0,56796.0,65991.0,70165.0,53790.0,49269.0,61456.0,56937.0,62503.0,62010.0,83151.0,78825.0,60093.0,55614.0,59432.0,67911.0,65275.0,53653.0,65665.0,81217.0,61250.0,60152.0,71367.0,47682.0,54058.0,81698.0,54880.0,71499.0,62466.0,61794.0,62807.0,61467.0,48240.0,72635.0,62466.0,84574.0,56181.0,63381.0,45906.0,78710.0,66886.0,67445.0,73059.0,56253.0,58330.0,59304.0,59247.0,77353.0,70337.0,65295.0,68118.0,41039.0,66476.0,45938.0,78468.0,78901.0,43185.0,55250.0,58398.0,58710.0,59111.0,75012.0,89891.0,66373.0,64108.0,82224.0,71163.0,63564.0,51518.0,58330.0,63855.0,79146.0,75127.0,67430.0,62058.0,72063.0,42720.0,42564.0,43783.0,82017.0,70421.0,60161.0,61872.0,82716.0,49681.0,73170.0,52750.0,22507.0,65685.0,57091.0,48789.0,56575.0,71391.0,56628.0,55284.0,60474.0,55357.0,85710.0,53172.0,61346.0,42835.0,86424.0,51195.0,76630.0,48948.0,55260.0,64090.0,81320.0,66825.0,52278.0,79632.0,64950.0,75127.0,71796.0,55239.0,60554.0,56067.0,57937.0,53700.0,70647.0,52597.0,54753.0,44010.0,59052.0,83715.0,53103.0,63693.0,65352.0,79689.0,42021.0,64449.0,52845.0,78028.0,56337.0,36130.0,65569.0,56320.0,68316.0,47703.0,61180.0,77037.0,44529.0,70596.0,72228.0,67605.0,65196.0,42000.0,67023.0,59925.0,46610.0,87171.0,54233.0,84460.0,71367.0,61825.0,80910.0,56775.0,65463.0,47025.0,70566.0,63998.0,56129.0,63285.0,54450.0,57513.0,46049.0,57304.0,54450.0,59594.0,80685.0,62710.0,77142.0,54386.0,48070.0,62000.0,63841.0,59184.0,58113.0,50965.0,65748.0,77044.0,61559.0,77297.0,61284.0,54730.0,64722.0,76624.0,65106.0,67433.0,77766.0,74716.0,68118.0,53378.0,64191.0,57183.0,71847.0,49118.0,39767.0,57091.0,52531.0,57811.0,60894.0,65169.0,59868.0,65695.0,74805.0,77382.0,90842.0,88097.0,50150.0,62061.0,69627.0,62159.0,58554.0,53034.0,52203.0,47025.0,56242.0,63915.0,63841.0,65685.0,44511.0,67087.0,69389.0,57537.0,65704.0,92533.0,52852.0,69401.0,32727.0,38410.0,64866.0,57957.0,49476.0,50725.0,94871.0,65148.0,57072.0,60474.0,62807.0,70379.0,60585.0,57867.0,65492.0,68487.0,54108.0,57136.0,46772.0,78931.0,53977.0,55759.0,58597.0,69283.0,59235.0,74881.0,51983.0,66033.0,67445.0,70179.0,49681.0,79865.0,75315.0,55517.0,82800.0,60482.0,81361.0,53843.0,71855.0,51250.0,55434.0,52973.0,50664.0,41003.0,73059.0,46681.0,59821.0,50002.0,69755.0,56386.0,75774.0,58684.0,62670.0,50334.0,50729.0,64892.0,63246.0,77766.0,72635.0,69016.0,56534.0,58350.0,81217.0,49090.0,62335.0,86580.0,61064.0,55012.0,58656.0,64813.0,55424.0,74881.0,71107.0,75342.0,79146.0,77437.0,37292.0,70321.0,58086.0,66835.0,69901.0,51569.0,77981.0,62905.0,59481.0,72117.0,67131.0,70596.0,65370.0,64590.0,71232.0,77298.0,82122.0,75774.0,78416.0,37070.0,53977.0,7144.0,58582.0,50387.0,63967.0,52513.0,54693.0,80336.0,84953.0,65735.0,86836.0,83257.0,74290.0,54006.0,61825.0,60208.0,69932.0,60200.0,33051.0,69702.0,62772.0,76532.0,61671.0,113734.0,59292.0,60491.0,52278.0,70932.0,80982.0,62694.0,75903.0,54998.0,54356.0,72570.0,83891.0,56939.0,61798.0,70053.0,64474.0,77226.0,40794.0,4428.0,96547.0,79205.0,56559.0,65814.0,34445.0,71322.0,49912.0,68117.0,67225.0,55914.0,75330.0,60689.0,49767.0,65308.0,81044.0,55801.0,70179.0,59462.0,67445.0,54591.0,71866.0,42000.0,64713.0,68487.0,56796.0,87000.0,53367.0,79244.0,49912.0,67911.0,72967.0,58275.0,44953.0,45736.0,66476.0,69805.0,53230.0,61286.0,65333.0,58482.0,69263.0,65706.0,60934.0,65210.0,52914.0,44325.0,67716.0,76234.0,55593.0,50501.0,57731.0,73807.0,41769.0,58025.0,57642.0,58554.0,63777.0,57967.0,44802.0,69245.0],\"xaxis\":\"x\",\"y\":[776,716,590,1315,913,902,606,1093,518,612,884,606,1274,653,863,661,692,778,606,978,410,1169,1097,910,850,969,608,730,551,577,660,1135,559,661,463,632,725,871,1021,421,1318,978,1033,608,1282,834,1150,1240,1101,541,1135,714,1245,576,433,1117,605,1102,1112,1148,845,770,957,925,908,576,930,859,916,728,1213,546,680,630,946,507,940,835,425,636,494,693,1348,492,1005,787,1040,446,490,1485,1073,751,1008,684,1082,1068,733,467,868,1001,971,926,542,890,1388,906,973,530,747,895,735,682,663,976,746,1210,945,1157,730,943,777,521,662,1008,795,795,889,611,819,594,882,981,889,1375,393,1005,486,1092,599,1174,1095,597,1064,1048,574,670,576,664,928,467,689,636,1004,734,637,903,596,1185,869,1027,836,606,1099,902,960,1215,449,1064,1006,564,833,1364,450,758,654,813,629,729,767,1071,573,1167,458,726,860,570,769,577,680,542,1043,761,764,1180,727,1062,486,989,595,1226,564,1003,902,1139,797,928,858,1198,1113,966,833,960,779,811,725,683,694,1079,578,728,662,491,926,1085,1150,405,1315,573,805,936,528,724,488,859,702,1211,655,704,1123,691,968,1250,938,1155,653,906,766,467,1298,981,523,777,424,756,937,562,635,757,1168,660,1103,684,1060,515,1026,684,499,1004,606,990,470,504,1020,908,1072,758,685,545,1065,530,789,811,405,805,899,973,992,1529,860,928,793,825,610,1192,1229,485,496,794,802,832,1189,1194,656,820,1121,1424,844,410,800,861,634,586,447,939,415,971,789,908,769,727,794,797,545,817,1131,879,690,529,534,556,637,795,586,1078,1115,1034,1180,819,860,736,612,1045,1366,747,642,1048,943,907,854,733,904,1128,964,793,677,1174,1034,458,792,841,633,1315,507,778,562,1141,710,882,1152,561,601,1095,425,734,638,894,612,823,813,825,694,496,902,772,1529,981,1533,815,1001,1157,688,708,746,1080,660,1220,745,877,964,1327,563,564,1125,460,1376,792,1033,882,467,664,622,461,1073,976,968,461,1338,917,969,1382,823,1179,433,907,416,763,525,882,1149,929,1052,1024,395,557,1365,1217,581,424,656,1049,685,835,1039,946,820,732,277,507,1028,1198,909,1191,749,901,455,775,1089,816,561,463,1012,823,1138,434,359,809,895,484,747,839,1305,874,930,868,1260,1109,639,692,1211,1208,527,1034,1088,1174,519,715,653,602,1366,1001,961,400,1216,874,976,497,615,1021,437,1013,1038,732,608,798,731,568,1199,873,731,575,542,1016,907,546,500,704,849,521,470,679,586,653,468,1049,843],\"yaxis\":\"y\"},{\"hovertemplate\":\"Cluster=Cluster 1<br>Income=%{x}<br>Spend_all=%{y}<extra></extra>\",\"legendgroup\":\"Cluster 1\",\"marker\":{\"color\":\"#ab63fa\",\"symbol\":\"circle\"},\"mode\":\"markers\",\"name\":\"Cluster 1\",\"showlegend\":true,\"type\":\"scattergl\",\"x\":[30351.0,7500.0,17323.0,41850.0,37760.0,33812.0,37040.0,40689.0,18589.0,53359.0,38360.0,40548.0,46610.0,23718.0,21994.0,7500.0,7500.0,41728.0,35790.0,25721.0,40246.0,26326.0,29760.0,26304.0,23559.0,36138.0,38557.0,19510.0,30992.0,9548.0,33762.0,41883.0,23957.0,35688.0,46344.0,30523.0,28718.0,25271.0,45759.0,24882.0,38872.0,51148.0,40637.0,18890.0,48721.0,46097.0,44377.0,30732.0,42011.0,38590.0,23661.0,26490.0,30899.0,45989.0,18701.0,15287.0,37717.0,43776.0,38179.0,38097.0,22070.0,33378.0,37760.0,35416.0,32414.0,35388.0,42386.0,27038.0,42670.0,66503.0,30833.0,34421.0,14849.0,27255.0,29999.0,24072.0,22010.0,30675.0,41411.0,44300.0,30372.0,37717.0,31615.0,48178.0,38578.0,46098.0,22585.0,30279.0,30822.0,27421.0,35688.0,10245.0,38823.0,51012.0,43824.0,15345.0,23442.0,14515.0,31395.0,27213.0,30351.0,23616.0,46923.0,48686.0,50943.0,7500.0,28691.0,18100.0,30279.0,23295.0,70829.0,38988.0,42207.0,31880.0,38415.0,41124.0,32233.0,28457.0,46310.0,27203.0,24279.0,50943.0,34935.0,39665.0,36443.0,26095.0,25545.0,32880.0,49154.0,65316.0,28567.0,25315.0,43638.0,42710.0,47850.0,22419.0,43462.0,15315.0,48799.0,29298.0,47691.0,38200.0,44989.0,64413.0,36959.0,45207.0,40689.0,27450.0,39684.0,23910.0,26224.0,31089.0,30081.0,49618.0,21888.0,30801.0,45006.0,18978.0,45837.0,35791.0,54162.0,30522.0,31632.0,13624.0,34487.0,28769.0,29103.0,49431.0,26490.0,25965.0,14661.0,18690.0,45068.0,54690.0,36145.0,50611.0,13084.0,47570.0,33249.0,50272.0,7500.0,53593.0,17487.0,34941.0,38702.0,40662.0,35523.0,48726.0,46891.0,33622.0,41452.0,31590.0,20425.0,40780.0,16813.0,46524.0,45183.0,46984.0,34838.0,21359.0,25804.0,22419.0,25130.0,35441.0,49494.0,45889.0,34026.0,40049.0,19419.0,49166.0,37758.0,38683.0,43456.0,30545.0,39922.0,17117.0,35797.0,46231.0,51390.0,57100.0,58917.0,45684.0,35641.0,39858.0,24401.0,25443.0,14906.0,39771.0,44051.0,59754.0,54237.0,41021.0,33471.0,34596.0,40706.0,15716.0,33462.0,24884.0,46086.0,22434.0,36930.0,30168.0,34053.0,54165.0,32300.0,20180.0,28440.0,17345.0,15038.0,32173.0,31056.0,28071.0,38998.0,33168.0,35196.0,25959.0,27100.0,42557.0,16860.0,22304.0,41014.0,36715.0,38578.0,27590.0,54210.0,38508.0,15315.0,22634.0,31605.0,52034.0,46734.0,39552.0,36778.0,49678.0,37155.0,26576.0,7500.0,48985.0,35322.0,33444.0,28510.0,43140.0,15056.0,22327.0,31497.0,43641.0,46891.0,15287.0,36317.0,56721.0,42160.0,33629.0,34377.0,8940.0,22518.0,44421.0,38197.0,28427.0,28691.0,59062.0,27683.0,7500.0,40521.0,55158.0,62972.0,31454.0,38808.0,23748.0,40800.0,37633.0,26997.0,33986.0,15759.0,42997.0,7500.0,44267.0,50200.0,27238.0,47009.0,46692.0,37774.0,48752.0,39660.0,43263.0,18929.0,24367.0,33249.0,18227.0,38136.0,33316.0,35791.0,50611.0,48904.0,57420.0,54342.0,20895.0,44964.0,22682.0,41658.0,51039.0,60544.0,36864.0,36947.0,57045.0,36957.0,34412.0,22634.0,18690.0,28164.0,34596.0,31907.0,27100.0,31086.0,60544.0,20491.0,39922.0,33402.0,21645.0,46053.0,43300.0,34380.0,34704.0,59892.0,42873.0,32952.0,42014.0,46098.0,20981.0,27242.0,3502.0,28087.0,19740.0,53083.0,46098.0,23331.0,23331.0,51411.0,42386.0,30390.0,30983.0,37284.0,47175.0,31859.0,27215.0,39922.0,24645.0,47958.0,38998.0,42014.0,38201.0,34935.0,40442.0,31497.0,13724.0,48432.0,12393.0,54414.0,22775.0,30560.0,34213.0,36634.0,34916.0,41473.0,37929.0,20193.0,27573.0,15862.0,22554.0,18169.0,24336.0,18222.0,42033.0,41437.0,9722.0,52117.0,35196.0,44392.0,17688.0,42586.0,23529.0,18690.0,37244.0,28389.0,44989.0,30372.0,16014.0,41120.0,39763.0,21955.0,25509.0,51012.0,42586.0,29760.0,28973.0,39435.0,20194.0,34600.0,46904.0,49094.0,34026.0,34074.0,28520.0,62535.0,59385.0,18701.0,37758.0,33316.0,22669.0,44911.0,41580.0,47743.0,62972.0,22280.0,58217.0,21024.0,32889.0,30538.0,52413.0,42081.0,31158.0,24882.0,45759.0,35701.0,57107.0,18929.0,36038.0,20180.0,34230.0,22701.0,34984.0,28320.0,23763.0,34529.0,36065.0,46998.0,40887.0,34600.0,54690.0,32632.0,31385.0,24570.0,25509.0,21994.0,57113.0,51373.0,39791.0,13672.0,32644.0,22979.0,30368.0,41638.0,39146.0,37284.0,36790.0,27943.0,30261.0,43815.0,7500.0,60905.0,38680.0,45057.0,37150.0,23478.0,42192.0,27889.0,27803.0,51651.0,30828.0,34109.0,48699.0,54252.0,14796.0,14188.0,20425.0,43018.0,25818.0,37509.0,43586.0,33590.0,30992.0,16005.0,40590.0,29435.0,36997.0,63516.0,40590.0,30560.0,47320.0,31560.0,48432.0,26067.0,26487.0,40851.0,27469.0,8820.0,16185.0,48432.0,18929.0,35893.0,14918.0,45146.0,36807.0,28427.0,22775.0,40101.0,7500.0,11012.0,26816.0,34421.0,52869.0],\"xaxis\":\"x\",\"y\":[46,61,46,96,317,133,316,444,75,257,131,120,302,81,22,31,122,55,72,34,13,18,165,16,79,151,145,30,43,29,106,312,68,211,429,13,57,50,68,80,91,315,38,35,293,241,264,185,189,22,23,210,33,322,44,31,25,275,90,184,67,99,317,390,52,32,100,107,241,401,28,30,65,37,160,23,33,62,139,42,44,25,51,254,73,120,81,37,51,324,211,41,114,209,186,47,27,96,64,70,46,79,369,20,46,36,34,14,37,20,431,348,265,15,44,506,296,205,309,64,263,46,137,216,138,42,210,42,411,260,46,54,201,406,134,162,240,64,331,11,21,17,369,279,62,215,444,143,81,67,63,79,42,129,213,45,266,37,373,35,42,326,95,36,103,191,48,365,210,74,26,60,20,198,172,493,29,121,112,233,71,480,18,97,109,92,66,242,183,81,16,38,57,377,50,177,315,41,170,48,55,162,50,39,385,46,76,290,70,368,40,341,393,69,156,128,68,263,353,409,282,28,178,95,467,32,66,50,171,475,361,64,93,23,81,92,54,19,343,58,297,279,103,236,39,137,63,58,80,22,55,313,54,122,497,56,37,270,38,18,20,357,73,12,367,443,64,96,125,332,330,384,77,315,74,27,18,75,106,18,91,235,88,24,155,139,183,31,133,296,140,152,114,101,61,189,40,52,34,71,351,119,21,418,587,48,246,76,99,38,434,44,17,15,57,310,401,57,448,397,473,316,299,441,85,24,112,28,103,131,35,493,371,322,177,45,41,95,72,417,289,354,146,454,152,209,96,60,78,23,449,37,48,289,30,156,70,65,209,180,175,40,87,269,55,436,120,73,106,5,112,55,271,120,103,269,18,100,80,167,23,240,20,102,156,17,407,54,436,268,137,169,155,58,424,57,211,15,31,117,335,231,76,265,82,244,36,41,21,31,67,25,32,103,279,497,211,11,252,54,60,55,28,369,44,38,81,167,55,101,209,252,165,269,102,47,318,253,502,76,255,43,398,185,44,40,131,173,215,92,275,587,13,103,84,55,367,450,382,72,80,68,46,416,85,47,137,21,24,38,43,42,162,74,377,161,318,198,576,27,193,101,22,263,393,174,25,413,115,52,441,165,23,66,37,22,79,100,392,79,50,467,129,100,26,176,433,56,22,40,264,51,75,57,133,28,123,132,8,43,103,258,180,94,300,258,31,414,94,424,56,69,59,17,35,106,424,85,199,43,53,16,52,15,415,53,84,22,30,172],\"yaxis\":\"y\"}],                        {\"height\":600,\"legend\":{\"title\":{\"text\":\"Cluster\"},\"tracegroupgap\":0},\"margin\":{\"t\":60},\"template\":{\"data\":{\"bar\":[{\"error_x\":{\"color\":\"#2a3f5f\"},\"error_y\":{\"color\":\"#2a3f5f\"},\"marker\":{\"line\":{\"color\":\"#E5ECF6\",\"width\":0.5},\"pattern\":{\"fillmode\":\"overlay\",\"size\":10,\"solidity\":0.2}},\"type\":\"bar\"}],\"barpolar\":[{\"marker\":{\"line\":{\"color\":\"#E5ECF6\",\"width\":0.5},\"pattern\":{\"fillmode\":\"overlay\",\"size\":10,\"solidity\":0.2}},\"type\":\"barpolar\"}],\"carpet\":[{\"aaxis\":{\"endlinecolor\":\"#2a3f5f\",\"gridcolor\":\"white\",\"linecolor\":\"white\",\"minorgridcolor\":\"white\",\"startlinecolor\":\"#2a3f5f\"},\"baxis\":{\"endlinecolor\":\"#2a3f5f\",\"gridcolor\":\"white\",\"linecolor\":\"white\",\"minorgridcolor\":\"white\",\"startlinecolor\":\"#2a3f5f\"},\"type\":\"carpet\"}],\"choropleth\":[{\"colorbar\":{\"outlinewidth\":0,\"ticks\":\"\"},\"type\":\"choropleth\"}],\"contour\":[{\"colorbar\":{\"outlinewidth\":0,\"ticks\":\"\"},\"colorscale\":[[0.0,\"#0d0887\"],[0.1111111111111111,\"#46039f\"],[0.2222222222222222,\"#7201a8\"],[0.3333333333333333,\"#9c179e\"],[0.4444444444444444,\"#bd3786\"],[0.5555555555555556,\"#d8576b\"],[0.6666666666666666,\"#ed7953\"],[0.7777777777777778,\"#fb9f3a\"],[0.8888888888888888,\"#fdca26\"],[1.0,\"#f0f921\"]],\"type\":\"contour\"}],\"contourcarpet\":[{\"colorbar\":{\"outlinewidth\":0,\"ticks\":\"\"},\"type\":\"contourcarpet\"}],\"heatmap\":[{\"colorbar\":{\"outlinewidth\":0,\"ticks\":\"\"},\"colorscale\":[[0.0,\"#0d0887\"],[0.1111111111111111,\"#46039f\"],[0.2222222222222222,\"#7201a8\"],[0.3333333333333333,\"#9c179e\"],[0.4444444444444444,\"#bd3786\"],[0.5555555555555556,\"#d8576b\"],[0.6666666666666666,\"#ed7953\"],[0.7777777777777778,\"#fb9f3a\"],[0.8888888888888888,\"#fdca26\"],[1.0,\"#f0f921\"]],\"type\":\"heatmap\"}],\"heatmapgl\":[{\"colorbar\":{\"outlinewidth\":0,\"ticks\":\"\"},\"colorscale\":[[0.0,\"#0d0887\"],[0.1111111111111111,\"#46039f\"],[0.2222222222222222,\"#7201a8\"],[0.3333333333333333,\"#9c179e\"],[0.4444444444444444,\"#bd3786\"],[0.5555555555555556,\"#d8576b\"],[0.6666666666666666,\"#ed7953\"],[0.7777777777777778,\"#fb9f3a\"],[0.8888888888888888,\"#fdca26\"],[1.0,\"#f0f921\"]],\"type\":\"heatmapgl\"}],\"histogram\":[{\"marker\":{\"pattern\":{\"fillmode\":\"overlay\",\"size\":10,\"solidity\":0.2}},\"type\":\"histogram\"}],\"histogram2d\":[{\"colorbar\":{\"outlinewidth\":0,\"ticks\":\"\"},\"colorscale\":[[0.0,\"#0d0887\"],[0.1111111111111111,\"#46039f\"],[0.2222222222222222,\"#7201a8\"],[0.3333333333333333,\"#9c179e\"],[0.4444444444444444,\"#bd3786\"],[0.5555555555555556,\"#d8576b\"],[0.6666666666666666,\"#ed7953\"],[0.7777777777777778,\"#fb9f3a\"],[0.8888888888888888,\"#fdca26\"],[1.0,\"#f0f921\"]],\"type\":\"histogram2d\"}],\"histogram2dcontour\":[{\"colorbar\":{\"outlinewidth\":0,\"ticks\":\"\"},\"colorscale\":[[0.0,\"#0d0887\"],[0.1111111111111111,\"#46039f\"],[0.2222222222222222,\"#7201a8\"],[0.3333333333333333,\"#9c179e\"],[0.4444444444444444,\"#bd3786\"],[0.5555555555555556,\"#d8576b\"],[0.6666666666666666,\"#ed7953\"],[0.7777777777777778,\"#fb9f3a\"],[0.8888888888888888,\"#fdca26\"],[1.0,\"#f0f921\"]],\"type\":\"histogram2dcontour\"}],\"mesh3d\":[{\"colorbar\":{\"outlinewidth\":0,\"ticks\":\"\"},\"type\":\"mesh3d\"}],\"parcoords\":[{\"line\":{\"colorbar\":{\"outlinewidth\":0,\"ticks\":\"\"}},\"type\":\"parcoords\"}],\"pie\":[{\"automargin\":true,\"type\":\"pie\"}],\"scatter\":[{\"marker\":{\"colorbar\":{\"outlinewidth\":0,\"ticks\":\"\"}},\"type\":\"scatter\"}],\"scatter3d\":[{\"line\":{\"colorbar\":{\"outlinewidth\":0,\"ticks\":\"\"}},\"marker\":{\"colorbar\":{\"outlinewidth\":0,\"ticks\":\"\"}},\"type\":\"scatter3d\"}],\"scattercarpet\":[{\"marker\":{\"colorbar\":{\"outlinewidth\":0,\"ticks\":\"\"}},\"type\":\"scattercarpet\"}],\"scattergeo\":[{\"marker\":{\"colorbar\":{\"outlinewidth\":0,\"ticks\":\"\"}},\"type\":\"scattergeo\"}],\"scattergl\":[{\"marker\":{\"colorbar\":{\"outlinewidth\":0,\"ticks\":\"\"}},\"type\":\"scattergl\"}],\"scattermapbox\":[{\"marker\":{\"colorbar\":{\"outlinewidth\":0,\"ticks\":\"\"}},\"type\":\"scattermapbox\"}],\"scatterpolar\":[{\"marker\":{\"colorbar\":{\"outlinewidth\":0,\"ticks\":\"\"}},\"type\":\"scatterpolar\"}],\"scatterpolargl\":[{\"marker\":{\"colorbar\":{\"outlinewidth\":0,\"ticks\":\"\"}},\"type\":\"scatterpolargl\"}],\"scatterternary\":[{\"marker\":{\"colorbar\":{\"outlinewidth\":0,\"ticks\":\"\"}},\"type\":\"scatterternary\"}],\"surface\":[{\"colorbar\":{\"outlinewidth\":0,\"ticks\":\"\"},\"colorscale\":[[0.0,\"#0d0887\"],[0.1111111111111111,\"#46039f\"],[0.2222222222222222,\"#7201a8\"],[0.3333333333333333,\"#9c179e\"],[0.4444444444444444,\"#bd3786\"],[0.5555555555555556,\"#d8576b\"],[0.6666666666666666,\"#ed7953\"],[0.7777777777777778,\"#fb9f3a\"],[0.8888888888888888,\"#fdca26\"],[1.0,\"#f0f921\"]],\"type\":\"surface\"}],\"table\":[{\"cells\":{\"fill\":{\"color\":\"#EBF0F8\"},\"line\":{\"color\":\"white\"}},\"header\":{\"fill\":{\"color\":\"#C8D4E3\"},\"line\":{\"color\":\"white\"}},\"type\":\"table\"}]},\"layout\":{\"annotationdefaults\":{\"arrowcolor\":\"#2a3f5f\",\"arrowhead\":0,\"arrowwidth\":1},\"autotypenumbers\":\"strict\",\"coloraxis\":{\"colorbar\":{\"outlinewidth\":0,\"ticks\":\"\"}},\"colorscale\":{\"diverging\":[[0,\"#8e0152\"],[0.1,\"#c51b7d\"],[0.2,\"#de77ae\"],[0.3,\"#f1b6da\"],[0.4,\"#fde0ef\"],[0.5,\"#f7f7f7\"],[0.6,\"#e6f5d0\"],[0.7,\"#b8e186\"],[0.8,\"#7fbc41\"],[0.9,\"#4d9221\"],[1,\"#276419\"]],\"sequential\":[[0.0,\"#0d0887\"],[0.1111111111111111,\"#46039f\"],[0.2222222222222222,\"#7201a8\"],[0.3333333333333333,\"#9c179e\"],[0.4444444444444444,\"#bd3786\"],[0.5555555555555556,\"#d8576b\"],[0.6666666666666666,\"#ed7953\"],[0.7777777777777778,\"#fb9f3a\"],[0.8888888888888888,\"#fdca26\"],[1.0,\"#f0f921\"]],\"sequentialminus\":[[0.0,\"#0d0887\"],[0.1111111111111111,\"#46039f\"],[0.2222222222222222,\"#7201a8\"],[0.3333333333333333,\"#9c179e\"],[0.4444444444444444,\"#bd3786\"],[0.5555555555555556,\"#d8576b\"],[0.6666666666666666,\"#ed7953\"],[0.7777777777777778,\"#fb9f3a\"],[0.8888888888888888,\"#fdca26\"],[1.0,\"#f0f921\"]]},\"colorway\":[\"#636efa\",\"#EF553B\",\"#00cc96\",\"#ab63fa\",\"#FFA15A\",\"#19d3f3\",\"#FF6692\",\"#B6E880\",\"#FF97FF\",\"#FECB52\"],\"font\":{\"color\":\"#2a3f5f\"},\"geo\":{\"bgcolor\":\"white\",\"lakecolor\":\"white\",\"landcolor\":\"#E5ECF6\",\"showlakes\":true,\"showland\":true,\"subunitcolor\":\"white\"},\"hoverlabel\":{\"align\":\"left\"},\"hovermode\":\"closest\",\"mapbox\":{\"style\":\"light\"},\"paper_bgcolor\":\"white\",\"plot_bgcolor\":\"#E5ECF6\",\"polar\":{\"angularaxis\":{\"gridcolor\":\"white\",\"linecolor\":\"white\",\"ticks\":\"\"},\"bgcolor\":\"#E5ECF6\",\"radialaxis\":{\"gridcolor\":\"white\",\"linecolor\":\"white\",\"ticks\":\"\"}},\"scene\":{\"xaxis\":{\"backgroundcolor\":\"#E5ECF6\",\"gridcolor\":\"white\",\"gridwidth\":2,\"linecolor\":\"white\",\"showbackground\":true,\"ticks\":\"\",\"zerolinecolor\":\"white\"},\"yaxis\":{\"backgroundcolor\":\"#E5ECF6\",\"gridcolor\":\"white\",\"gridwidth\":2,\"linecolor\":\"white\",\"showbackground\":true,\"ticks\":\"\",\"zerolinecolor\":\"white\"},\"zaxis\":{\"backgroundcolor\":\"#E5ECF6\",\"gridcolor\":\"white\",\"gridwidth\":2,\"linecolor\":\"white\",\"showbackground\":true,\"ticks\":\"\",\"zerolinecolor\":\"white\"}},\"shapedefaults\":{\"line\":{\"color\":\"#2a3f5f\"}},\"ternary\":{\"aaxis\":{\"gridcolor\":\"white\",\"linecolor\":\"white\",\"ticks\":\"\"},\"baxis\":{\"gridcolor\":\"white\",\"linecolor\":\"white\",\"ticks\":\"\"},\"bgcolor\":\"#E5ECF6\",\"caxis\":{\"gridcolor\":\"white\",\"linecolor\":\"white\",\"ticks\":\"\"}},\"title\":{\"x\":0.05},\"xaxis\":{\"automargin\":true,\"gridcolor\":\"white\",\"linecolor\":\"white\",\"ticks\":\"\",\"title\":{\"standoff\":15},\"zerolinecolor\":\"white\",\"zerolinewidth\":2},\"yaxis\":{\"automargin\":true,\"gridcolor\":\"white\",\"linecolor\":\"white\",\"ticks\":\"\",\"title\":{\"standoff\":15},\"zerolinecolor\":\"white\",\"zerolinewidth\":2}}},\"title\":{\"text\":\"Spend vs Income Plot\"},\"width\":900,\"xaxis\":{\"anchor\":\"y\",\"domain\":[0.0,1.0],\"title\":{\"text\":\"Income\"}},\"yaxis\":{\"anchor\":\"x\",\"domain\":[0.0,1.0],\"title\":{\"text\":\"Spend_all\"}}},                        {\"responsive\": true}                    ).then(function(){\n",
       "                            \n",
       "var gd = document.getElementById('ea9395c1-6e33-4ccc-a899-4568337aeedd');\n",
       "var x = new MutationObserver(function (mutations, observer) {{\n",
       "        var display = window.getComputedStyle(gd).display;\n",
       "        if (!display || display === 'none') {{\n",
       "            console.log([gd, 'removed!']);\n",
       "            Plotly.purge(gd);\n",
       "            observer.disconnect();\n",
       "        }}\n",
       "}});\n",
       "\n",
       "// Listen for the removal of the full notebook cells\n",
       "var notebookContainer = gd.closest('#notebook-container');\n",
       "if (notebookContainer) {{\n",
       "    x.observe(notebookContainer, {childList: true});\n",
       "}}\n",
       "\n",
       "// Listen for the clearing of the current output cell\n",
       "var outputEl = gd.closest('.output');\n",
       "if (outputEl) {{\n",
       "    x.observe(outputEl, {childList: true});\n",
       "}}\n",
       "\n",
       "                        })                };                });            </script>        </div>"
      ]
     },
     "metadata": {},
     "output_type": "display_data"
    }
   ],
   "source": [
    "fig = px.scatter(df, x=\"Income\", y=\"Spend_all\",\n",
    "                 color=\"Cluster\")\n",
    "\n",
    "fig.update_layout(\n",
    "    title=\"Spend vs Income Plot\",\n",
    "    xaxis_title = \"Income\",\n",
    "    yaxis_title = \"Spend_all\",\n",
    "    width = 900, height=600\n",
    ")\n",
    "\n",
    "fig.show()"
   ]
  },
  {
   "cell_type": "code",
   "execution_count": 90,
   "id": "b681971a",
   "metadata": {},
   "outputs": [
    {
     "data": {
      "application/vnd.plotly.v1+json": {
       "config": {
        "plotlyServerURL": "https://plot.ly"
       },
       "data": [
        {
         "alignmentgroup": "True",
         "hovertemplate": "Cluster=Cluster 1<br>AgeGroup=%{x}<br>Number of Customers=%{y}<extra></extra>",
         "legendgroup": "Cluster 1",
         "marker": {
          "color": "#636efa",
          "pattern": {
           "shape": ""
          }
         },
         "name": "Cluster 1",
         "offsetgroup": "Cluster 1",
         "orientation": "v",
         "showlegend": true,
         "textposition": "auto",
         "type": "bar",
         "x": [
          "[0, 30]",
          "[30, 40]",
          "[40, 50]",
          "[50, 60]",
          "[60, 70]",
          "[70, 80]"
         ],
         "xaxis": "x",
         "y": [
          59,
          157,
          171,
          98,
          64,
          1
         ],
         "yaxis": "y"
        },
        {
         "alignmentgroup": "True",
         "hovertemplate": "Cluster=Cluster 2<br>AgeGroup=%{x}<br>Number of Customers=%{y}<extra></extra>",
         "legendgroup": "Cluster 2",
         "marker": {
          "color": "#EF553B",
          "pattern": {
           "shape": ""
          }
         },
         "name": "Cluster 2",
         "offsetgroup": "Cluster 2",
         "orientation": "v",
         "showlegend": true,
         "textposition": "auto",
         "type": "bar",
         "x": [
          "[0, 30]",
          "[30, 40]",
          "[40, 50]",
          "[50, 60]",
          "[60, 70]",
          "[70, 80]"
         ],
         "xaxis": "x",
         "y": [
          26,
          100,
          150,
          137,
          103,
          9
         ],
         "yaxis": "y"
        },
        {
         "alignmentgroup": "True",
         "hovertemplate": "Cluster=Cluster 3<br>AgeGroup=%{x}<br>Number of Customers=%{y}<extra></extra>",
         "legendgroup": "Cluster 3",
         "marker": {
          "color": "#00cc96",
          "pattern": {
           "shape": ""
          }
         },
         "name": "Cluster 3",
         "offsetgroup": "Cluster 3",
         "orientation": "v",
         "showlegend": true,
         "textposition": "auto",
         "type": "bar",
         "x": [
          "[0, 30]",
          "[30, 40]",
          "[40, 50]",
          "[50, 60]",
          "[60, 70]",
          "[70, 80]"
         ],
         "xaxis": "x",
         "y": [
          53,
          86,
          133,
          125,
          88,
          11
         ],
         "yaxis": "y"
        },
        {
         "alignmentgroup": "True",
         "hovertemplate": "Cluster=Cluster 4<br>AgeGroup=%{x}<br>Number of Customers=%{y}<extra></extra>",
         "legendgroup": "Cluster 4",
         "marker": {
          "color": "#ab63fa",
          "pattern": {
           "shape": ""
          }
         },
         "name": "Cluster 4",
         "offsetgroup": "Cluster 4",
         "orientation": "v",
         "showlegend": true,
         "textposition": "auto",
         "type": "bar",
         "x": [
          "[0, 30]",
          "[30, 40]",
          "[40, 50]",
          "[50, 60]",
          "[60, 70]",
          "[70, 80]"
         ],
         "xaxis": "x",
         "y": [
          49,
          155,
          221,
          125,
          82,
          2
         ],
         "yaxis": "y"
        }
       ],
       "layout": {
        "barmode": "group",
        "height": 400,
        "legend": {
         "title": {
          "text": "Cluster"
         },
         "tracegroupgap": 0
        },
        "margin": {
         "t": 60
        },
        "template": {
         "data": {
          "bar": [
           {
            "error_x": {
             "color": "#2a3f5f"
            },
            "error_y": {
             "color": "#2a3f5f"
            },
            "marker": {
             "line": {
              "color": "#E5ECF6",
              "width": 0.5
             },
             "pattern": {
              "fillmode": "overlay",
              "size": 10,
              "solidity": 0.2
             }
            },
            "type": "bar"
           }
          ],
          "barpolar": [
           {
            "marker": {
             "line": {
              "color": "#E5ECF6",
              "width": 0.5
             },
             "pattern": {
              "fillmode": "overlay",
              "size": 10,
              "solidity": 0.2
             }
            },
            "type": "barpolar"
           }
          ],
          "carpet": [
           {
            "aaxis": {
             "endlinecolor": "#2a3f5f",
             "gridcolor": "white",
             "linecolor": "white",
             "minorgridcolor": "white",
             "startlinecolor": "#2a3f5f"
            },
            "baxis": {
             "endlinecolor": "#2a3f5f",
             "gridcolor": "white",
             "linecolor": "white",
             "minorgridcolor": "white",
             "startlinecolor": "#2a3f5f"
            },
            "type": "carpet"
           }
          ],
          "choropleth": [
           {
            "colorbar": {
             "outlinewidth": 0,
             "ticks": ""
            },
            "type": "choropleth"
           }
          ],
          "contour": [
           {
            "colorbar": {
             "outlinewidth": 0,
             "ticks": ""
            },
            "colorscale": [
             [
              0,
              "#0d0887"
             ],
             [
              0.1111111111111111,
              "#46039f"
             ],
             [
              0.2222222222222222,
              "#7201a8"
             ],
             [
              0.3333333333333333,
              "#9c179e"
             ],
             [
              0.4444444444444444,
              "#bd3786"
             ],
             [
              0.5555555555555556,
              "#d8576b"
             ],
             [
              0.6666666666666666,
              "#ed7953"
             ],
             [
              0.7777777777777778,
              "#fb9f3a"
             ],
             [
              0.8888888888888888,
              "#fdca26"
             ],
             [
              1,
              "#f0f921"
             ]
            ],
            "type": "contour"
           }
          ],
          "contourcarpet": [
           {
            "colorbar": {
             "outlinewidth": 0,
             "ticks": ""
            },
            "type": "contourcarpet"
           }
          ],
          "heatmap": [
           {
            "colorbar": {
             "outlinewidth": 0,
             "ticks": ""
            },
            "colorscale": [
             [
              0,
              "#0d0887"
             ],
             [
              0.1111111111111111,
              "#46039f"
             ],
             [
              0.2222222222222222,
              "#7201a8"
             ],
             [
              0.3333333333333333,
              "#9c179e"
             ],
             [
              0.4444444444444444,
              "#bd3786"
             ],
             [
              0.5555555555555556,
              "#d8576b"
             ],
             [
              0.6666666666666666,
              "#ed7953"
             ],
             [
              0.7777777777777778,
              "#fb9f3a"
             ],
             [
              0.8888888888888888,
              "#fdca26"
             ],
             [
              1,
              "#f0f921"
             ]
            ],
            "type": "heatmap"
           }
          ],
          "heatmapgl": [
           {
            "colorbar": {
             "outlinewidth": 0,
             "ticks": ""
            },
            "colorscale": [
             [
              0,
              "#0d0887"
             ],
             [
              0.1111111111111111,
              "#46039f"
             ],
             [
              0.2222222222222222,
              "#7201a8"
             ],
             [
              0.3333333333333333,
              "#9c179e"
             ],
             [
              0.4444444444444444,
              "#bd3786"
             ],
             [
              0.5555555555555556,
              "#d8576b"
             ],
             [
              0.6666666666666666,
              "#ed7953"
             ],
             [
              0.7777777777777778,
              "#fb9f3a"
             ],
             [
              0.8888888888888888,
              "#fdca26"
             ],
             [
              1,
              "#f0f921"
             ]
            ],
            "type": "heatmapgl"
           }
          ],
          "histogram": [
           {
            "marker": {
             "pattern": {
              "fillmode": "overlay",
              "size": 10,
              "solidity": 0.2
             }
            },
            "type": "histogram"
           }
          ],
          "histogram2d": [
           {
            "colorbar": {
             "outlinewidth": 0,
             "ticks": ""
            },
            "colorscale": [
             [
              0,
              "#0d0887"
             ],
             [
              0.1111111111111111,
              "#46039f"
             ],
             [
              0.2222222222222222,
              "#7201a8"
             ],
             [
              0.3333333333333333,
              "#9c179e"
             ],
             [
              0.4444444444444444,
              "#bd3786"
             ],
             [
              0.5555555555555556,
              "#d8576b"
             ],
             [
              0.6666666666666666,
              "#ed7953"
             ],
             [
              0.7777777777777778,
              "#fb9f3a"
             ],
             [
              0.8888888888888888,
              "#fdca26"
             ],
             [
              1,
              "#f0f921"
             ]
            ],
            "type": "histogram2d"
           }
          ],
          "histogram2dcontour": [
           {
            "colorbar": {
             "outlinewidth": 0,
             "ticks": ""
            },
            "colorscale": [
             [
              0,
              "#0d0887"
             ],
             [
              0.1111111111111111,
              "#46039f"
             ],
             [
              0.2222222222222222,
              "#7201a8"
             ],
             [
              0.3333333333333333,
              "#9c179e"
             ],
             [
              0.4444444444444444,
              "#bd3786"
             ],
             [
              0.5555555555555556,
              "#d8576b"
             ],
             [
              0.6666666666666666,
              "#ed7953"
             ],
             [
              0.7777777777777778,
              "#fb9f3a"
             ],
             [
              0.8888888888888888,
              "#fdca26"
             ],
             [
              1,
              "#f0f921"
             ]
            ],
            "type": "histogram2dcontour"
           }
          ],
          "mesh3d": [
           {
            "colorbar": {
             "outlinewidth": 0,
             "ticks": ""
            },
            "type": "mesh3d"
           }
          ],
          "parcoords": [
           {
            "line": {
             "colorbar": {
              "outlinewidth": 0,
              "ticks": ""
             }
            },
            "type": "parcoords"
           }
          ],
          "pie": [
           {
            "automargin": true,
            "type": "pie"
           }
          ],
          "scatter": [
           {
            "marker": {
             "colorbar": {
              "outlinewidth": 0,
              "ticks": ""
             }
            },
            "type": "scatter"
           }
          ],
          "scatter3d": [
           {
            "line": {
             "colorbar": {
              "outlinewidth": 0,
              "ticks": ""
             }
            },
            "marker": {
             "colorbar": {
              "outlinewidth": 0,
              "ticks": ""
             }
            },
            "type": "scatter3d"
           }
          ],
          "scattercarpet": [
           {
            "marker": {
             "colorbar": {
              "outlinewidth": 0,
              "ticks": ""
             }
            },
            "type": "scattercarpet"
           }
          ],
          "scattergeo": [
           {
            "marker": {
             "colorbar": {
              "outlinewidth": 0,
              "ticks": ""
             }
            },
            "type": "scattergeo"
           }
          ],
          "scattergl": [
           {
            "marker": {
             "colorbar": {
              "outlinewidth": 0,
              "ticks": ""
             }
            },
            "type": "scattergl"
           }
          ],
          "scattermapbox": [
           {
            "marker": {
             "colorbar": {
              "outlinewidth": 0,
              "ticks": ""
             }
            },
            "type": "scattermapbox"
           }
          ],
          "scatterpolar": [
           {
            "marker": {
             "colorbar": {
              "outlinewidth": 0,
              "ticks": ""
             }
            },
            "type": "scatterpolar"
           }
          ],
          "scatterpolargl": [
           {
            "marker": {
             "colorbar": {
              "outlinewidth": 0,
              "ticks": ""
             }
            },
            "type": "scatterpolargl"
           }
          ],
          "scatterternary": [
           {
            "marker": {
             "colorbar": {
              "outlinewidth": 0,
              "ticks": ""
             }
            },
            "type": "scatterternary"
           }
          ],
          "surface": [
           {
            "colorbar": {
             "outlinewidth": 0,
             "ticks": ""
            },
            "colorscale": [
             [
              0,
              "#0d0887"
             ],
             [
              0.1111111111111111,
              "#46039f"
             ],
             [
              0.2222222222222222,
              "#7201a8"
             ],
             [
              0.3333333333333333,
              "#9c179e"
             ],
             [
              0.4444444444444444,
              "#bd3786"
             ],
             [
              0.5555555555555556,
              "#d8576b"
             ],
             [
              0.6666666666666666,
              "#ed7953"
             ],
             [
              0.7777777777777778,
              "#fb9f3a"
             ],
             [
              0.8888888888888888,
              "#fdca26"
             ],
             [
              1,
              "#f0f921"
             ]
            ],
            "type": "surface"
           }
          ],
          "table": [
           {
            "cells": {
             "fill": {
              "color": "#EBF0F8"
             },
             "line": {
              "color": "white"
             }
            },
            "header": {
             "fill": {
              "color": "#C8D4E3"
             },
             "line": {
              "color": "white"
             }
            },
            "type": "table"
           }
          ]
         },
         "layout": {
          "annotationdefaults": {
           "arrowcolor": "#2a3f5f",
           "arrowhead": 0,
           "arrowwidth": 1
          },
          "autotypenumbers": "strict",
          "coloraxis": {
           "colorbar": {
            "outlinewidth": 0,
            "ticks": ""
           }
          },
          "colorscale": {
           "diverging": [
            [
             0,
             "#8e0152"
            ],
            [
             0.1,
             "#c51b7d"
            ],
            [
             0.2,
             "#de77ae"
            ],
            [
             0.3,
             "#f1b6da"
            ],
            [
             0.4,
             "#fde0ef"
            ],
            [
             0.5,
             "#f7f7f7"
            ],
            [
             0.6,
             "#e6f5d0"
            ],
            [
             0.7,
             "#b8e186"
            ],
            [
             0.8,
             "#7fbc41"
            ],
            [
             0.9,
             "#4d9221"
            ],
            [
             1,
             "#276419"
            ]
           ],
           "sequential": [
            [
             0,
             "#0d0887"
            ],
            [
             0.1111111111111111,
             "#46039f"
            ],
            [
             0.2222222222222222,
             "#7201a8"
            ],
            [
             0.3333333333333333,
             "#9c179e"
            ],
            [
             0.4444444444444444,
             "#bd3786"
            ],
            [
             0.5555555555555556,
             "#d8576b"
            ],
            [
             0.6666666666666666,
             "#ed7953"
            ],
            [
             0.7777777777777778,
             "#fb9f3a"
            ],
            [
             0.8888888888888888,
             "#fdca26"
            ],
            [
             1,
             "#f0f921"
            ]
           ],
           "sequentialminus": [
            [
             0,
             "#0d0887"
            ],
            [
             0.1111111111111111,
             "#46039f"
            ],
            [
             0.2222222222222222,
             "#7201a8"
            ],
            [
             0.3333333333333333,
             "#9c179e"
            ],
            [
             0.4444444444444444,
             "#bd3786"
            ],
            [
             0.5555555555555556,
             "#d8576b"
            ],
            [
             0.6666666666666666,
             "#ed7953"
            ],
            [
             0.7777777777777778,
             "#fb9f3a"
            ],
            [
             0.8888888888888888,
             "#fdca26"
            ],
            [
             1,
             "#f0f921"
            ]
           ]
          },
          "colorway": [
           "#636efa",
           "#EF553B",
           "#00cc96",
           "#ab63fa",
           "#FFA15A",
           "#19d3f3",
           "#FF6692",
           "#B6E880",
           "#FF97FF",
           "#FECB52"
          ],
          "font": {
           "color": "#2a3f5f"
          },
          "geo": {
           "bgcolor": "white",
           "lakecolor": "white",
           "landcolor": "#E5ECF6",
           "showlakes": true,
           "showland": true,
           "subunitcolor": "white"
          },
          "hoverlabel": {
           "align": "left"
          },
          "hovermode": "closest",
          "mapbox": {
           "style": "light"
          },
          "paper_bgcolor": "white",
          "plot_bgcolor": "#E5ECF6",
          "polar": {
           "angularaxis": {
            "gridcolor": "white",
            "linecolor": "white",
            "ticks": ""
           },
           "bgcolor": "#E5ECF6",
           "radialaxis": {
            "gridcolor": "white",
            "linecolor": "white",
            "ticks": ""
           }
          },
          "scene": {
           "xaxis": {
            "backgroundcolor": "#E5ECF6",
            "gridcolor": "white",
            "gridwidth": 2,
            "linecolor": "white",
            "showbackground": true,
            "ticks": "",
            "zerolinecolor": "white"
           },
           "yaxis": {
            "backgroundcolor": "#E5ECF6",
            "gridcolor": "white",
            "gridwidth": 2,
            "linecolor": "white",
            "showbackground": true,
            "ticks": "",
            "zerolinecolor": "white"
           },
           "zaxis": {
            "backgroundcolor": "#E5ECF6",
            "gridcolor": "white",
            "gridwidth": 2,
            "linecolor": "white",
            "showbackground": true,
            "ticks": "",
            "zerolinecolor": "white"
           }
          },
          "shapedefaults": {
           "line": {
            "color": "#2a3f5f"
           }
          },
          "ternary": {
           "aaxis": {
            "gridcolor": "white",
            "linecolor": "white",
            "ticks": ""
           },
           "baxis": {
            "gridcolor": "white",
            "linecolor": "white",
            "ticks": ""
           },
           "bgcolor": "#E5ECF6",
           "caxis": {
            "gridcolor": "white",
            "linecolor": "white",
            "ticks": ""
           }
          },
          "title": {
           "x": 0.05
          },
          "xaxis": {
           "automargin": true,
           "gridcolor": "white",
           "linecolor": "white",
           "ticks": "",
           "title": {
            "standoff": 15
           },
           "zerolinecolor": "white",
           "zerolinewidth": 2
          },
          "yaxis": {
           "automargin": true,
           "gridcolor": "white",
           "linecolor": "white",
           "ticks": "",
           "title": {
            "standoff": 15
           },
           "zerolinecolor": "white",
           "zerolinewidth": 2
          }
         }
        },
        "xaxis": {
         "anchor": "y",
         "domain": [
          0,
          1
         ],
         "title": {
          "text": "AgeGroup"
         }
        },
        "yaxis": {
         "anchor": "x",
         "domain": [
          0,
          1
         ],
         "title": {
          "text": "Number of Customers"
         }
        }
       }
      },
      "text/html": [
       "<div>                            <div id=\"dab144c9-3831-4291-a9a3-dd194a95f762\" class=\"plotly-graph-div\" style=\"height:400px; width:100%;\"></div>            <script type=\"text/javascript\">                require([\"plotly\"], function(Plotly) {                    window.PLOTLYENV=window.PLOTLYENV || {};                                    if (document.getElementById(\"dab144c9-3831-4291-a9a3-dd194a95f762\")) {                    Plotly.newPlot(                        \"dab144c9-3831-4291-a9a3-dd194a95f762\",                        [{\"alignmentgroup\":\"True\",\"hovertemplate\":\"Cluster=Cluster 1<br>AgeGroup=%{x}<br>Number of Customers=%{y}<extra></extra>\",\"legendgroup\":\"Cluster 1\",\"marker\":{\"color\":\"#636efa\",\"pattern\":{\"shape\":\"\"}},\"name\":\"Cluster 1\",\"offsetgroup\":\"Cluster 1\",\"orientation\":\"v\",\"showlegend\":true,\"textposition\":\"auto\",\"type\":\"bar\",\"x\":[\"[0, 30]\",\"[30, 40]\",\"[40, 50]\",\"[50, 60]\",\"[60, 70]\",\"[70, 80]\"],\"xaxis\":\"x\",\"y\":[59,157,171,98,64,1],\"yaxis\":\"y\"},{\"alignmentgroup\":\"True\",\"hovertemplate\":\"Cluster=Cluster 2<br>AgeGroup=%{x}<br>Number of Customers=%{y}<extra></extra>\",\"legendgroup\":\"Cluster 2\",\"marker\":{\"color\":\"#EF553B\",\"pattern\":{\"shape\":\"\"}},\"name\":\"Cluster 2\",\"offsetgroup\":\"Cluster 2\",\"orientation\":\"v\",\"showlegend\":true,\"textposition\":\"auto\",\"type\":\"bar\",\"x\":[\"[0, 30]\",\"[30, 40]\",\"[40, 50]\",\"[50, 60]\",\"[60, 70]\",\"[70, 80]\"],\"xaxis\":\"x\",\"y\":[26,100,150,137,103,9],\"yaxis\":\"y\"},{\"alignmentgroup\":\"True\",\"hovertemplate\":\"Cluster=Cluster 3<br>AgeGroup=%{x}<br>Number of Customers=%{y}<extra></extra>\",\"legendgroup\":\"Cluster 3\",\"marker\":{\"color\":\"#00cc96\",\"pattern\":{\"shape\":\"\"}},\"name\":\"Cluster 3\",\"offsetgroup\":\"Cluster 3\",\"orientation\":\"v\",\"showlegend\":true,\"textposition\":\"auto\",\"type\":\"bar\",\"x\":[\"[0, 30]\",\"[30, 40]\",\"[40, 50]\",\"[50, 60]\",\"[60, 70]\",\"[70, 80]\"],\"xaxis\":\"x\",\"y\":[53,86,133,125,88,11],\"yaxis\":\"y\"},{\"alignmentgroup\":\"True\",\"hovertemplate\":\"Cluster=Cluster 4<br>AgeGroup=%{x}<br>Number of Customers=%{y}<extra></extra>\",\"legendgroup\":\"Cluster 4\",\"marker\":{\"color\":\"#ab63fa\",\"pattern\":{\"shape\":\"\"}},\"name\":\"Cluster 4\",\"offsetgroup\":\"Cluster 4\",\"orientation\":\"v\",\"showlegend\":true,\"textposition\":\"auto\",\"type\":\"bar\",\"x\":[\"[0, 30]\",\"[30, 40]\",\"[40, 50]\",\"[50, 60]\",\"[60, 70]\",\"[70, 80]\"],\"xaxis\":\"x\",\"y\":[49,155,221,125,82,2],\"yaxis\":\"y\"}],                        {\"barmode\":\"group\",\"height\":400,\"legend\":{\"title\":{\"text\":\"Cluster\"},\"tracegroupgap\":0},\"margin\":{\"t\":60},\"template\":{\"data\":{\"bar\":[{\"error_x\":{\"color\":\"#2a3f5f\"},\"error_y\":{\"color\":\"#2a3f5f\"},\"marker\":{\"line\":{\"color\":\"#E5ECF6\",\"width\":0.5},\"pattern\":{\"fillmode\":\"overlay\",\"size\":10,\"solidity\":0.2}},\"type\":\"bar\"}],\"barpolar\":[{\"marker\":{\"line\":{\"color\":\"#E5ECF6\",\"width\":0.5},\"pattern\":{\"fillmode\":\"overlay\",\"size\":10,\"solidity\":0.2}},\"type\":\"barpolar\"}],\"carpet\":[{\"aaxis\":{\"endlinecolor\":\"#2a3f5f\",\"gridcolor\":\"white\",\"linecolor\":\"white\",\"minorgridcolor\":\"white\",\"startlinecolor\":\"#2a3f5f\"},\"baxis\":{\"endlinecolor\":\"#2a3f5f\",\"gridcolor\":\"white\",\"linecolor\":\"white\",\"minorgridcolor\":\"white\",\"startlinecolor\":\"#2a3f5f\"},\"type\":\"carpet\"}],\"choropleth\":[{\"colorbar\":{\"outlinewidth\":0,\"ticks\":\"\"},\"type\":\"choropleth\"}],\"contour\":[{\"colorbar\":{\"outlinewidth\":0,\"ticks\":\"\"},\"colorscale\":[[0.0,\"#0d0887\"],[0.1111111111111111,\"#46039f\"],[0.2222222222222222,\"#7201a8\"],[0.3333333333333333,\"#9c179e\"],[0.4444444444444444,\"#bd3786\"],[0.5555555555555556,\"#d8576b\"],[0.6666666666666666,\"#ed7953\"],[0.7777777777777778,\"#fb9f3a\"],[0.8888888888888888,\"#fdca26\"],[1.0,\"#f0f921\"]],\"type\":\"contour\"}],\"contourcarpet\":[{\"colorbar\":{\"outlinewidth\":0,\"ticks\":\"\"},\"type\":\"contourcarpet\"}],\"heatmap\":[{\"colorbar\":{\"outlinewidth\":0,\"ticks\":\"\"},\"colorscale\":[[0.0,\"#0d0887\"],[0.1111111111111111,\"#46039f\"],[0.2222222222222222,\"#7201a8\"],[0.3333333333333333,\"#9c179e\"],[0.4444444444444444,\"#bd3786\"],[0.5555555555555556,\"#d8576b\"],[0.6666666666666666,\"#ed7953\"],[0.7777777777777778,\"#fb9f3a\"],[0.8888888888888888,\"#fdca26\"],[1.0,\"#f0f921\"]],\"type\":\"heatmap\"}],\"heatmapgl\":[{\"colorbar\":{\"outlinewidth\":0,\"ticks\":\"\"},\"colorscale\":[[0.0,\"#0d0887\"],[0.1111111111111111,\"#46039f\"],[0.2222222222222222,\"#7201a8\"],[0.3333333333333333,\"#9c179e\"],[0.4444444444444444,\"#bd3786\"],[0.5555555555555556,\"#d8576b\"],[0.6666666666666666,\"#ed7953\"],[0.7777777777777778,\"#fb9f3a\"],[0.8888888888888888,\"#fdca26\"],[1.0,\"#f0f921\"]],\"type\":\"heatmapgl\"}],\"histogram\":[{\"marker\":{\"pattern\":{\"fillmode\":\"overlay\",\"size\":10,\"solidity\":0.2}},\"type\":\"histogram\"}],\"histogram2d\":[{\"colorbar\":{\"outlinewidth\":0,\"ticks\":\"\"},\"colorscale\":[[0.0,\"#0d0887\"],[0.1111111111111111,\"#46039f\"],[0.2222222222222222,\"#7201a8\"],[0.3333333333333333,\"#9c179e\"],[0.4444444444444444,\"#bd3786\"],[0.5555555555555556,\"#d8576b\"],[0.6666666666666666,\"#ed7953\"],[0.7777777777777778,\"#fb9f3a\"],[0.8888888888888888,\"#fdca26\"],[1.0,\"#f0f921\"]],\"type\":\"histogram2d\"}],\"histogram2dcontour\":[{\"colorbar\":{\"outlinewidth\":0,\"ticks\":\"\"},\"colorscale\":[[0.0,\"#0d0887\"],[0.1111111111111111,\"#46039f\"],[0.2222222222222222,\"#7201a8\"],[0.3333333333333333,\"#9c179e\"],[0.4444444444444444,\"#bd3786\"],[0.5555555555555556,\"#d8576b\"],[0.6666666666666666,\"#ed7953\"],[0.7777777777777778,\"#fb9f3a\"],[0.8888888888888888,\"#fdca26\"],[1.0,\"#f0f921\"]],\"type\":\"histogram2dcontour\"}],\"mesh3d\":[{\"colorbar\":{\"outlinewidth\":0,\"ticks\":\"\"},\"type\":\"mesh3d\"}],\"parcoords\":[{\"line\":{\"colorbar\":{\"outlinewidth\":0,\"ticks\":\"\"}},\"type\":\"parcoords\"}],\"pie\":[{\"automargin\":true,\"type\":\"pie\"}],\"scatter\":[{\"marker\":{\"colorbar\":{\"outlinewidth\":0,\"ticks\":\"\"}},\"type\":\"scatter\"}],\"scatter3d\":[{\"line\":{\"colorbar\":{\"outlinewidth\":0,\"ticks\":\"\"}},\"marker\":{\"colorbar\":{\"outlinewidth\":0,\"ticks\":\"\"}},\"type\":\"scatter3d\"}],\"scattercarpet\":[{\"marker\":{\"colorbar\":{\"outlinewidth\":0,\"ticks\":\"\"}},\"type\":\"scattercarpet\"}],\"scattergeo\":[{\"marker\":{\"colorbar\":{\"outlinewidth\":0,\"ticks\":\"\"}},\"type\":\"scattergeo\"}],\"scattergl\":[{\"marker\":{\"colorbar\":{\"outlinewidth\":0,\"ticks\":\"\"}},\"type\":\"scattergl\"}],\"scattermapbox\":[{\"marker\":{\"colorbar\":{\"outlinewidth\":0,\"ticks\":\"\"}},\"type\":\"scattermapbox\"}],\"scatterpolar\":[{\"marker\":{\"colorbar\":{\"outlinewidth\":0,\"ticks\":\"\"}},\"type\":\"scatterpolar\"}],\"scatterpolargl\":[{\"marker\":{\"colorbar\":{\"outlinewidth\":0,\"ticks\":\"\"}},\"type\":\"scatterpolargl\"}],\"scatterternary\":[{\"marker\":{\"colorbar\":{\"outlinewidth\":0,\"ticks\":\"\"}},\"type\":\"scatterternary\"}],\"surface\":[{\"colorbar\":{\"outlinewidth\":0,\"ticks\":\"\"},\"colorscale\":[[0.0,\"#0d0887\"],[0.1111111111111111,\"#46039f\"],[0.2222222222222222,\"#7201a8\"],[0.3333333333333333,\"#9c179e\"],[0.4444444444444444,\"#bd3786\"],[0.5555555555555556,\"#d8576b\"],[0.6666666666666666,\"#ed7953\"],[0.7777777777777778,\"#fb9f3a\"],[0.8888888888888888,\"#fdca26\"],[1.0,\"#f0f921\"]],\"type\":\"surface\"}],\"table\":[{\"cells\":{\"fill\":{\"color\":\"#EBF0F8\"},\"line\":{\"color\":\"white\"}},\"header\":{\"fill\":{\"color\":\"#C8D4E3\"},\"line\":{\"color\":\"white\"}},\"type\":\"table\"}]},\"layout\":{\"annotationdefaults\":{\"arrowcolor\":\"#2a3f5f\",\"arrowhead\":0,\"arrowwidth\":1},\"autotypenumbers\":\"strict\",\"coloraxis\":{\"colorbar\":{\"outlinewidth\":0,\"ticks\":\"\"}},\"colorscale\":{\"diverging\":[[0,\"#8e0152\"],[0.1,\"#c51b7d\"],[0.2,\"#de77ae\"],[0.3,\"#f1b6da\"],[0.4,\"#fde0ef\"],[0.5,\"#f7f7f7\"],[0.6,\"#e6f5d0\"],[0.7,\"#b8e186\"],[0.8,\"#7fbc41\"],[0.9,\"#4d9221\"],[1,\"#276419\"]],\"sequential\":[[0.0,\"#0d0887\"],[0.1111111111111111,\"#46039f\"],[0.2222222222222222,\"#7201a8\"],[0.3333333333333333,\"#9c179e\"],[0.4444444444444444,\"#bd3786\"],[0.5555555555555556,\"#d8576b\"],[0.6666666666666666,\"#ed7953\"],[0.7777777777777778,\"#fb9f3a\"],[0.8888888888888888,\"#fdca26\"],[1.0,\"#f0f921\"]],\"sequentialminus\":[[0.0,\"#0d0887\"],[0.1111111111111111,\"#46039f\"],[0.2222222222222222,\"#7201a8\"],[0.3333333333333333,\"#9c179e\"],[0.4444444444444444,\"#bd3786\"],[0.5555555555555556,\"#d8576b\"],[0.6666666666666666,\"#ed7953\"],[0.7777777777777778,\"#fb9f3a\"],[0.8888888888888888,\"#fdca26\"],[1.0,\"#f0f921\"]]},\"colorway\":[\"#636efa\",\"#EF553B\",\"#00cc96\",\"#ab63fa\",\"#FFA15A\",\"#19d3f3\",\"#FF6692\",\"#B6E880\",\"#FF97FF\",\"#FECB52\"],\"font\":{\"color\":\"#2a3f5f\"},\"geo\":{\"bgcolor\":\"white\",\"lakecolor\":\"white\",\"landcolor\":\"#E5ECF6\",\"showlakes\":true,\"showland\":true,\"subunitcolor\":\"white\"},\"hoverlabel\":{\"align\":\"left\"},\"hovermode\":\"closest\",\"mapbox\":{\"style\":\"light\"},\"paper_bgcolor\":\"white\",\"plot_bgcolor\":\"#E5ECF6\",\"polar\":{\"angularaxis\":{\"gridcolor\":\"white\",\"linecolor\":\"white\",\"ticks\":\"\"},\"bgcolor\":\"#E5ECF6\",\"radialaxis\":{\"gridcolor\":\"white\",\"linecolor\":\"white\",\"ticks\":\"\"}},\"scene\":{\"xaxis\":{\"backgroundcolor\":\"#E5ECF6\",\"gridcolor\":\"white\",\"gridwidth\":2,\"linecolor\":\"white\",\"showbackground\":true,\"ticks\":\"\",\"zerolinecolor\":\"white\"},\"yaxis\":{\"backgroundcolor\":\"#E5ECF6\",\"gridcolor\":\"white\",\"gridwidth\":2,\"linecolor\":\"white\",\"showbackground\":true,\"ticks\":\"\",\"zerolinecolor\":\"white\"},\"zaxis\":{\"backgroundcolor\":\"#E5ECF6\",\"gridcolor\":\"white\",\"gridwidth\":2,\"linecolor\":\"white\",\"showbackground\":true,\"ticks\":\"\",\"zerolinecolor\":\"white\"}},\"shapedefaults\":{\"line\":{\"color\":\"#2a3f5f\"}},\"ternary\":{\"aaxis\":{\"gridcolor\":\"white\",\"linecolor\":\"white\",\"ticks\":\"\"},\"baxis\":{\"gridcolor\":\"white\",\"linecolor\":\"white\",\"ticks\":\"\"},\"bgcolor\":\"#E5ECF6\",\"caxis\":{\"gridcolor\":\"white\",\"linecolor\":\"white\",\"ticks\":\"\"}},\"title\":{\"x\":0.05},\"xaxis\":{\"automargin\":true,\"gridcolor\":\"white\",\"linecolor\":\"white\",\"ticks\":\"\",\"title\":{\"standoff\":15},\"zerolinecolor\":\"white\",\"zerolinewidth\":2},\"yaxis\":{\"automargin\":true,\"gridcolor\":\"white\",\"linecolor\":\"white\",\"ticks\":\"\",\"title\":{\"standoff\":15},\"zerolinecolor\":\"white\",\"zerolinewidth\":2}}},\"xaxis\":{\"anchor\":\"y\",\"domain\":[0.0,1.0],\"title\":{\"text\":\"AgeGroup\"}},\"yaxis\":{\"anchor\":\"x\",\"domain\":[0.0,1.0],\"title\":{\"text\":\"Number of Customers\"}}},                        {\"responsive\": true}                    ).then(function(){\n",
       "                            \n",
       "var gd = document.getElementById('dab144c9-3831-4291-a9a3-dd194a95f762');\n",
       "var x = new MutationObserver(function (mutations, observer) {{\n",
       "        var display = window.getComputedStyle(gd).display;\n",
       "        if (!display || display === 'none') {{\n",
       "            console.log([gd, 'removed!']);\n",
       "            Plotly.purge(gd);\n",
       "            observer.disconnect();\n",
       "        }}\n",
       "}});\n",
       "\n",
       "// Listen for the removal of the full notebook cells\n",
       "var notebookContainer = gd.closest('#notebook-container');\n",
       "if (notebookContainer) {{\n",
       "    x.observe(notebookContainer, {childList: true});\n",
       "}}\n",
       "\n",
       "// Listen for the clearing of the current output cell\n",
       "var outputEl = gd.closest('.output');\n",
       "if (outputEl) {{\n",
       "    x.observe(outputEl, {childList: true});\n",
       "}}\n",
       "\n",
       "                        })                };                });            </script>        </div>"
      ]
     },
     "metadata": {},
     "output_type": "display_data"
    }
   ],
   "source": [
    "df_plot = df[['AgeGroup', 'Cluster', 'ID']].groupby(['AgeGroup', 'Cluster']).count()\n",
    "df_plot.reset_index(inplace=True)\n",
    "df_plot.rename(columns={\"ID\":\"Number of Customers\"}, inplace=True)\n",
    "\n",
    "\n",
    "fig = px.bar(df_plot, x=\"AgeGroup\", y=\"Number of Customers\",\n",
    "             color='Cluster', barmode='group',\n",
    "             height=400)\n",
    "fig.show()"
   ]
  },
  {
   "cell_type": "code",
   "execution_count": 94,
   "id": "1482932e",
   "metadata": {},
   "outputs": [
    {
     "data": {
      "application/vnd.plotly.v1+json": {
       "config": {
        "plotlyServerURL": "https://plot.ly"
       },
       "data": [
        {
         "alignmentgroup": "True",
         "hovertemplate": "Cluster=Cluster 1<br>Education=%{x}<br>Count of Customers=%{y}<extra></extra>",
         "legendgroup": "Cluster 1",
         "marker": {
          "color": "#636efa",
          "pattern": {
           "shape": ""
          }
         },
         "name": "Cluster 1",
         "offsetgroup": "Cluster 1",
         "orientation": "v",
         "showlegend": true,
         "textposition": "auto",
         "type": "bar",
         "x": [
          "2n Cycle",
          "Basic",
          "Graduation",
          "Master",
          "PhD"
         ],
         "xaxis": "x",
         "y": [
          64,
          34,
          292,
          82,
          78
         ],
         "yaxis": "y"
        },
        {
         "alignmentgroup": "True",
         "hovertemplate": "Cluster=Cluster 2<br>Education=%{x}<br>Count of Customers=%{y}<extra></extra>",
         "legendgroup": "Cluster 2",
         "marker": {
          "color": "#EF553B",
          "pattern": {
           "shape": ""
          }
         },
         "name": "Cluster 2",
         "offsetgroup": "Cluster 2",
         "orientation": "v",
         "showlegend": true,
         "textposition": "auto",
         "type": "bar",
         "x": [
          "2n Cycle",
          "Basic",
          "Graduation",
          "Master",
          "PhD"
         ],
         "xaxis": "x",
         "y": [
          52,
          1,
          274,
          78,
          120
         ],
         "yaxis": "y"
        },
        {
         "alignmentgroup": "True",
         "hovertemplate": "Cluster=Cluster 3<br>Education=%{x}<br>Count of Customers=%{y}<extra></extra>",
         "legendgroup": "Cluster 3",
         "marker": {
          "color": "#00cc96",
          "pattern": {
           "shape": ""
          }
         },
         "name": "Cluster 3",
         "offsetgroup": "Cluster 3",
         "orientation": "v",
         "showlegend": true,
         "textposition": "auto",
         "type": "bar",
         "x": [
          "2n Cycle",
          "Graduation",
          "Master",
          "PhD"
         ],
         "xaxis": "x",
         "y": [
          27,
          258,
          85,
          126
         ],
         "yaxis": "y"
        },
        {
         "alignmentgroup": "True",
         "hovertemplate": "Cluster=Cluster 4<br>Education=%{x}<br>Count of Customers=%{y}<extra></extra>",
         "legendgroup": "Cluster 4",
         "marker": {
          "color": "#ab63fa",
          "pattern": {
           "shape": ""
          }
         },
         "name": "Cluster 4",
         "offsetgroup": "Cluster 4",
         "orientation": "v",
         "showlegend": true,
         "textposition": "auto",
         "type": "bar",
         "x": [
          "2n Cycle",
          "Basic",
          "Graduation",
          "Master",
          "PhD"
         ],
         "xaxis": "x",
         "y": [
          55,
          19,
          289,
          119,
          152
         ],
         "yaxis": "y"
        }
       ],
       "layout": {
        "barmode": "group",
        "height": 400,
        "legend": {
         "title": {
          "text": "Cluster"
         },
         "tracegroupgap": 0
        },
        "margin": {
         "t": 60
        },
        "template": {
         "data": {
          "bar": [
           {
            "error_x": {
             "color": "#2a3f5f"
            },
            "error_y": {
             "color": "#2a3f5f"
            },
            "marker": {
             "line": {
              "color": "#E5ECF6",
              "width": 0.5
             },
             "pattern": {
              "fillmode": "overlay",
              "size": 10,
              "solidity": 0.2
             }
            },
            "type": "bar"
           }
          ],
          "barpolar": [
           {
            "marker": {
             "line": {
              "color": "#E5ECF6",
              "width": 0.5
             },
             "pattern": {
              "fillmode": "overlay",
              "size": 10,
              "solidity": 0.2
             }
            },
            "type": "barpolar"
           }
          ],
          "carpet": [
           {
            "aaxis": {
             "endlinecolor": "#2a3f5f",
             "gridcolor": "white",
             "linecolor": "white",
             "minorgridcolor": "white",
             "startlinecolor": "#2a3f5f"
            },
            "baxis": {
             "endlinecolor": "#2a3f5f",
             "gridcolor": "white",
             "linecolor": "white",
             "minorgridcolor": "white",
             "startlinecolor": "#2a3f5f"
            },
            "type": "carpet"
           }
          ],
          "choropleth": [
           {
            "colorbar": {
             "outlinewidth": 0,
             "ticks": ""
            },
            "type": "choropleth"
           }
          ],
          "contour": [
           {
            "colorbar": {
             "outlinewidth": 0,
             "ticks": ""
            },
            "colorscale": [
             [
              0,
              "#0d0887"
             ],
             [
              0.1111111111111111,
              "#46039f"
             ],
             [
              0.2222222222222222,
              "#7201a8"
             ],
             [
              0.3333333333333333,
              "#9c179e"
             ],
             [
              0.4444444444444444,
              "#bd3786"
             ],
             [
              0.5555555555555556,
              "#d8576b"
             ],
             [
              0.6666666666666666,
              "#ed7953"
             ],
             [
              0.7777777777777778,
              "#fb9f3a"
             ],
             [
              0.8888888888888888,
              "#fdca26"
             ],
             [
              1,
              "#f0f921"
             ]
            ],
            "type": "contour"
           }
          ],
          "contourcarpet": [
           {
            "colorbar": {
             "outlinewidth": 0,
             "ticks": ""
            },
            "type": "contourcarpet"
           }
          ],
          "heatmap": [
           {
            "colorbar": {
             "outlinewidth": 0,
             "ticks": ""
            },
            "colorscale": [
             [
              0,
              "#0d0887"
             ],
             [
              0.1111111111111111,
              "#46039f"
             ],
             [
              0.2222222222222222,
              "#7201a8"
             ],
             [
              0.3333333333333333,
              "#9c179e"
             ],
             [
              0.4444444444444444,
              "#bd3786"
             ],
             [
              0.5555555555555556,
              "#d8576b"
             ],
             [
              0.6666666666666666,
              "#ed7953"
             ],
             [
              0.7777777777777778,
              "#fb9f3a"
             ],
             [
              0.8888888888888888,
              "#fdca26"
             ],
             [
              1,
              "#f0f921"
             ]
            ],
            "type": "heatmap"
           }
          ],
          "heatmapgl": [
           {
            "colorbar": {
             "outlinewidth": 0,
             "ticks": ""
            },
            "colorscale": [
             [
              0,
              "#0d0887"
             ],
             [
              0.1111111111111111,
              "#46039f"
             ],
             [
              0.2222222222222222,
              "#7201a8"
             ],
             [
              0.3333333333333333,
              "#9c179e"
             ],
             [
              0.4444444444444444,
              "#bd3786"
             ],
             [
              0.5555555555555556,
              "#d8576b"
             ],
             [
              0.6666666666666666,
              "#ed7953"
             ],
             [
              0.7777777777777778,
              "#fb9f3a"
             ],
             [
              0.8888888888888888,
              "#fdca26"
             ],
             [
              1,
              "#f0f921"
             ]
            ],
            "type": "heatmapgl"
           }
          ],
          "histogram": [
           {
            "marker": {
             "pattern": {
              "fillmode": "overlay",
              "size": 10,
              "solidity": 0.2
             }
            },
            "type": "histogram"
           }
          ],
          "histogram2d": [
           {
            "colorbar": {
             "outlinewidth": 0,
             "ticks": ""
            },
            "colorscale": [
             [
              0,
              "#0d0887"
             ],
             [
              0.1111111111111111,
              "#46039f"
             ],
             [
              0.2222222222222222,
              "#7201a8"
             ],
             [
              0.3333333333333333,
              "#9c179e"
             ],
             [
              0.4444444444444444,
              "#bd3786"
             ],
             [
              0.5555555555555556,
              "#d8576b"
             ],
             [
              0.6666666666666666,
              "#ed7953"
             ],
             [
              0.7777777777777778,
              "#fb9f3a"
             ],
             [
              0.8888888888888888,
              "#fdca26"
             ],
             [
              1,
              "#f0f921"
             ]
            ],
            "type": "histogram2d"
           }
          ],
          "histogram2dcontour": [
           {
            "colorbar": {
             "outlinewidth": 0,
             "ticks": ""
            },
            "colorscale": [
             [
              0,
              "#0d0887"
             ],
             [
              0.1111111111111111,
              "#46039f"
             ],
             [
              0.2222222222222222,
              "#7201a8"
             ],
             [
              0.3333333333333333,
              "#9c179e"
             ],
             [
              0.4444444444444444,
              "#bd3786"
             ],
             [
              0.5555555555555556,
              "#d8576b"
             ],
             [
              0.6666666666666666,
              "#ed7953"
             ],
             [
              0.7777777777777778,
              "#fb9f3a"
             ],
             [
              0.8888888888888888,
              "#fdca26"
             ],
             [
              1,
              "#f0f921"
             ]
            ],
            "type": "histogram2dcontour"
           }
          ],
          "mesh3d": [
           {
            "colorbar": {
             "outlinewidth": 0,
             "ticks": ""
            },
            "type": "mesh3d"
           }
          ],
          "parcoords": [
           {
            "line": {
             "colorbar": {
              "outlinewidth": 0,
              "ticks": ""
             }
            },
            "type": "parcoords"
           }
          ],
          "pie": [
           {
            "automargin": true,
            "type": "pie"
           }
          ],
          "scatter": [
           {
            "marker": {
             "colorbar": {
              "outlinewidth": 0,
              "ticks": ""
             }
            },
            "type": "scatter"
           }
          ],
          "scatter3d": [
           {
            "line": {
             "colorbar": {
              "outlinewidth": 0,
              "ticks": ""
             }
            },
            "marker": {
             "colorbar": {
              "outlinewidth": 0,
              "ticks": ""
             }
            },
            "type": "scatter3d"
           }
          ],
          "scattercarpet": [
           {
            "marker": {
             "colorbar": {
              "outlinewidth": 0,
              "ticks": ""
             }
            },
            "type": "scattercarpet"
           }
          ],
          "scattergeo": [
           {
            "marker": {
             "colorbar": {
              "outlinewidth": 0,
              "ticks": ""
             }
            },
            "type": "scattergeo"
           }
          ],
          "scattergl": [
           {
            "marker": {
             "colorbar": {
              "outlinewidth": 0,
              "ticks": ""
             }
            },
            "type": "scattergl"
           }
          ],
          "scattermapbox": [
           {
            "marker": {
             "colorbar": {
              "outlinewidth": 0,
              "ticks": ""
             }
            },
            "type": "scattermapbox"
           }
          ],
          "scatterpolar": [
           {
            "marker": {
             "colorbar": {
              "outlinewidth": 0,
              "ticks": ""
             }
            },
            "type": "scatterpolar"
           }
          ],
          "scatterpolargl": [
           {
            "marker": {
             "colorbar": {
              "outlinewidth": 0,
              "ticks": ""
             }
            },
            "type": "scatterpolargl"
           }
          ],
          "scatterternary": [
           {
            "marker": {
             "colorbar": {
              "outlinewidth": 0,
              "ticks": ""
             }
            },
            "type": "scatterternary"
           }
          ],
          "surface": [
           {
            "colorbar": {
             "outlinewidth": 0,
             "ticks": ""
            },
            "colorscale": [
             [
              0,
              "#0d0887"
             ],
             [
              0.1111111111111111,
              "#46039f"
             ],
             [
              0.2222222222222222,
              "#7201a8"
             ],
             [
              0.3333333333333333,
              "#9c179e"
             ],
             [
              0.4444444444444444,
              "#bd3786"
             ],
             [
              0.5555555555555556,
              "#d8576b"
             ],
             [
              0.6666666666666666,
              "#ed7953"
             ],
             [
              0.7777777777777778,
              "#fb9f3a"
             ],
             [
              0.8888888888888888,
              "#fdca26"
             ],
             [
              1,
              "#f0f921"
             ]
            ],
            "type": "surface"
           }
          ],
          "table": [
           {
            "cells": {
             "fill": {
              "color": "#EBF0F8"
             },
             "line": {
              "color": "white"
             }
            },
            "header": {
             "fill": {
              "color": "#C8D4E3"
             },
             "line": {
              "color": "white"
             }
            },
            "type": "table"
           }
          ]
         },
         "layout": {
          "annotationdefaults": {
           "arrowcolor": "#2a3f5f",
           "arrowhead": 0,
           "arrowwidth": 1
          },
          "autotypenumbers": "strict",
          "coloraxis": {
           "colorbar": {
            "outlinewidth": 0,
            "ticks": ""
           }
          },
          "colorscale": {
           "diverging": [
            [
             0,
             "#8e0152"
            ],
            [
             0.1,
             "#c51b7d"
            ],
            [
             0.2,
             "#de77ae"
            ],
            [
             0.3,
             "#f1b6da"
            ],
            [
             0.4,
             "#fde0ef"
            ],
            [
             0.5,
             "#f7f7f7"
            ],
            [
             0.6,
             "#e6f5d0"
            ],
            [
             0.7,
             "#b8e186"
            ],
            [
             0.8,
             "#7fbc41"
            ],
            [
             0.9,
             "#4d9221"
            ],
            [
             1,
             "#276419"
            ]
           ],
           "sequential": [
            [
             0,
             "#0d0887"
            ],
            [
             0.1111111111111111,
             "#46039f"
            ],
            [
             0.2222222222222222,
             "#7201a8"
            ],
            [
             0.3333333333333333,
             "#9c179e"
            ],
            [
             0.4444444444444444,
             "#bd3786"
            ],
            [
             0.5555555555555556,
             "#d8576b"
            ],
            [
             0.6666666666666666,
             "#ed7953"
            ],
            [
             0.7777777777777778,
             "#fb9f3a"
            ],
            [
             0.8888888888888888,
             "#fdca26"
            ],
            [
             1,
             "#f0f921"
            ]
           ],
           "sequentialminus": [
            [
             0,
             "#0d0887"
            ],
            [
             0.1111111111111111,
             "#46039f"
            ],
            [
             0.2222222222222222,
             "#7201a8"
            ],
            [
             0.3333333333333333,
             "#9c179e"
            ],
            [
             0.4444444444444444,
             "#bd3786"
            ],
            [
             0.5555555555555556,
             "#d8576b"
            ],
            [
             0.6666666666666666,
             "#ed7953"
            ],
            [
             0.7777777777777778,
             "#fb9f3a"
            ],
            [
             0.8888888888888888,
             "#fdca26"
            ],
            [
             1,
             "#f0f921"
            ]
           ]
          },
          "colorway": [
           "#636efa",
           "#EF553B",
           "#00cc96",
           "#ab63fa",
           "#FFA15A",
           "#19d3f3",
           "#FF6692",
           "#B6E880",
           "#FF97FF",
           "#FECB52"
          ],
          "font": {
           "color": "#2a3f5f"
          },
          "geo": {
           "bgcolor": "white",
           "lakecolor": "white",
           "landcolor": "#E5ECF6",
           "showlakes": true,
           "showland": true,
           "subunitcolor": "white"
          },
          "hoverlabel": {
           "align": "left"
          },
          "hovermode": "closest",
          "mapbox": {
           "style": "light"
          },
          "paper_bgcolor": "white",
          "plot_bgcolor": "#E5ECF6",
          "polar": {
           "angularaxis": {
            "gridcolor": "white",
            "linecolor": "white",
            "ticks": ""
           },
           "bgcolor": "#E5ECF6",
           "radialaxis": {
            "gridcolor": "white",
            "linecolor": "white",
            "ticks": ""
           }
          },
          "scene": {
           "xaxis": {
            "backgroundcolor": "#E5ECF6",
            "gridcolor": "white",
            "gridwidth": 2,
            "linecolor": "white",
            "showbackground": true,
            "ticks": "",
            "zerolinecolor": "white"
           },
           "yaxis": {
            "backgroundcolor": "#E5ECF6",
            "gridcolor": "white",
            "gridwidth": 2,
            "linecolor": "white",
            "showbackground": true,
            "ticks": "",
            "zerolinecolor": "white"
           },
           "zaxis": {
            "backgroundcolor": "#E5ECF6",
            "gridcolor": "white",
            "gridwidth": 2,
            "linecolor": "white",
            "showbackground": true,
            "ticks": "",
            "zerolinecolor": "white"
           }
          },
          "shapedefaults": {
           "line": {
            "color": "#2a3f5f"
           }
          },
          "ternary": {
           "aaxis": {
            "gridcolor": "white",
            "linecolor": "white",
            "ticks": ""
           },
           "baxis": {
            "gridcolor": "white",
            "linecolor": "white",
            "ticks": ""
           },
           "bgcolor": "#E5ECF6",
           "caxis": {
            "gridcolor": "white",
            "linecolor": "white",
            "ticks": ""
           }
          },
          "title": {
           "x": 0.05
          },
          "xaxis": {
           "automargin": true,
           "gridcolor": "white",
           "linecolor": "white",
           "ticks": "",
           "title": {
            "standoff": 15
           },
           "zerolinecolor": "white",
           "zerolinewidth": 2
          },
          "yaxis": {
           "automargin": true,
           "gridcolor": "white",
           "linecolor": "white",
           "ticks": "",
           "title": {
            "standoff": 15
           },
           "zerolinecolor": "white",
           "zerolinewidth": 2
          }
         }
        },
        "title": {
         "text": "Education"
        },
        "xaxis": {
         "anchor": "y",
         "domain": [
          0,
          1
         ],
         "title": {
          "text": "Education"
         }
        },
        "yaxis": {
         "anchor": "x",
         "domain": [
          0,
          1
         ],
         "title": {
          "text": "Count of Customers"
         }
        }
       }
      },
      "text/html": [
       "<div>                            <div id=\"81c093db-450b-4642-8d0a-83705df8720d\" class=\"plotly-graph-div\" style=\"height:400px; width:100%;\"></div>            <script type=\"text/javascript\">                require([\"plotly\"], function(Plotly) {                    window.PLOTLYENV=window.PLOTLYENV || {};                                    if (document.getElementById(\"81c093db-450b-4642-8d0a-83705df8720d\")) {                    Plotly.newPlot(                        \"81c093db-450b-4642-8d0a-83705df8720d\",                        [{\"alignmentgroup\":\"True\",\"hovertemplate\":\"Cluster=Cluster 1<br>Education=%{x}<br>Count of Customers=%{y}<extra></extra>\",\"legendgroup\":\"Cluster 1\",\"marker\":{\"color\":\"#636efa\",\"pattern\":{\"shape\":\"\"}},\"name\":\"Cluster 1\",\"offsetgroup\":\"Cluster 1\",\"orientation\":\"v\",\"showlegend\":true,\"textposition\":\"auto\",\"type\":\"bar\",\"x\":[\"2n Cycle\",\"Basic\",\"Graduation\",\"Master\",\"PhD\"],\"xaxis\":\"x\",\"y\":[64,34,292,82,78],\"yaxis\":\"y\"},{\"alignmentgroup\":\"True\",\"hovertemplate\":\"Cluster=Cluster 2<br>Education=%{x}<br>Count of Customers=%{y}<extra></extra>\",\"legendgroup\":\"Cluster 2\",\"marker\":{\"color\":\"#EF553B\",\"pattern\":{\"shape\":\"\"}},\"name\":\"Cluster 2\",\"offsetgroup\":\"Cluster 2\",\"orientation\":\"v\",\"showlegend\":true,\"textposition\":\"auto\",\"type\":\"bar\",\"x\":[\"2n Cycle\",\"Basic\",\"Graduation\",\"Master\",\"PhD\"],\"xaxis\":\"x\",\"y\":[52,1,274,78,120],\"yaxis\":\"y\"},{\"alignmentgroup\":\"True\",\"hovertemplate\":\"Cluster=Cluster 3<br>Education=%{x}<br>Count of Customers=%{y}<extra></extra>\",\"legendgroup\":\"Cluster 3\",\"marker\":{\"color\":\"#00cc96\",\"pattern\":{\"shape\":\"\"}},\"name\":\"Cluster 3\",\"offsetgroup\":\"Cluster 3\",\"orientation\":\"v\",\"showlegend\":true,\"textposition\":\"auto\",\"type\":\"bar\",\"x\":[\"2n Cycle\",\"Graduation\",\"Master\",\"PhD\"],\"xaxis\":\"x\",\"y\":[27,258,85,126],\"yaxis\":\"y\"},{\"alignmentgroup\":\"True\",\"hovertemplate\":\"Cluster=Cluster 4<br>Education=%{x}<br>Count of Customers=%{y}<extra></extra>\",\"legendgroup\":\"Cluster 4\",\"marker\":{\"color\":\"#ab63fa\",\"pattern\":{\"shape\":\"\"}},\"name\":\"Cluster 4\",\"offsetgroup\":\"Cluster 4\",\"orientation\":\"v\",\"showlegend\":true,\"textposition\":\"auto\",\"type\":\"bar\",\"x\":[\"2n Cycle\",\"Basic\",\"Graduation\",\"Master\",\"PhD\"],\"xaxis\":\"x\",\"y\":[55,19,289,119,152],\"yaxis\":\"y\"}],                        {\"barmode\":\"group\",\"height\":400,\"legend\":{\"title\":{\"text\":\"Cluster\"},\"tracegroupgap\":0},\"margin\":{\"t\":60},\"template\":{\"data\":{\"bar\":[{\"error_x\":{\"color\":\"#2a3f5f\"},\"error_y\":{\"color\":\"#2a3f5f\"},\"marker\":{\"line\":{\"color\":\"#E5ECF6\",\"width\":0.5},\"pattern\":{\"fillmode\":\"overlay\",\"size\":10,\"solidity\":0.2}},\"type\":\"bar\"}],\"barpolar\":[{\"marker\":{\"line\":{\"color\":\"#E5ECF6\",\"width\":0.5},\"pattern\":{\"fillmode\":\"overlay\",\"size\":10,\"solidity\":0.2}},\"type\":\"barpolar\"}],\"carpet\":[{\"aaxis\":{\"endlinecolor\":\"#2a3f5f\",\"gridcolor\":\"white\",\"linecolor\":\"white\",\"minorgridcolor\":\"white\",\"startlinecolor\":\"#2a3f5f\"},\"baxis\":{\"endlinecolor\":\"#2a3f5f\",\"gridcolor\":\"white\",\"linecolor\":\"white\",\"minorgridcolor\":\"white\",\"startlinecolor\":\"#2a3f5f\"},\"type\":\"carpet\"}],\"choropleth\":[{\"colorbar\":{\"outlinewidth\":0,\"ticks\":\"\"},\"type\":\"choropleth\"}],\"contour\":[{\"colorbar\":{\"outlinewidth\":0,\"ticks\":\"\"},\"colorscale\":[[0.0,\"#0d0887\"],[0.1111111111111111,\"#46039f\"],[0.2222222222222222,\"#7201a8\"],[0.3333333333333333,\"#9c179e\"],[0.4444444444444444,\"#bd3786\"],[0.5555555555555556,\"#d8576b\"],[0.6666666666666666,\"#ed7953\"],[0.7777777777777778,\"#fb9f3a\"],[0.8888888888888888,\"#fdca26\"],[1.0,\"#f0f921\"]],\"type\":\"contour\"}],\"contourcarpet\":[{\"colorbar\":{\"outlinewidth\":0,\"ticks\":\"\"},\"type\":\"contourcarpet\"}],\"heatmap\":[{\"colorbar\":{\"outlinewidth\":0,\"ticks\":\"\"},\"colorscale\":[[0.0,\"#0d0887\"],[0.1111111111111111,\"#46039f\"],[0.2222222222222222,\"#7201a8\"],[0.3333333333333333,\"#9c179e\"],[0.4444444444444444,\"#bd3786\"],[0.5555555555555556,\"#d8576b\"],[0.6666666666666666,\"#ed7953\"],[0.7777777777777778,\"#fb9f3a\"],[0.8888888888888888,\"#fdca26\"],[1.0,\"#f0f921\"]],\"type\":\"heatmap\"}],\"heatmapgl\":[{\"colorbar\":{\"outlinewidth\":0,\"ticks\":\"\"},\"colorscale\":[[0.0,\"#0d0887\"],[0.1111111111111111,\"#46039f\"],[0.2222222222222222,\"#7201a8\"],[0.3333333333333333,\"#9c179e\"],[0.4444444444444444,\"#bd3786\"],[0.5555555555555556,\"#d8576b\"],[0.6666666666666666,\"#ed7953\"],[0.7777777777777778,\"#fb9f3a\"],[0.8888888888888888,\"#fdca26\"],[1.0,\"#f0f921\"]],\"type\":\"heatmapgl\"}],\"histogram\":[{\"marker\":{\"pattern\":{\"fillmode\":\"overlay\",\"size\":10,\"solidity\":0.2}},\"type\":\"histogram\"}],\"histogram2d\":[{\"colorbar\":{\"outlinewidth\":0,\"ticks\":\"\"},\"colorscale\":[[0.0,\"#0d0887\"],[0.1111111111111111,\"#46039f\"],[0.2222222222222222,\"#7201a8\"],[0.3333333333333333,\"#9c179e\"],[0.4444444444444444,\"#bd3786\"],[0.5555555555555556,\"#d8576b\"],[0.6666666666666666,\"#ed7953\"],[0.7777777777777778,\"#fb9f3a\"],[0.8888888888888888,\"#fdca26\"],[1.0,\"#f0f921\"]],\"type\":\"histogram2d\"}],\"histogram2dcontour\":[{\"colorbar\":{\"outlinewidth\":0,\"ticks\":\"\"},\"colorscale\":[[0.0,\"#0d0887\"],[0.1111111111111111,\"#46039f\"],[0.2222222222222222,\"#7201a8\"],[0.3333333333333333,\"#9c179e\"],[0.4444444444444444,\"#bd3786\"],[0.5555555555555556,\"#d8576b\"],[0.6666666666666666,\"#ed7953\"],[0.7777777777777778,\"#fb9f3a\"],[0.8888888888888888,\"#fdca26\"],[1.0,\"#f0f921\"]],\"type\":\"histogram2dcontour\"}],\"mesh3d\":[{\"colorbar\":{\"outlinewidth\":0,\"ticks\":\"\"},\"type\":\"mesh3d\"}],\"parcoords\":[{\"line\":{\"colorbar\":{\"outlinewidth\":0,\"ticks\":\"\"}},\"type\":\"parcoords\"}],\"pie\":[{\"automargin\":true,\"type\":\"pie\"}],\"scatter\":[{\"marker\":{\"colorbar\":{\"outlinewidth\":0,\"ticks\":\"\"}},\"type\":\"scatter\"}],\"scatter3d\":[{\"line\":{\"colorbar\":{\"outlinewidth\":0,\"ticks\":\"\"}},\"marker\":{\"colorbar\":{\"outlinewidth\":0,\"ticks\":\"\"}},\"type\":\"scatter3d\"}],\"scattercarpet\":[{\"marker\":{\"colorbar\":{\"outlinewidth\":0,\"ticks\":\"\"}},\"type\":\"scattercarpet\"}],\"scattergeo\":[{\"marker\":{\"colorbar\":{\"outlinewidth\":0,\"ticks\":\"\"}},\"type\":\"scattergeo\"}],\"scattergl\":[{\"marker\":{\"colorbar\":{\"outlinewidth\":0,\"ticks\":\"\"}},\"type\":\"scattergl\"}],\"scattermapbox\":[{\"marker\":{\"colorbar\":{\"outlinewidth\":0,\"ticks\":\"\"}},\"type\":\"scattermapbox\"}],\"scatterpolar\":[{\"marker\":{\"colorbar\":{\"outlinewidth\":0,\"ticks\":\"\"}},\"type\":\"scatterpolar\"}],\"scatterpolargl\":[{\"marker\":{\"colorbar\":{\"outlinewidth\":0,\"ticks\":\"\"}},\"type\":\"scatterpolargl\"}],\"scatterternary\":[{\"marker\":{\"colorbar\":{\"outlinewidth\":0,\"ticks\":\"\"}},\"type\":\"scatterternary\"}],\"surface\":[{\"colorbar\":{\"outlinewidth\":0,\"ticks\":\"\"},\"colorscale\":[[0.0,\"#0d0887\"],[0.1111111111111111,\"#46039f\"],[0.2222222222222222,\"#7201a8\"],[0.3333333333333333,\"#9c179e\"],[0.4444444444444444,\"#bd3786\"],[0.5555555555555556,\"#d8576b\"],[0.6666666666666666,\"#ed7953\"],[0.7777777777777778,\"#fb9f3a\"],[0.8888888888888888,\"#fdca26\"],[1.0,\"#f0f921\"]],\"type\":\"surface\"}],\"table\":[{\"cells\":{\"fill\":{\"color\":\"#EBF0F8\"},\"line\":{\"color\":\"white\"}},\"header\":{\"fill\":{\"color\":\"#C8D4E3\"},\"line\":{\"color\":\"white\"}},\"type\":\"table\"}]},\"layout\":{\"annotationdefaults\":{\"arrowcolor\":\"#2a3f5f\",\"arrowhead\":0,\"arrowwidth\":1},\"autotypenumbers\":\"strict\",\"coloraxis\":{\"colorbar\":{\"outlinewidth\":0,\"ticks\":\"\"}},\"colorscale\":{\"diverging\":[[0,\"#8e0152\"],[0.1,\"#c51b7d\"],[0.2,\"#de77ae\"],[0.3,\"#f1b6da\"],[0.4,\"#fde0ef\"],[0.5,\"#f7f7f7\"],[0.6,\"#e6f5d0\"],[0.7,\"#b8e186\"],[0.8,\"#7fbc41\"],[0.9,\"#4d9221\"],[1,\"#276419\"]],\"sequential\":[[0.0,\"#0d0887\"],[0.1111111111111111,\"#46039f\"],[0.2222222222222222,\"#7201a8\"],[0.3333333333333333,\"#9c179e\"],[0.4444444444444444,\"#bd3786\"],[0.5555555555555556,\"#d8576b\"],[0.6666666666666666,\"#ed7953\"],[0.7777777777777778,\"#fb9f3a\"],[0.8888888888888888,\"#fdca26\"],[1.0,\"#f0f921\"]],\"sequentialminus\":[[0.0,\"#0d0887\"],[0.1111111111111111,\"#46039f\"],[0.2222222222222222,\"#7201a8\"],[0.3333333333333333,\"#9c179e\"],[0.4444444444444444,\"#bd3786\"],[0.5555555555555556,\"#d8576b\"],[0.6666666666666666,\"#ed7953\"],[0.7777777777777778,\"#fb9f3a\"],[0.8888888888888888,\"#fdca26\"],[1.0,\"#f0f921\"]]},\"colorway\":[\"#636efa\",\"#EF553B\",\"#00cc96\",\"#ab63fa\",\"#FFA15A\",\"#19d3f3\",\"#FF6692\",\"#B6E880\",\"#FF97FF\",\"#FECB52\"],\"font\":{\"color\":\"#2a3f5f\"},\"geo\":{\"bgcolor\":\"white\",\"lakecolor\":\"white\",\"landcolor\":\"#E5ECF6\",\"showlakes\":true,\"showland\":true,\"subunitcolor\":\"white\"},\"hoverlabel\":{\"align\":\"left\"},\"hovermode\":\"closest\",\"mapbox\":{\"style\":\"light\"},\"paper_bgcolor\":\"white\",\"plot_bgcolor\":\"#E5ECF6\",\"polar\":{\"angularaxis\":{\"gridcolor\":\"white\",\"linecolor\":\"white\",\"ticks\":\"\"},\"bgcolor\":\"#E5ECF6\",\"radialaxis\":{\"gridcolor\":\"white\",\"linecolor\":\"white\",\"ticks\":\"\"}},\"scene\":{\"xaxis\":{\"backgroundcolor\":\"#E5ECF6\",\"gridcolor\":\"white\",\"gridwidth\":2,\"linecolor\":\"white\",\"showbackground\":true,\"ticks\":\"\",\"zerolinecolor\":\"white\"},\"yaxis\":{\"backgroundcolor\":\"#E5ECF6\",\"gridcolor\":\"white\",\"gridwidth\":2,\"linecolor\":\"white\",\"showbackground\":true,\"ticks\":\"\",\"zerolinecolor\":\"white\"},\"zaxis\":{\"backgroundcolor\":\"#E5ECF6\",\"gridcolor\":\"white\",\"gridwidth\":2,\"linecolor\":\"white\",\"showbackground\":true,\"ticks\":\"\",\"zerolinecolor\":\"white\"}},\"shapedefaults\":{\"line\":{\"color\":\"#2a3f5f\"}},\"ternary\":{\"aaxis\":{\"gridcolor\":\"white\",\"linecolor\":\"white\",\"ticks\":\"\"},\"baxis\":{\"gridcolor\":\"white\",\"linecolor\":\"white\",\"ticks\":\"\"},\"bgcolor\":\"#E5ECF6\",\"caxis\":{\"gridcolor\":\"white\",\"linecolor\":\"white\",\"ticks\":\"\"}},\"title\":{\"x\":0.05},\"xaxis\":{\"automargin\":true,\"gridcolor\":\"white\",\"linecolor\":\"white\",\"ticks\":\"\",\"title\":{\"standoff\":15},\"zerolinecolor\":\"white\",\"zerolinewidth\":2},\"yaxis\":{\"automargin\":true,\"gridcolor\":\"white\",\"linecolor\":\"white\",\"ticks\":\"\",\"title\":{\"standoff\":15},\"zerolinecolor\":\"white\",\"zerolinewidth\":2}}},\"title\":{\"text\":\"Education\"},\"xaxis\":{\"anchor\":\"y\",\"domain\":[0.0,1.0],\"title\":{\"text\":\"Education\"}},\"yaxis\":{\"anchor\":\"x\",\"domain\":[0.0,1.0],\"title\":{\"text\":\"Count of Customers\"}}},                        {\"responsive\": true}                    ).then(function(){\n",
       "                            \n",
       "var gd = document.getElementById('81c093db-450b-4642-8d0a-83705df8720d');\n",
       "var x = new MutationObserver(function (mutations, observer) {{\n",
       "        var display = window.getComputedStyle(gd).display;\n",
       "        if (!display || display === 'none') {{\n",
       "            console.log([gd, 'removed!']);\n",
       "            Plotly.purge(gd);\n",
       "            observer.disconnect();\n",
       "        }}\n",
       "}});\n",
       "\n",
       "// Listen for the removal of the full notebook cells\n",
       "var notebookContainer = gd.closest('#notebook-container');\n",
       "if (notebookContainer) {{\n",
       "    x.observe(notebookContainer, {childList: true});\n",
       "}}\n",
       "\n",
       "// Listen for the clearing of the current output cell\n",
       "var outputEl = gd.closest('.output');\n",
       "if (outputEl) {{\n",
       "    x.observe(outputEl, {childList: true});\n",
       "}}\n",
       "\n",
       "                        })                };                });            </script>        </div>"
      ]
     },
     "metadata": {},
     "output_type": "display_data"
    }
   ],
   "source": [
    "df_plot = df[['Education', 'Cluster', 'ID']].groupby(['Education', 'Cluster']).count()\n",
    "df_plot.reset_index(inplace=True)\n",
    "df_plot.rename(columns={\"ID\":\"Count of Customers\"}, inplace=True)\n",
    "\n",
    "\n",
    "fig = px.bar(df_plot, x=\"Education\", y=\"Count of Customers\",\n",
    "             color='Cluster', barmode='group',\n",
    "             height=400)\n",
    "fig.update_layout(title=\"Education\")\n",
    "fig.show()"
   ]
  },
  {
   "cell_type": "code",
   "execution_count": 97,
   "id": "1e868976",
   "metadata": {},
   "outputs": [
    {
     "data": {
      "application/vnd.plotly.v1+json": {
       "config": {
        "plotlyServerURL": "https://plot.ly"
       },
       "data": [
        {
         "alignmentgroup": "True",
         "hovertemplate": "Cluster=Cluster 1<br>Marital_Status=%{x}<br>Count of Customers=%{y}<extra></extra>",
         "legendgroup": "Cluster 1",
         "marker": {
          "color": "#636efa",
          "pattern": {
           "shape": ""
          }
         },
         "name": "Cluster 1",
         "offsetgroup": "Cluster 1",
         "orientation": "v",
         "showlegend": true,
         "textposition": "auto",
         "type": "bar",
         "x": [
          "Alone",
          "Partner"
         ],
         "xaxis": "x",
         "y": [
          192,
          358
         ],
         "yaxis": "y"
        },
        {
         "alignmentgroup": "True",
         "hovertemplate": "Cluster=Cluster 2<br>Marital_Status=%{x}<br>Count of Customers=%{y}<extra></extra>",
         "legendgroup": "Cluster 2",
         "marker": {
          "color": "#EF553B",
          "pattern": {
           "shape": ""
          }
         },
         "name": "Cluster 2",
         "offsetgroup": "Cluster 2",
         "orientation": "v",
         "showlegend": true,
         "textposition": "auto",
         "type": "bar",
         "x": [
          "Alone",
          "Partner"
         ],
         "xaxis": "x",
         "y": [
          186,
          339
         ],
         "yaxis": "y"
        },
        {
         "alignmentgroup": "True",
         "hovertemplate": "Cluster=Cluster 3<br>Marital_Status=%{x}<br>Count of Customers=%{y}<extra></extra>",
         "legendgroup": "Cluster 3",
         "marker": {
          "color": "#00cc96",
          "pattern": {
           "shape": ""
          }
         },
         "name": "Cluster 3",
         "offsetgroup": "Cluster 3",
         "orientation": "v",
         "showlegend": true,
         "textposition": "auto",
         "type": "bar",
         "x": [
          "Alone",
          "Partner"
         ],
         "xaxis": "x",
         "y": [
          193,
          303
         ],
         "yaxis": "y"
        },
        {
         "alignmentgroup": "True",
         "hovertemplate": "Cluster=Cluster 4<br>Marital_Status=%{x}<br>Count of Customers=%{y}<extra></extra>",
         "legendgroup": "Cluster 4",
         "marker": {
          "color": "#ab63fa",
          "pattern": {
           "shape": ""
          }
         },
         "name": "Cluster 4",
         "offsetgroup": "Cluster 4",
         "orientation": "v",
         "showlegend": true,
         "textposition": "auto",
         "type": "bar",
         "x": [
          "Alone",
          "Partner"
         ],
         "xaxis": "x",
         "y": [
          212,
          422
         ],
         "yaxis": "y"
        }
       ],
       "layout": {
        "barmode": "group",
        "height": 400,
        "legend": {
         "title": {
          "text": "Cluster"
         },
         "tracegroupgap": 0
        },
        "margin": {
         "t": 60
        },
        "template": {
         "data": {
          "bar": [
           {
            "error_x": {
             "color": "#2a3f5f"
            },
            "error_y": {
             "color": "#2a3f5f"
            },
            "marker": {
             "line": {
              "color": "#E5ECF6",
              "width": 0.5
             },
             "pattern": {
              "fillmode": "overlay",
              "size": 10,
              "solidity": 0.2
             }
            },
            "type": "bar"
           }
          ],
          "barpolar": [
           {
            "marker": {
             "line": {
              "color": "#E5ECF6",
              "width": 0.5
             },
             "pattern": {
              "fillmode": "overlay",
              "size": 10,
              "solidity": 0.2
             }
            },
            "type": "barpolar"
           }
          ],
          "carpet": [
           {
            "aaxis": {
             "endlinecolor": "#2a3f5f",
             "gridcolor": "white",
             "linecolor": "white",
             "minorgridcolor": "white",
             "startlinecolor": "#2a3f5f"
            },
            "baxis": {
             "endlinecolor": "#2a3f5f",
             "gridcolor": "white",
             "linecolor": "white",
             "minorgridcolor": "white",
             "startlinecolor": "#2a3f5f"
            },
            "type": "carpet"
           }
          ],
          "choropleth": [
           {
            "colorbar": {
             "outlinewidth": 0,
             "ticks": ""
            },
            "type": "choropleth"
           }
          ],
          "contour": [
           {
            "colorbar": {
             "outlinewidth": 0,
             "ticks": ""
            },
            "colorscale": [
             [
              0,
              "#0d0887"
             ],
             [
              0.1111111111111111,
              "#46039f"
             ],
             [
              0.2222222222222222,
              "#7201a8"
             ],
             [
              0.3333333333333333,
              "#9c179e"
             ],
             [
              0.4444444444444444,
              "#bd3786"
             ],
             [
              0.5555555555555556,
              "#d8576b"
             ],
             [
              0.6666666666666666,
              "#ed7953"
             ],
             [
              0.7777777777777778,
              "#fb9f3a"
             ],
             [
              0.8888888888888888,
              "#fdca26"
             ],
             [
              1,
              "#f0f921"
             ]
            ],
            "type": "contour"
           }
          ],
          "contourcarpet": [
           {
            "colorbar": {
             "outlinewidth": 0,
             "ticks": ""
            },
            "type": "contourcarpet"
           }
          ],
          "heatmap": [
           {
            "colorbar": {
             "outlinewidth": 0,
             "ticks": ""
            },
            "colorscale": [
             [
              0,
              "#0d0887"
             ],
             [
              0.1111111111111111,
              "#46039f"
             ],
             [
              0.2222222222222222,
              "#7201a8"
             ],
             [
              0.3333333333333333,
              "#9c179e"
             ],
             [
              0.4444444444444444,
              "#bd3786"
             ],
             [
              0.5555555555555556,
              "#d8576b"
             ],
             [
              0.6666666666666666,
              "#ed7953"
             ],
             [
              0.7777777777777778,
              "#fb9f3a"
             ],
             [
              0.8888888888888888,
              "#fdca26"
             ],
             [
              1,
              "#f0f921"
             ]
            ],
            "type": "heatmap"
           }
          ],
          "heatmapgl": [
           {
            "colorbar": {
             "outlinewidth": 0,
             "ticks": ""
            },
            "colorscale": [
             [
              0,
              "#0d0887"
             ],
             [
              0.1111111111111111,
              "#46039f"
             ],
             [
              0.2222222222222222,
              "#7201a8"
             ],
             [
              0.3333333333333333,
              "#9c179e"
             ],
             [
              0.4444444444444444,
              "#bd3786"
             ],
             [
              0.5555555555555556,
              "#d8576b"
             ],
             [
              0.6666666666666666,
              "#ed7953"
             ],
             [
              0.7777777777777778,
              "#fb9f3a"
             ],
             [
              0.8888888888888888,
              "#fdca26"
             ],
             [
              1,
              "#f0f921"
             ]
            ],
            "type": "heatmapgl"
           }
          ],
          "histogram": [
           {
            "marker": {
             "pattern": {
              "fillmode": "overlay",
              "size": 10,
              "solidity": 0.2
             }
            },
            "type": "histogram"
           }
          ],
          "histogram2d": [
           {
            "colorbar": {
             "outlinewidth": 0,
             "ticks": ""
            },
            "colorscale": [
             [
              0,
              "#0d0887"
             ],
             [
              0.1111111111111111,
              "#46039f"
             ],
             [
              0.2222222222222222,
              "#7201a8"
             ],
             [
              0.3333333333333333,
              "#9c179e"
             ],
             [
              0.4444444444444444,
              "#bd3786"
             ],
             [
              0.5555555555555556,
              "#d8576b"
             ],
             [
              0.6666666666666666,
              "#ed7953"
             ],
             [
              0.7777777777777778,
              "#fb9f3a"
             ],
             [
              0.8888888888888888,
              "#fdca26"
             ],
             [
              1,
              "#f0f921"
             ]
            ],
            "type": "histogram2d"
           }
          ],
          "histogram2dcontour": [
           {
            "colorbar": {
             "outlinewidth": 0,
             "ticks": ""
            },
            "colorscale": [
             [
              0,
              "#0d0887"
             ],
             [
              0.1111111111111111,
              "#46039f"
             ],
             [
              0.2222222222222222,
              "#7201a8"
             ],
             [
              0.3333333333333333,
              "#9c179e"
             ],
             [
              0.4444444444444444,
              "#bd3786"
             ],
             [
              0.5555555555555556,
              "#d8576b"
             ],
             [
              0.6666666666666666,
              "#ed7953"
             ],
             [
              0.7777777777777778,
              "#fb9f3a"
             ],
             [
              0.8888888888888888,
              "#fdca26"
             ],
             [
              1,
              "#f0f921"
             ]
            ],
            "type": "histogram2dcontour"
           }
          ],
          "mesh3d": [
           {
            "colorbar": {
             "outlinewidth": 0,
             "ticks": ""
            },
            "type": "mesh3d"
           }
          ],
          "parcoords": [
           {
            "line": {
             "colorbar": {
              "outlinewidth": 0,
              "ticks": ""
             }
            },
            "type": "parcoords"
           }
          ],
          "pie": [
           {
            "automargin": true,
            "type": "pie"
           }
          ],
          "scatter": [
           {
            "marker": {
             "colorbar": {
              "outlinewidth": 0,
              "ticks": ""
             }
            },
            "type": "scatter"
           }
          ],
          "scatter3d": [
           {
            "line": {
             "colorbar": {
              "outlinewidth": 0,
              "ticks": ""
             }
            },
            "marker": {
             "colorbar": {
              "outlinewidth": 0,
              "ticks": ""
             }
            },
            "type": "scatter3d"
           }
          ],
          "scattercarpet": [
           {
            "marker": {
             "colorbar": {
              "outlinewidth": 0,
              "ticks": ""
             }
            },
            "type": "scattercarpet"
           }
          ],
          "scattergeo": [
           {
            "marker": {
             "colorbar": {
              "outlinewidth": 0,
              "ticks": ""
             }
            },
            "type": "scattergeo"
           }
          ],
          "scattergl": [
           {
            "marker": {
             "colorbar": {
              "outlinewidth": 0,
              "ticks": ""
             }
            },
            "type": "scattergl"
           }
          ],
          "scattermapbox": [
           {
            "marker": {
             "colorbar": {
              "outlinewidth": 0,
              "ticks": ""
             }
            },
            "type": "scattermapbox"
           }
          ],
          "scatterpolar": [
           {
            "marker": {
             "colorbar": {
              "outlinewidth": 0,
              "ticks": ""
             }
            },
            "type": "scatterpolar"
           }
          ],
          "scatterpolargl": [
           {
            "marker": {
             "colorbar": {
              "outlinewidth": 0,
              "ticks": ""
             }
            },
            "type": "scatterpolargl"
           }
          ],
          "scatterternary": [
           {
            "marker": {
             "colorbar": {
              "outlinewidth": 0,
              "ticks": ""
             }
            },
            "type": "scatterternary"
           }
          ],
          "surface": [
           {
            "colorbar": {
             "outlinewidth": 0,
             "ticks": ""
            },
            "colorscale": [
             [
              0,
              "#0d0887"
             ],
             [
              0.1111111111111111,
              "#46039f"
             ],
             [
              0.2222222222222222,
              "#7201a8"
             ],
             [
              0.3333333333333333,
              "#9c179e"
             ],
             [
              0.4444444444444444,
              "#bd3786"
             ],
             [
              0.5555555555555556,
              "#d8576b"
             ],
             [
              0.6666666666666666,
              "#ed7953"
             ],
             [
              0.7777777777777778,
              "#fb9f3a"
             ],
             [
              0.8888888888888888,
              "#fdca26"
             ],
             [
              1,
              "#f0f921"
             ]
            ],
            "type": "surface"
           }
          ],
          "table": [
           {
            "cells": {
             "fill": {
              "color": "#EBF0F8"
             },
             "line": {
              "color": "white"
             }
            },
            "header": {
             "fill": {
              "color": "#C8D4E3"
             },
             "line": {
              "color": "white"
             }
            },
            "type": "table"
           }
          ]
         },
         "layout": {
          "annotationdefaults": {
           "arrowcolor": "#2a3f5f",
           "arrowhead": 0,
           "arrowwidth": 1
          },
          "autotypenumbers": "strict",
          "coloraxis": {
           "colorbar": {
            "outlinewidth": 0,
            "ticks": ""
           }
          },
          "colorscale": {
           "diverging": [
            [
             0,
             "#8e0152"
            ],
            [
             0.1,
             "#c51b7d"
            ],
            [
             0.2,
             "#de77ae"
            ],
            [
             0.3,
             "#f1b6da"
            ],
            [
             0.4,
             "#fde0ef"
            ],
            [
             0.5,
             "#f7f7f7"
            ],
            [
             0.6,
             "#e6f5d0"
            ],
            [
             0.7,
             "#b8e186"
            ],
            [
             0.8,
             "#7fbc41"
            ],
            [
             0.9,
             "#4d9221"
            ],
            [
             1,
             "#276419"
            ]
           ],
           "sequential": [
            [
             0,
             "#0d0887"
            ],
            [
             0.1111111111111111,
             "#46039f"
            ],
            [
             0.2222222222222222,
             "#7201a8"
            ],
            [
             0.3333333333333333,
             "#9c179e"
            ],
            [
             0.4444444444444444,
             "#bd3786"
            ],
            [
             0.5555555555555556,
             "#d8576b"
            ],
            [
             0.6666666666666666,
             "#ed7953"
            ],
            [
             0.7777777777777778,
             "#fb9f3a"
            ],
            [
             0.8888888888888888,
             "#fdca26"
            ],
            [
             1,
             "#f0f921"
            ]
           ],
           "sequentialminus": [
            [
             0,
             "#0d0887"
            ],
            [
             0.1111111111111111,
             "#46039f"
            ],
            [
             0.2222222222222222,
             "#7201a8"
            ],
            [
             0.3333333333333333,
             "#9c179e"
            ],
            [
             0.4444444444444444,
             "#bd3786"
            ],
            [
             0.5555555555555556,
             "#d8576b"
            ],
            [
             0.6666666666666666,
             "#ed7953"
            ],
            [
             0.7777777777777778,
             "#fb9f3a"
            ],
            [
             0.8888888888888888,
             "#fdca26"
            ],
            [
             1,
             "#f0f921"
            ]
           ]
          },
          "colorway": [
           "#636efa",
           "#EF553B",
           "#00cc96",
           "#ab63fa",
           "#FFA15A",
           "#19d3f3",
           "#FF6692",
           "#B6E880",
           "#FF97FF",
           "#FECB52"
          ],
          "font": {
           "color": "#2a3f5f"
          },
          "geo": {
           "bgcolor": "white",
           "lakecolor": "white",
           "landcolor": "#E5ECF6",
           "showlakes": true,
           "showland": true,
           "subunitcolor": "white"
          },
          "hoverlabel": {
           "align": "left"
          },
          "hovermode": "closest",
          "mapbox": {
           "style": "light"
          },
          "paper_bgcolor": "white",
          "plot_bgcolor": "#E5ECF6",
          "polar": {
           "angularaxis": {
            "gridcolor": "white",
            "linecolor": "white",
            "ticks": ""
           },
           "bgcolor": "#E5ECF6",
           "radialaxis": {
            "gridcolor": "white",
            "linecolor": "white",
            "ticks": ""
           }
          },
          "scene": {
           "xaxis": {
            "backgroundcolor": "#E5ECF6",
            "gridcolor": "white",
            "gridwidth": 2,
            "linecolor": "white",
            "showbackground": true,
            "ticks": "",
            "zerolinecolor": "white"
           },
           "yaxis": {
            "backgroundcolor": "#E5ECF6",
            "gridcolor": "white",
            "gridwidth": 2,
            "linecolor": "white",
            "showbackground": true,
            "ticks": "",
            "zerolinecolor": "white"
           },
           "zaxis": {
            "backgroundcolor": "#E5ECF6",
            "gridcolor": "white",
            "gridwidth": 2,
            "linecolor": "white",
            "showbackground": true,
            "ticks": "",
            "zerolinecolor": "white"
           }
          },
          "shapedefaults": {
           "line": {
            "color": "#2a3f5f"
           }
          },
          "ternary": {
           "aaxis": {
            "gridcolor": "white",
            "linecolor": "white",
            "ticks": ""
           },
           "baxis": {
            "gridcolor": "white",
            "linecolor": "white",
            "ticks": ""
           },
           "bgcolor": "#E5ECF6",
           "caxis": {
            "gridcolor": "white",
            "linecolor": "white",
            "ticks": ""
           }
          },
          "title": {
           "x": 0.05
          },
          "xaxis": {
           "automargin": true,
           "gridcolor": "white",
           "linecolor": "white",
           "ticks": "",
           "title": {
            "standoff": 15
           },
           "zerolinecolor": "white",
           "zerolinewidth": 2
          },
          "yaxis": {
           "automargin": true,
           "gridcolor": "white",
           "linecolor": "white",
           "ticks": "",
           "title": {
            "standoff": 15
           },
           "zerolinecolor": "white",
           "zerolinewidth": 2
          }
         }
        },
        "title": {
         "text": "Marital_Status"
        },
        "xaxis": {
         "anchor": "y",
         "domain": [
          0,
          1
         ],
         "title": {
          "text": "Marital_Status"
         }
        },
        "yaxis": {
         "anchor": "x",
         "domain": [
          0,
          1
         ],
         "title": {
          "text": "Count of Customers"
         }
        }
       }
      },
      "text/html": [
       "<div>                            <div id=\"0a56320c-d77e-4348-b44f-cb6a3de68ac5\" class=\"plotly-graph-div\" style=\"height:400px; width:100%;\"></div>            <script type=\"text/javascript\">                require([\"plotly\"], function(Plotly) {                    window.PLOTLYENV=window.PLOTLYENV || {};                                    if (document.getElementById(\"0a56320c-d77e-4348-b44f-cb6a3de68ac5\")) {                    Plotly.newPlot(                        \"0a56320c-d77e-4348-b44f-cb6a3de68ac5\",                        [{\"alignmentgroup\":\"True\",\"hovertemplate\":\"Cluster=Cluster 1<br>Marital_Status=%{x}<br>Count of Customers=%{y}<extra></extra>\",\"legendgroup\":\"Cluster 1\",\"marker\":{\"color\":\"#636efa\",\"pattern\":{\"shape\":\"\"}},\"name\":\"Cluster 1\",\"offsetgroup\":\"Cluster 1\",\"orientation\":\"v\",\"showlegend\":true,\"textposition\":\"auto\",\"type\":\"bar\",\"x\":[\"Alone\",\"Partner\"],\"xaxis\":\"x\",\"y\":[192,358],\"yaxis\":\"y\"},{\"alignmentgroup\":\"True\",\"hovertemplate\":\"Cluster=Cluster 2<br>Marital_Status=%{x}<br>Count of Customers=%{y}<extra></extra>\",\"legendgroup\":\"Cluster 2\",\"marker\":{\"color\":\"#EF553B\",\"pattern\":{\"shape\":\"\"}},\"name\":\"Cluster 2\",\"offsetgroup\":\"Cluster 2\",\"orientation\":\"v\",\"showlegend\":true,\"textposition\":\"auto\",\"type\":\"bar\",\"x\":[\"Alone\",\"Partner\"],\"xaxis\":\"x\",\"y\":[186,339],\"yaxis\":\"y\"},{\"alignmentgroup\":\"True\",\"hovertemplate\":\"Cluster=Cluster 3<br>Marital_Status=%{x}<br>Count of Customers=%{y}<extra></extra>\",\"legendgroup\":\"Cluster 3\",\"marker\":{\"color\":\"#00cc96\",\"pattern\":{\"shape\":\"\"}},\"name\":\"Cluster 3\",\"offsetgroup\":\"Cluster 3\",\"orientation\":\"v\",\"showlegend\":true,\"textposition\":\"auto\",\"type\":\"bar\",\"x\":[\"Alone\",\"Partner\"],\"xaxis\":\"x\",\"y\":[193,303],\"yaxis\":\"y\"},{\"alignmentgroup\":\"True\",\"hovertemplate\":\"Cluster=Cluster 4<br>Marital_Status=%{x}<br>Count of Customers=%{y}<extra></extra>\",\"legendgroup\":\"Cluster 4\",\"marker\":{\"color\":\"#ab63fa\",\"pattern\":{\"shape\":\"\"}},\"name\":\"Cluster 4\",\"offsetgroup\":\"Cluster 4\",\"orientation\":\"v\",\"showlegend\":true,\"textposition\":\"auto\",\"type\":\"bar\",\"x\":[\"Alone\",\"Partner\"],\"xaxis\":\"x\",\"y\":[212,422],\"yaxis\":\"y\"}],                        {\"barmode\":\"group\",\"height\":400,\"legend\":{\"title\":{\"text\":\"Cluster\"},\"tracegroupgap\":0},\"margin\":{\"t\":60},\"template\":{\"data\":{\"bar\":[{\"error_x\":{\"color\":\"#2a3f5f\"},\"error_y\":{\"color\":\"#2a3f5f\"},\"marker\":{\"line\":{\"color\":\"#E5ECF6\",\"width\":0.5},\"pattern\":{\"fillmode\":\"overlay\",\"size\":10,\"solidity\":0.2}},\"type\":\"bar\"}],\"barpolar\":[{\"marker\":{\"line\":{\"color\":\"#E5ECF6\",\"width\":0.5},\"pattern\":{\"fillmode\":\"overlay\",\"size\":10,\"solidity\":0.2}},\"type\":\"barpolar\"}],\"carpet\":[{\"aaxis\":{\"endlinecolor\":\"#2a3f5f\",\"gridcolor\":\"white\",\"linecolor\":\"white\",\"minorgridcolor\":\"white\",\"startlinecolor\":\"#2a3f5f\"},\"baxis\":{\"endlinecolor\":\"#2a3f5f\",\"gridcolor\":\"white\",\"linecolor\":\"white\",\"minorgridcolor\":\"white\",\"startlinecolor\":\"#2a3f5f\"},\"type\":\"carpet\"}],\"choropleth\":[{\"colorbar\":{\"outlinewidth\":0,\"ticks\":\"\"},\"type\":\"choropleth\"}],\"contour\":[{\"colorbar\":{\"outlinewidth\":0,\"ticks\":\"\"},\"colorscale\":[[0.0,\"#0d0887\"],[0.1111111111111111,\"#46039f\"],[0.2222222222222222,\"#7201a8\"],[0.3333333333333333,\"#9c179e\"],[0.4444444444444444,\"#bd3786\"],[0.5555555555555556,\"#d8576b\"],[0.6666666666666666,\"#ed7953\"],[0.7777777777777778,\"#fb9f3a\"],[0.8888888888888888,\"#fdca26\"],[1.0,\"#f0f921\"]],\"type\":\"contour\"}],\"contourcarpet\":[{\"colorbar\":{\"outlinewidth\":0,\"ticks\":\"\"},\"type\":\"contourcarpet\"}],\"heatmap\":[{\"colorbar\":{\"outlinewidth\":0,\"ticks\":\"\"},\"colorscale\":[[0.0,\"#0d0887\"],[0.1111111111111111,\"#46039f\"],[0.2222222222222222,\"#7201a8\"],[0.3333333333333333,\"#9c179e\"],[0.4444444444444444,\"#bd3786\"],[0.5555555555555556,\"#d8576b\"],[0.6666666666666666,\"#ed7953\"],[0.7777777777777778,\"#fb9f3a\"],[0.8888888888888888,\"#fdca26\"],[1.0,\"#f0f921\"]],\"type\":\"heatmap\"}],\"heatmapgl\":[{\"colorbar\":{\"outlinewidth\":0,\"ticks\":\"\"},\"colorscale\":[[0.0,\"#0d0887\"],[0.1111111111111111,\"#46039f\"],[0.2222222222222222,\"#7201a8\"],[0.3333333333333333,\"#9c179e\"],[0.4444444444444444,\"#bd3786\"],[0.5555555555555556,\"#d8576b\"],[0.6666666666666666,\"#ed7953\"],[0.7777777777777778,\"#fb9f3a\"],[0.8888888888888888,\"#fdca26\"],[1.0,\"#f0f921\"]],\"type\":\"heatmapgl\"}],\"histogram\":[{\"marker\":{\"pattern\":{\"fillmode\":\"overlay\",\"size\":10,\"solidity\":0.2}},\"type\":\"histogram\"}],\"histogram2d\":[{\"colorbar\":{\"outlinewidth\":0,\"ticks\":\"\"},\"colorscale\":[[0.0,\"#0d0887\"],[0.1111111111111111,\"#46039f\"],[0.2222222222222222,\"#7201a8\"],[0.3333333333333333,\"#9c179e\"],[0.4444444444444444,\"#bd3786\"],[0.5555555555555556,\"#d8576b\"],[0.6666666666666666,\"#ed7953\"],[0.7777777777777778,\"#fb9f3a\"],[0.8888888888888888,\"#fdca26\"],[1.0,\"#f0f921\"]],\"type\":\"histogram2d\"}],\"histogram2dcontour\":[{\"colorbar\":{\"outlinewidth\":0,\"ticks\":\"\"},\"colorscale\":[[0.0,\"#0d0887\"],[0.1111111111111111,\"#46039f\"],[0.2222222222222222,\"#7201a8\"],[0.3333333333333333,\"#9c179e\"],[0.4444444444444444,\"#bd3786\"],[0.5555555555555556,\"#d8576b\"],[0.6666666666666666,\"#ed7953\"],[0.7777777777777778,\"#fb9f3a\"],[0.8888888888888888,\"#fdca26\"],[1.0,\"#f0f921\"]],\"type\":\"histogram2dcontour\"}],\"mesh3d\":[{\"colorbar\":{\"outlinewidth\":0,\"ticks\":\"\"},\"type\":\"mesh3d\"}],\"parcoords\":[{\"line\":{\"colorbar\":{\"outlinewidth\":0,\"ticks\":\"\"}},\"type\":\"parcoords\"}],\"pie\":[{\"automargin\":true,\"type\":\"pie\"}],\"scatter\":[{\"marker\":{\"colorbar\":{\"outlinewidth\":0,\"ticks\":\"\"}},\"type\":\"scatter\"}],\"scatter3d\":[{\"line\":{\"colorbar\":{\"outlinewidth\":0,\"ticks\":\"\"}},\"marker\":{\"colorbar\":{\"outlinewidth\":0,\"ticks\":\"\"}},\"type\":\"scatter3d\"}],\"scattercarpet\":[{\"marker\":{\"colorbar\":{\"outlinewidth\":0,\"ticks\":\"\"}},\"type\":\"scattercarpet\"}],\"scattergeo\":[{\"marker\":{\"colorbar\":{\"outlinewidth\":0,\"ticks\":\"\"}},\"type\":\"scattergeo\"}],\"scattergl\":[{\"marker\":{\"colorbar\":{\"outlinewidth\":0,\"ticks\":\"\"}},\"type\":\"scattergl\"}],\"scattermapbox\":[{\"marker\":{\"colorbar\":{\"outlinewidth\":0,\"ticks\":\"\"}},\"type\":\"scattermapbox\"}],\"scatterpolar\":[{\"marker\":{\"colorbar\":{\"outlinewidth\":0,\"ticks\":\"\"}},\"type\":\"scatterpolar\"}],\"scatterpolargl\":[{\"marker\":{\"colorbar\":{\"outlinewidth\":0,\"ticks\":\"\"}},\"type\":\"scatterpolargl\"}],\"scatterternary\":[{\"marker\":{\"colorbar\":{\"outlinewidth\":0,\"ticks\":\"\"}},\"type\":\"scatterternary\"}],\"surface\":[{\"colorbar\":{\"outlinewidth\":0,\"ticks\":\"\"},\"colorscale\":[[0.0,\"#0d0887\"],[0.1111111111111111,\"#46039f\"],[0.2222222222222222,\"#7201a8\"],[0.3333333333333333,\"#9c179e\"],[0.4444444444444444,\"#bd3786\"],[0.5555555555555556,\"#d8576b\"],[0.6666666666666666,\"#ed7953\"],[0.7777777777777778,\"#fb9f3a\"],[0.8888888888888888,\"#fdca26\"],[1.0,\"#f0f921\"]],\"type\":\"surface\"}],\"table\":[{\"cells\":{\"fill\":{\"color\":\"#EBF0F8\"},\"line\":{\"color\":\"white\"}},\"header\":{\"fill\":{\"color\":\"#C8D4E3\"},\"line\":{\"color\":\"white\"}},\"type\":\"table\"}]},\"layout\":{\"annotationdefaults\":{\"arrowcolor\":\"#2a3f5f\",\"arrowhead\":0,\"arrowwidth\":1},\"autotypenumbers\":\"strict\",\"coloraxis\":{\"colorbar\":{\"outlinewidth\":0,\"ticks\":\"\"}},\"colorscale\":{\"diverging\":[[0,\"#8e0152\"],[0.1,\"#c51b7d\"],[0.2,\"#de77ae\"],[0.3,\"#f1b6da\"],[0.4,\"#fde0ef\"],[0.5,\"#f7f7f7\"],[0.6,\"#e6f5d0\"],[0.7,\"#b8e186\"],[0.8,\"#7fbc41\"],[0.9,\"#4d9221\"],[1,\"#276419\"]],\"sequential\":[[0.0,\"#0d0887\"],[0.1111111111111111,\"#46039f\"],[0.2222222222222222,\"#7201a8\"],[0.3333333333333333,\"#9c179e\"],[0.4444444444444444,\"#bd3786\"],[0.5555555555555556,\"#d8576b\"],[0.6666666666666666,\"#ed7953\"],[0.7777777777777778,\"#fb9f3a\"],[0.8888888888888888,\"#fdca26\"],[1.0,\"#f0f921\"]],\"sequentialminus\":[[0.0,\"#0d0887\"],[0.1111111111111111,\"#46039f\"],[0.2222222222222222,\"#7201a8\"],[0.3333333333333333,\"#9c179e\"],[0.4444444444444444,\"#bd3786\"],[0.5555555555555556,\"#d8576b\"],[0.6666666666666666,\"#ed7953\"],[0.7777777777777778,\"#fb9f3a\"],[0.8888888888888888,\"#fdca26\"],[1.0,\"#f0f921\"]]},\"colorway\":[\"#636efa\",\"#EF553B\",\"#00cc96\",\"#ab63fa\",\"#FFA15A\",\"#19d3f3\",\"#FF6692\",\"#B6E880\",\"#FF97FF\",\"#FECB52\"],\"font\":{\"color\":\"#2a3f5f\"},\"geo\":{\"bgcolor\":\"white\",\"lakecolor\":\"white\",\"landcolor\":\"#E5ECF6\",\"showlakes\":true,\"showland\":true,\"subunitcolor\":\"white\"},\"hoverlabel\":{\"align\":\"left\"},\"hovermode\":\"closest\",\"mapbox\":{\"style\":\"light\"},\"paper_bgcolor\":\"white\",\"plot_bgcolor\":\"#E5ECF6\",\"polar\":{\"angularaxis\":{\"gridcolor\":\"white\",\"linecolor\":\"white\",\"ticks\":\"\"},\"bgcolor\":\"#E5ECF6\",\"radialaxis\":{\"gridcolor\":\"white\",\"linecolor\":\"white\",\"ticks\":\"\"}},\"scene\":{\"xaxis\":{\"backgroundcolor\":\"#E5ECF6\",\"gridcolor\":\"white\",\"gridwidth\":2,\"linecolor\":\"white\",\"showbackground\":true,\"ticks\":\"\",\"zerolinecolor\":\"white\"},\"yaxis\":{\"backgroundcolor\":\"#E5ECF6\",\"gridcolor\":\"white\",\"gridwidth\":2,\"linecolor\":\"white\",\"showbackground\":true,\"ticks\":\"\",\"zerolinecolor\":\"white\"},\"zaxis\":{\"backgroundcolor\":\"#E5ECF6\",\"gridcolor\":\"white\",\"gridwidth\":2,\"linecolor\":\"white\",\"showbackground\":true,\"ticks\":\"\",\"zerolinecolor\":\"white\"}},\"shapedefaults\":{\"line\":{\"color\":\"#2a3f5f\"}},\"ternary\":{\"aaxis\":{\"gridcolor\":\"white\",\"linecolor\":\"white\",\"ticks\":\"\"},\"baxis\":{\"gridcolor\":\"white\",\"linecolor\":\"white\",\"ticks\":\"\"},\"bgcolor\":\"#E5ECF6\",\"caxis\":{\"gridcolor\":\"white\",\"linecolor\":\"white\",\"ticks\":\"\"}},\"title\":{\"x\":0.05},\"xaxis\":{\"automargin\":true,\"gridcolor\":\"white\",\"linecolor\":\"white\",\"ticks\":\"\",\"title\":{\"standoff\":15},\"zerolinecolor\":\"white\",\"zerolinewidth\":2},\"yaxis\":{\"automargin\":true,\"gridcolor\":\"white\",\"linecolor\":\"white\",\"ticks\":\"\",\"title\":{\"standoff\":15},\"zerolinecolor\":\"white\",\"zerolinewidth\":2}}},\"title\":{\"text\":\"Marital_Status\"},\"xaxis\":{\"anchor\":\"y\",\"domain\":[0.0,1.0],\"title\":{\"text\":\"Marital_Status\"}},\"yaxis\":{\"anchor\":\"x\",\"domain\":[0.0,1.0],\"title\":{\"text\":\"Count of Customers\"}}},                        {\"responsive\": true}                    ).then(function(){\n",
       "                            \n",
       "var gd = document.getElementById('0a56320c-d77e-4348-b44f-cb6a3de68ac5');\n",
       "var x = new MutationObserver(function (mutations, observer) {{\n",
       "        var display = window.getComputedStyle(gd).display;\n",
       "        if (!display || display === 'none') {{\n",
       "            console.log([gd, 'removed!']);\n",
       "            Plotly.purge(gd);\n",
       "            observer.disconnect();\n",
       "        }}\n",
       "}});\n",
       "\n",
       "// Listen for the removal of the full notebook cells\n",
       "var notebookContainer = gd.closest('#notebook-container');\n",
       "if (notebookContainer) {{\n",
       "    x.observe(notebookContainer, {childList: true});\n",
       "}}\n",
       "\n",
       "// Listen for the clearing of the current output cell\n",
       "var outputEl = gd.closest('.output');\n",
       "if (outputEl) {{\n",
       "    x.observe(outputEl, {childList: true});\n",
       "}}\n",
       "\n",
       "                        })                };                });            </script>        </div>"
      ]
     },
     "metadata": {},
     "output_type": "display_data"
    }
   ],
   "source": [
    "df_plot = df[['Marital_Status', 'Cluster', 'ID']].groupby(['Marital_Status', 'Cluster']).count()\n",
    "df_plot.reset_index(inplace=True)\n",
    "df_plot.rename(columns={\"ID\":\"Count of Customers\"}, inplace=True)\n",
    "\n",
    "\n",
    "fig = px.bar(df_plot, x=\"Marital_Status\", y=\"Count of Customers\",\n",
    "             color='Cluster', barmode='group',\n",
    "             height=400)\n",
    "fig.update_layout(title=\"Marital_Status\")\n",
    "fig.show()"
   ]
  }
 ],
 "metadata": {
  "kernelspec": {
   "display_name": "Python 3",
   "language": "python",
   "name": "python3"
  },
  "language_info": {
   "codemirror_mode": {
    "name": "ipython",
    "version": 3
   },
   "file_extension": ".py",
   "mimetype": "text/x-python",
   "name": "python",
   "nbconvert_exporter": "python",
   "pygments_lexer": "ipython3",
   "version": "3.8.8"
  }
 },
 "nbformat": 4,
 "nbformat_minor": 5
}
